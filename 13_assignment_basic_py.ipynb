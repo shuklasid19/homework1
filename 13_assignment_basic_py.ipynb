{
  "nbformat": 4,
  "nbformat_minor": 0,
  "metadata": {
    "colab": {
      "name": "13_assignment_basic_py.ipynb",
      "provenance": [],
      "collapsed_sections": [],
      "authorship_tag": "ABX9TyO43yx5tWKesRWt9511WtTS",
      "include_colab_link": true
    },
    "kernelspec": {
      "name": "python3",
      "display_name": "Python 3"
    },
    "language_info": {
      "name": "python"
    }
  },
  "cells": [
    {
      "cell_type": "markdown",
      "metadata": {
        "id": "view-in-github",
        "colab_type": "text"
      },
      "source": [
        "<a href=\"https://colab.research.google.com/github/shuklasid19/homework1/blob/main/13_assignment_basic_py.ipynb\" target=\"_parent\"><img src=\"https://colab.research.google.com/assets/colab-badge.svg\" alt=\"Open In Colab\"/></a>"
      ]
    },
    {
      "cell_type": "code",
      "execution_count": null,
      "metadata": {
        "id": "mjewpIjTucAa"
      },
      "outputs": [],
      "source": [
        "#1. What advantages do Excel spreadsheets have over CSV spreadsheets?\n"
      ]
    },
    {
      "cell_type": "markdown",
      "source": [
        "\n",
        "\n",
        "```\n",
        "#In Excel we can easily view the data , manipulate, and easily concatenate the tables change the columns, \n",
        "can be only opened by the application \n",
        "MS Excel stands for Microsoft Excel.\n",
        "ms excel can make easy to read the large files\n",
        "we can do external linking of data from other sources and also the user can do custom add-ins.\n",
        "\n",
        "\n",
        "csv \n",
        "comma seperated value\n",
        "These files hold plain text as a series of values (cells) separated by commas (,) in a series of lines (rows).\n",
        "we can use the text editor to open the files \n",
        "its difficult to read large files\n",
        "\n",
        "```\n",
        "\n"
      ],
      "metadata": {
        "id": "T3DxGhBIunVK"
      }
    },
    {
      "cell_type": "markdown",
      "source": [
        "2.What do you pass to csv.reader() and csv.writer() to create reader and writer objects?\n",
        "\n",
        "\n",
        "\n",
        "```csv.reader( , 'r') for creating a reader obect\n",
        "\n",
        "csv.reader(csvfile, dialect='excel', **fmtparams)\n",
        "Return a reader object which will iterate over lines in the given csvfile\n",
        "\n",
        "\n",
        "csv.writer(csvfile, dialect='excel', **fmtparams)\n",
        "Return a writer object responsible for converting the user’s data into delimited strings on the given file-like object\n",
        "\n",
        "\n",
        "```\n",
        "\n"
      ],
      "metadata": {
        "id": "_oLBgmFsuji4"
      }
    },
    {
      "cell_type": "markdown",
      "source": [
        "3. What modes do File objects for reader and writer objects need to be opened in?\n",
        "\n",
        "\n",
        "\n",
        "```\n",
        "# ‘r’\tOpen a file for reading. (default)\n",
        "\n",
        "‘w’\tOpen a file for writing. Creates a new file if it does not exist or truncates the file if it exists.\n",
        "\n",
        "reading = open(\"py1.py\", mode = \"r\", encoding = 'utf-8')\n",
        "\n",
        "writing = open(\"py2.py\", mode = \"w\", encoding = 'utf-8')\n",
        "```\n",
        "\n"
      ],
      "metadata": {
        "id": "0UdPUB6k3EFt"
      }
    },
    {
      "cell_type": "code",
      "source": [
        ""
      ],
      "metadata": {
        "id": "3-l6BjmIyc2A"
      },
      "execution_count": null,
      "outputs": []
    },
    {
      "cell_type": "markdown",
      "source": [
        "4. What method takes a list argument and writes it to a CSV file?\n",
        "\n",
        "\n",
        "\n",
        "```\n",
        "\n",
        "\n",
        " csv.writer , writerow\n",
        "# This is formatted as code\n",
        "```\n",
        "\n"
      ],
      "metadata": {
        "id": "k2Tpg-G83MMj"
      }
    },
    {
      "cell_type": "markdown",
      "source": [
        "5. What do the keyword arguments delimiter and line terminator do?\n",
        "\n",
        "\n",
        "\n",
        "```\n",
        "# The delimiter is the character that appears between cells on a row\n",
        "the delimiter for a CSV file is a comma\n",
        "delimeter='\\t'\n",
        "\n",
        "\n",
        "The line terminator is the character that comes at the end of a row. By default, the line terminator is a newline\n",
        "lineterminator='\\n\\n'\n",
        "```\n",
        "\n"
      ],
      "metadata": {
        "id": "Edy1Lx283MQv"
      }
    },
    {
      "cell_type": "markdown",
      "source": [
        "6. What function takes a string of JSON data and returns a Python data structure?\n",
        "\n",
        "\n",
        "```\n",
        "# This is formatted as code\n",
        "import json\n",
        "\n",
        "# some JSON:\n",
        "x =  '{ \"name\":\"sid\", \"age\":24, \"city\":\"jabalpur\"}'\n",
        "\n",
        "# parse x:\n",
        "y = json.loads(x)\n",
        "\n",
        "# the result is a Python dictionary:\n",
        "print(y[\"city\"])\n",
        "\n",
        "\n",
        "\n",
        "```\n",
        "\n"
      ],
      "metadata": {
        "id": "D2Tusmtz3MUv"
      }
    },
    {
      "cell_type": "markdown",
      "source": [
        "7. What function takes a Python data structure and returns a string of JSON data?\n",
        "\n",
        "\n",
        "```\n",
        "# import json\n",
        "json.dump(['Welcome', \"to\", \"GeeksforGeeks\"])\n",
        "\n",
        "```\n",
        "\n",
        "\n",
        "\n"
      ],
      "metadata": {
        "id": "srPsG2X23MaW"
      }
    },
    {
      "cell_type": "code",
      "source": [
        ""
      ],
      "metadata": {
        "id": "OjUNsjQF3lTy"
      },
      "execution_count": null,
      "outputs": []
    }
  ]
}