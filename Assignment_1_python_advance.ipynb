{
  "nbformat": 4,
  "nbformat_minor": 0,
  "metadata": {
    "colab": {
      "name": "Assignment_1 .ipynb",
      "provenance": [],
      "collapsed_sections": [],
      "authorship_tag": "ABX9TyNd+nZmHna/5E4LkKgrnHjP",
      "include_colab_link": true
    },
    "kernelspec": {
      "name": "python3",
      "display_name": "Python 3"
    },
    "language_info": {
      "name": "python"
    }
  },
  "cells": [
    {
      "cell_type": "markdown",
      "metadata": {
        "id": "view-in-github",
        "colab_type": "text"
      },
      "source": [
        "<a href=\"https://colab.research.google.com/github/shuklasid19/homework1/blob/main/Assignment_1_python_advance.ipynb\" target=\"_parent\"><img src=\"https://colab.research.google.com/assets/colab-badge.svg\" alt=\"Open In Colab\"/></a>"
      ]
    },
    {
      "cell_type": "code",
      "execution_count": null,
      "metadata": {
        "id": "f24-Ln-D9C94"
      },
      "outputs": [],
      "source": [
        ""
      ]
    },
    {
      "cell_type": "markdown",
      "source": [
        "Q1. What is the purpose of Python's OOP?\n",
        "\n"
      ],
      "metadata": {
        "id": "QSd9u3RX9JLw"
      }
    },
    {
      "cell_type": "markdown",
      "source": [
        "Python oops is way of writing code.object oriented programming by which we can \n",
        "use classes, functions ,methods, object etc.\n",
        "we create objects to solve the problem.we use oops so we can our code \n",
        "reusable , we can write code which is going to be used repetitvily and use that for however many times we need.\n",
        "its a methodology which helps us in writing code in modular fashion.we can track of errors and maintainbility of code increases.\n",
        "much more understandable then normal programming procedure."
      ],
      "metadata": {
        "id": "DRxMz-E7LSug"
      }
    },
    {
      "cell_type": "markdown",
      "source": [
        "Q2. Where does an inheritance search look for an attribute?\n",
        "\n"
      ],
      "metadata": {
        "id": "cePhpbMM-qL1"
      }
    },
    {
      "cell_type": "markdown",
      "source": [
        "Python ensures that subclasses come before superclasses and classes earlier in a list of base classes come before classes later in a list of base classes.\n",
        "\n",
        "\n",
        "All of these objects are namespaces (packages of variables), and the inheritance search is simply a search of the tree from bottom to top looking for the lowest occurrence of an attribute name"
      ],
      "metadata": {
        "id": "xmHY1xPoKgJO"
      }
    },
    {
      "cell_type": "markdown",
      "source": [
        "Q3. How do you distinguish between a class object and an instance object?"
      ],
      "metadata": {
        "id": "kgXGwfef-xS6"
      }
    },
    {
      "cell_type": "code",
      "source": [
        "class obj:\n",
        "\n",
        "  def inst(self, alba, juice):\n",
        "    self.alba = alba\n",
        "    self.juice = juice\n",
        "\n"
      ],
      "metadata": {
        "id": "RYP0v4uwFq0R"
      },
      "execution_count": 22,
      "outputs": []
    },
    {
      "cell_type": "code",
      "source": [
        "blue = obj()\n",
        "#class object blue"
      ],
      "metadata": {
        "id": "UDYh7gDRGGJo"
      },
      "execution_count": 25,
      "outputs": []
    },
    {
      "cell_type": "code",
      "source": [
        "blue.inst(\"jessica\", \"josh\")"
      ],
      "metadata": {
        "id": "uVekLqC3GGM0"
      },
      "execution_count": 26,
      "outputs": []
    },
    {
      "cell_type": "code",
      "source": [
        "print( blue.alba, blue.juice)"
      ],
      "metadata": {
        "colab": {
          "base_uri": "https://localhost:8080/"
        },
        "id": "N8gyvHmXPlOG",
        "outputId": "5926d5d2-5649-48e2-fb12-f07e8acb0477"
      },
      "execution_count": 28,
      "outputs": [
        {
          "output_type": "stream",
          "name": "stdout",
          "text": [
            "jessica josh\n"
          ]
        }
      ]
    },
    {
      "cell_type": "markdown",
      "source": [
        "Q4. What makes the first argument in a class’s method function special?\n",
        "\n"
      ],
      "metadata": {
        "id": "C_v39vtZ-zFl"
      }
    },
    {
      "cell_type": "code",
      "source": [
        "class work:\n",
        "  def __init__(self, hours):\n",
        "    self.hour = hour\n",
        "\n"
      ],
      "metadata": {
        "id": "8yt54_6ZGFfq"
      },
      "execution_count": null,
      "outputs": []
    },
    {
      "cell_type": "markdown",
      "source": [
        "Q5. What is the purpose of the __init__ method?\n"
      ],
      "metadata": {
        "id": "ga9_sCOZ-zCO"
      }
    },
    {
      "cell_type": "markdown",
      "source": [
        "__init__ is a reserved method in python classes.its called a constructor object in python .\n",
        "__init__ method is used for initialize  the object in the  program. control when classs called goes first here then any other method in the class.\n",
        "\n",
        "we give self and other parameters.\n",
        "init is used to pass the data to the class.its how we interact with the class."
      ],
      "metadata": {
        "id": "8L8ipHDb_EDQ"
      }
    },
    {
      "cell_type": "code",
      "source": [
        "class listening:\n",
        "  def __init__(self, decibal, heartz):\n",
        "    self.decibal = decibal\n",
        "    self.heartz = heartz\n",
        "\n",
        "sound = listening(234, 345)\n",
        "print(sound.heartz, sound.decibal)"
      ],
      "metadata": {
        "colab": {
          "base_uri": "https://localhost:8080/"
        },
        "id": "YEkMH9R9AoC4",
        "outputId": "9ee5ef16-7f38-4e57-f923-d8a0520e1756"
      },
      "execution_count": null,
      "outputs": [
        {
          "output_type": "stream",
          "name": "stdout",
          "text": [
            "345 234\n"
          ]
        }
      ]
    },
    {
      "cell_type": "markdown",
      "source": [
        "Q6. What is the process for creating a class instance?"
      ],
      "metadata": {
        "id": "2tHHPpld-y-h"
      }
    },
    {
      "cell_type": "code",
      "source": [
        "class home:\n",
        "  def __init__(self, room, area, floor):\n",
        "    self.room = room\n",
        "    self.area = area\n",
        "    self.floor = floor\n",
        "\n",
        "myhouse = home(34,2400, 3)\n",
        "print(myhouse.room , myhouse.area, myhouse.floor)\n",
        "\n",
        "#we created class home and  instance myhouse so its instance of home."
      ],
      "metadata": {
        "colab": {
          "base_uri": "https://localhost:8080/"
        },
        "id": "Cuj-8KWzBimH",
        "outputId": "3fd97ade-2e8d-4f9f-c561-f6c0d0ee96a0"
      },
      "execution_count": null,
      "outputs": [
        {
          "output_type": "stream",
          "name": "stdout",
          "text": [
            "34 2400 3\n"
          ]
        }
      ]
    },
    {
      "cell_type": "markdown",
      "source": [
        "Q7. What is the process for creating a class?"
      ],
      "metadata": {
        "id": "fLsA8mVI-y7a"
      }
    },
    {
      "cell_type": "code",
      "source": [
        "class classname:\n",
        "  def __init__(self, parameter):\n",
        "    self.parameter = parameter\n",
        "\n",
        "#object = classname(parameters)\n",
        "\n",
        "#we use class keyword and then constructor method for initialization of values "
      ],
      "metadata": {
        "id": "qwt8z0zEDaHV"
      },
      "execution_count": null,
      "outputs": []
    },
    {
      "cell_type": "markdown",
      "source": [
        "Q8. How would you define the superclasses of a class?\n",
        "\n",
        "One of the important OOP features is Inheritance in Python. When a class inherits some or all of the behaviors from another class is known as Inheritance. In such a case, the inherited class is the subclass and the latter class is the parent class. \n",
        "In an inherited subclass, a parent class can be referred to with the use of the super() function. The super function returns a temporary object of the superclass that allows access to all of its methods to its child class."
      ],
      "metadata": {
        "id": "0EjalNE--y4U"
      }
    },
    {
      "cell_type": "markdown",
      "source": [
        "super keyword is used for creating a superclass \n",
        "parent class\n",
        "-----child class which inherited the values from parent class...\n",
        "\n",
        "suppose class of human beings and they all have 2 legs 2 hands 2 ear 2 eyes and 32 teeths in common where ever we go these properties remain same in our species.\n",
        "\n",
        "same for animal class god,cats  are part of animals. They also share common characteristics like –  \n",
        "\n",
        "They are mammals ,tail and four legs,  domestic animals.\n",
        "\n",
        "\n",
        "\n"
      ],
      "metadata": {
        "id": "wAKm5AB3-yzb"
      }
    },
    {
      "cell_type": "markdown",
      "source": [
        ""
      ],
      "metadata": {
        "id": "IjtULlKTH7w5"
      }
    },
    {
      "cell_type": "markdown",
      "source": [
        ""
      ],
      "metadata": {
        "id": "Wfc2Vn0H-yvq"
      }
    },
    {
      "cell_type": "code",
      "source": [
        "# Python program to demonstrate\n",
        "# super function\n",
        "\n",
        "\n",
        "class Animals:\n",
        "\t\n",
        "\t# Initializing constructor\n",
        "\tdef __init__(self):\n",
        "\t\tself.legs = 4\n",
        "\t\tself.domestic = True\n",
        "\t\tself.tail = True\n",
        "\t\tself.mammals = True\n",
        "\t\n",
        "\tdef isMammal(self):\n",
        "\t\tif self.mammals:\n",
        "\t\t\tprint(\"It is a mammal.\")\n",
        "\t\n",
        "\tdef isDomestic(self):\n",
        "\t\tif self.domestic:\n",
        "\t\t\tprint(\"It is a domestic animal.\")\n",
        "\t\n",
        "class Dogs(Animals):\n",
        "\tdef __init__(self):\n",
        "\t\tsuper().__init__()\n",
        "\n",
        "\tdef isMammal(self):\n",
        "\t\tsuper().isMammal()\n",
        "\n",
        "class Horses(Animals):\n",
        "\tdef __init__(self):\n",
        "\t\tsuper().__init__()\n",
        "\n",
        "\tdef hasTailandLegs(self):\n",
        "\t\tif self.tail and self.legs == 4:\n",
        "\t\t\tprint(\"Has legs and tail\")\n",
        "\n",
        "# Driver code\n",
        "Tom = Dogs()\n",
        "Tom.isMammal()\n",
        "\n"
      ],
      "metadata": {
        "colab": {
          "base_uri": "https://localhost:8080/"
        },
        "id": "I30_PN75GW5J",
        "outputId": "90b7b42c-3f1c-4d3c-d58d-8f046e94e342"
      },
      "execution_count": 9,
      "outputs": [
        {
          "output_type": "stream",
          "name": "stdout",
          "text": [
            "It is a mammal.\n",
            "Has legs and tail\n"
          ]
        }
      ]
    },
    {
      "cell_type": "code",
      "source": [
        "Bruno = Horses()\n",
        "Bruno.hasTailandLegs()"
      ],
      "metadata": {
        "id": "tXnD5t6E-kJp",
        "colab": {
          "base_uri": "https://localhost:8080/"
        },
        "outputId": "bceeb5f0-dfc8-4bc6-9b27-f30cdb7fd60a"
      },
      "execution_count": 10,
      "outputs": [
        {
          "output_type": "stream",
          "name": "stdout",
          "text": [
            "Has legs and tail\n"
          ]
        }
      ]
    }
  ]
}