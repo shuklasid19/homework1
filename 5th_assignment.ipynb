{
  "nbformat": 4,
  "nbformat_minor": 0,
  "metadata": {
    "colab": {
      "name": "5th assignment.ipynb",
      "provenance": [],
      "collapsed_sections": [],
      "authorship_tag": "ABX9TyOVV1AyHTAlGGN9YmbDI2pU",
      "include_colab_link": true
    },
    "kernelspec": {
      "name": "python3",
      "display_name": "Python 3"
    },
    "language_info": {
      "name": "python"
    }
  },
  "cells": [
    {
      "cell_type": "markdown",
      "metadata": {
        "id": "view-in-github",
        "colab_type": "text"
      },
      "source": [
        "<a href=\"https://colab.research.google.com/github/shuklasid19/homework1/blob/main/5th_assignment.ipynb\" target=\"_parent\"><img src=\"https://colab.research.google.com/assets/colab-badge.svg\" alt=\"Open In Colab\"/></a>"
      ]
    },
    {
      "cell_type": "code",
      "execution_count": null,
      "metadata": {
        "id": "kLYUU0-clrMk"
      },
      "outputs": [],
      "source": [
        "#1. What does an empty dictionary's code look like?\n",
        "dic =  {}"
      ]
    },
    {
      "cell_type": "code",
      "source": [
        "dic['a'] = 12\n"
      ],
      "metadata": {
        "id": "bRtohLcMmOvp"
      },
      "execution_count": null,
      "outputs": []
    },
    {
      "cell_type": "code",
      "source": [
        "dic"
      ],
      "metadata": {
        "colab": {
          "base_uri": "https://localhost:8080/"
        },
        "id": "wZ_eoNnRmVrJ",
        "outputId": "054ac3a4-377f-4120-bf6e-26ad22221418"
      },
      "execution_count": null,
      "outputs": [
        {
          "output_type": "execute_result",
          "data": {
            "text/plain": [
              "{'a': 12}"
            ]
          },
          "metadata": {},
          "execution_count": 10
        }
      ]
    },
    {
      "cell_type": "code",
      "source": [
        "#2. What is the value of a dictionary value with the key 'foo' and the value 42?\n",
        "#it will be 42 \n",
        "spam = {'foo':42}"
      ],
      "metadata": {
        "id": "vd23ERrfm2l5"
      },
      "execution_count": null,
      "outputs": []
    },
    {
      "cell_type": "code",
      "source": [
        "spam.values()"
      ],
      "metadata": {
        "colab": {
          "base_uri": "https://localhost:8080/"
        },
        "id": "TLy4sHzxm_ZQ",
        "outputId": "41b7953c-300f-4794-914f-f12800927112"
      },
      "execution_count": null,
      "outputs": [
        {
          "output_type": "execute_result",
          "data": {
            "text/plain": [
              "dict_values([42])"
            ]
          },
          "metadata": {},
          "execution_count": 20
        }
      ]
    },
    {
      "cell_type": "code",
      "source": [
        "#3. What is the most significant distinction between a dictionary and a list?\n",
        "#list are accessed by index and dicitonaries can be accessed by their key value\n",
        "#list does not have value key pair but dictionary does."
      ],
      "metadata": {
        "id": "AhzaoJRInBTw"
      },
      "execution_count": null,
      "outputs": []
    },
    {
      "cell_type": "code",
      "source": [
        "#4. What happens if you try to access spam['foo'] if spam is {'bar': 100}?\n",
        "spam['foo']\n",
        "#if we havent defined the value of key foo it will give error"
      ],
      "metadata": {
        "colab": {
          "base_uri": "https://localhost:8080/"
        },
        "id": "qzUWwDHUoVq8",
        "outputId": "bf6c68e5-25f3-40c1-b1cb-1b3f3a098cbb"
      },
      "execution_count": null,
      "outputs": [
        {
          "output_type": "execute_result",
          "data": {
            "text/plain": [
              "42"
            ]
          },
          "metadata": {},
          "execution_count": 23
        }
      ]
    },
    {
      "cell_type": "code",
      "source": [
        "#in this case if \n",
        "spam['bar'] = 100\n"
      ],
      "metadata": {
        "id": "SvnsbRX9oVsu"
      },
      "execution_count": null,
      "outputs": []
    },
    {
      "cell_type": "code",
      "source": [
        "#5. If a dictionary is stored in spam,\n",
        "# what is the difference between the expressions 'cat' in spam and 'cat' in spam.keys()?\n",
        "\n",
        "spam = {'cat':'dog', 'pet':'cat'}"
      ],
      "metadata": {
        "id": "kv0D_D31qCWg"
      },
      "execution_count": 30,
      "outputs": []
    },
    {
      "cell_type": "code",
      "source": [
        "spam['cat']\n",
        "#it will return us values"
      ],
      "metadata": {
        "colab": {
          "base_uri": "https://localhost:8080/",
          "height": 35
        },
        "id": "GtqYMrvSrXSY",
        "outputId": "8b20108c-a54e-4444-a1a3-2c95bc96093b"
      },
      "execution_count": 31,
      "outputs": [
        {
          "output_type": "execute_result",
          "data": {
            "application/vnd.google.colaboratory.intrinsic+json": {
              "type": "string"
            },
            "text/plain": [
              "'dog'"
            ]
          },
          "metadata": {},
          "execution_count": 31
        }
      ]
    },
    {
      "cell_type": "code",
      "source": [
        "spam.keys()\n",
        "#it will return us keys in dictionary"
      ],
      "metadata": {
        "colab": {
          "base_uri": "https://localhost:8080/"
        },
        "id": "6tU_Nztlrb8e",
        "outputId": "acc0e959-b6b8-428d-f5a1-a946671be083"
      },
      "execution_count": 32,
      "outputs": [
        {
          "output_type": "execute_result",
          "data": {
            "text/plain": [
              "dict_keys(['cat', 'pet'])"
            ]
          },
          "metadata": {},
          "execution_count": 32
        }
      ]
    },
    {
      "cell_type": "code",
      "source": [
        "#6. If a dictionary is stored in spam, what is the difference between the expressions 'cat' in spam and 'cat' in spam.values()?\n",
        "#spam = {'cat': 'dog', 'pet': 'cat'}\n",
        "#from the above statement we can see that one 'cat' act as key to the value 'dog ' and the other 'cat' will \n",
        "#act as value to key 'pet' and the statement spam.values() will print all the values present\n",
        " \n",
        "\n"
      ],
      "metadata": {
        "id": "1EUhgPiarb_d"
      },
      "execution_count": 38,
      "outputs": []
    },
    {
      "cell_type": "code",
      "source": [
        ""
      ],
      "metadata": {
        "id": "kw27lJ5KtU2l"
      },
      "execution_count": null,
      "outputs": []
    },
    {
      "cell_type": "code",
      "source": [
        "spam = {'cat': 'dog', 'pet': 'cat'}\n"
      ],
      "metadata": {
        "id": "NIa5BpzJs38K"
      },
      "execution_count": 40,
      "outputs": []
    },
    {
      "cell_type": "code",
      "source": [
        "spam.values()"
      ],
      "metadata": {
        "colab": {
          "base_uri": "https://localhost:8080/"
        },
        "id": "0Ew6_Y4gtMHJ",
        "outputId": "689bcbc2-c736-423b-9ede-ea6a8fff427e"
      },
      "execution_count": 41,
      "outputs": [
        {
          "output_type": "execute_result",
          "data": {
            "text/plain": [
              "dict_values(['dog', 'cat'])"
            ]
          },
          "metadata": {},
          "execution_count": 41
        }
      ]
    },
    {
      "cell_type": "code",
      "source": [
        "These will show the values of the dictionary "
      ],
      "metadata": {
        "id": "6Z5Ok281tOCo"
      },
      "execution_count": null,
      "outputs": []
    },
    {
      "cell_type": "code",
      "source": [
        ""
      ],
      "metadata": {
        "id": "aytIlL87tOFt"
      },
      "execution_count": null,
      "outputs": []
    },
    {
      "cell_type": "code",
      "source": [
        "\n",
        "7. What is a shortcut for the following code?\n",
        "if 'color' not in spam:\n",
        "spam['color'] = 'black'\n"
      ],
      "metadata": {
        "colab": {
          "base_uri": "https://localhost:8080/",
          "height": 200
        },
        "id": "FA8LYH9yoVv5",
        "outputId": "728048c7-5f1d-4e0f-e88f-556047a61495"
      },
      "execution_count": 29,
      "outputs": [
        {
          "output_type": "error",
          "ename": "NameError",
          "evalue": "ignored",
          "traceback": [
            "\u001b[0;31m---------------------------------------------------------------------------\u001b[0m",
            "\u001b[0;31mNameError\u001b[0m                                 Traceback (most recent call last)",
            "\u001b[0;32m<ipython-input-29-5d5844be8a2d>\u001b[0m in \u001b[0;36m<module>\u001b[0;34m()\u001b[0m\n\u001b[1;32m      1\u001b[0m \u001b[0;31m#7. What is a shortcut for the following code?\u001b[0m\u001b[0;34m\u001b[0m\u001b[0;34m\u001b[0m\u001b[0;34m\u001b[0m\u001b[0m\n\u001b[1;32m      2\u001b[0m \u001b[0;31m#if 'color' not in spam:\u001b[0m\u001b[0;34m\u001b[0m\u001b[0;34m\u001b[0m\u001b[0;34m\u001b[0m\u001b[0m\n\u001b[0;32m----> 3\u001b[0;31m \u001b[0mspam\u001b[0m\u001b[0;34m[\u001b[0m\u001b[0;34m'color'\u001b[0m\u001b[0;34m]\u001b[0m \u001b[0;34m=\u001b[0m \u001b[0;34m'black'\u001b[0m\u001b[0;34m\u001b[0m\u001b[0;34m\u001b[0m\u001b[0m\n\u001b[0m",
            "\u001b[0;31mNameError\u001b[0m: name 'spam' is not defined"
          ]
        }
      ]
    },
    {
      "cell_type": "code",
      "source": [
        "spam = {'color' : 'black'}"
      ],
      "metadata": {
        "id": "3Ie32-nPsRuN"
      },
      "execution_count": 35,
      "outputs": []
    },
    {
      "cell_type": "code",
      "source": [
        "spam"
      ],
      "metadata": {
        "colab": {
          "base_uri": "https://localhost:8080/"
        },
        "id": "LF76oG2msWfv",
        "outputId": "2f19354b-008e-49fd-b074-a12134e1e92e"
      },
      "execution_count": 36,
      "outputs": [
        {
          "output_type": "execute_result",
          "data": {
            "text/plain": [
              "{'color': 'black'}"
            ]
          },
          "metadata": {},
          "execution_count": 36
        }
      ]
    },
    {
      "cell_type": "code",
      "source": [
        "spam"
      ],
      "metadata": {
        "colab": {
          "base_uri": "https://localhost:8080/"
        },
        "id": "l8NCPz6uryhZ",
        "outputId": "11088abb-9e78-4484-abe1-6eb3b6559a9d"
      },
      "execution_count": 33,
      "outputs": [
        {
          "output_type": "execute_result",
          "data": {
            "text/plain": [
              "{'cat': 'dog', 'pet': 'cat'}"
            ]
          },
          "metadata": {},
          "execution_count": 33
        }
      ]
    },
    {
      "cell_type": "code",
      "source": [
        "#8. How do you \"pretty print\" dictionary values using which module and function?\n",
        "\n",
        "from pprint import pprint\n",
        "\n",
        "cities = {    'USA': {'Texas': {'Dallas':['Irving']}},'CANADA': {'BC': {'Vancouver':['North Van']}}}"
      ],
      "metadata": {
        "id": "IKOWdoPWo0XT"
      },
      "execution_count": 2,
      "outputs": []
    },
    {
      "cell_type": "code",
      "source": [
        "pprint(cities)"
      ],
      "metadata": {
        "colab": {
          "base_uri": "https://localhost:8080/"
        },
        "id": "RvTxtwz9n2Nk",
        "outputId": "97f9a6cb-e6ab-4d0a-e6d5-f0156713656a"
      },
      "execution_count": 3,
      "outputs": [
        {
          "output_type": "stream",
          "name": "stdout",
          "text": [
            "{'CANADA': {'BC': {'Vancouver': ['North Van']}},\n",
            " 'USA': {'Texas': {'Dallas': ['Irving']}}}\n"
          ]
        }
      ]
    }
  ]
}