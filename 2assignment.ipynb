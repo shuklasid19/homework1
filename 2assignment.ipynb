{
  "nbformat": 4,
  "nbformat_minor": 0,
  "metadata": {
    "colab": {
      "name": "2assignment.ipynb",
      "provenance": [],
      "collapsed_sections": [],
      "authorship_tag": "ABX9TyNAapBXWcUll0umQcXO0AoB",
      "include_colab_link": true
    },
    "kernelspec": {
      "name": "python3",
      "display_name": "Python 3"
    },
    "language_info": {
      "name": "python"
    }
  },
  "cells": [
    {
      "cell_type": "markdown",
      "metadata": {
        "id": "view-in-github",
        "colab_type": "text"
      },
      "source": [
        "<a href=\"https://colab.research.google.com/github/shuklasid19/homework1/blob/main/2assignment.ipynb\" target=\"_parent\"><img src=\"https://colab.research.google.com/assets/colab-badge.svg\" alt=\"Open In Colab\"/></a>"
      ]
    },
    {
      "cell_type": "markdown",
      "metadata": {
        "id": "ZWQxzRqnfIz_"
      },
      "source": [
        "1.What are the two values of the Boolean data type? How do you write them?"
      ]
    },
    {
      "cell_type": "code",
      "metadata": {
        "id": "V0Lq2FbufJlU",
        "colab": {
          "base_uri": "https://localhost:8080/"
        },
        "outputId": "3fe55153-58e5-480a-9fd0-30ef6e166dd0"
      },
      "source": [
        "#Two boolean data type \n",
        "#1.True \n",
        "#2.False\n",
        "a = True + True\n",
        "print(a)\n",
        "\n",
        "b = False - True\n",
        "print(b)"
      ],
      "execution_count": null,
      "outputs": [
        {
          "output_type": "stream",
          "name": "stdout",
          "text": [
            "2\n",
            "-1\n"
          ]
        }
      ]
    },
    {
      "cell_type": "code",
      "metadata": {
        "colab": {
          "base_uri": "https://localhost:8080/"
        },
        "id": "c9czeY7cfSGK",
        "outputId": "c2bbd614-cab6-472a-89a6-6725c1d47ffc"
      },
      "source": [
        "while True:\n",
        "  if True:\n",
        "    print(\"True or False\")\n",
        "    break;\n",
        "  \n",
        "print(0==1)\n",
        "\n"
      ],
      "execution_count": null,
      "outputs": [
        {
          "output_type": "stream",
          "text": [
            "True or False\n",
            "False\n"
          ],
          "name": "stdout"
        }
      ]
    },
    {
      "cell_type": "code",
      "metadata": {
        "colab": {
          "base_uri": "https://localhost:8080/"
        },
        "id": "HkEUEvTAgP7h",
        "outputId": "1e3443f3-7105-4d4b-e8f5-2f6170941ec9"
      },
      "source": [
        "print(1==1)"
      ],
      "execution_count": null,
      "outputs": [
        {
          "output_type": "stream",
          "text": [
            "True\n"
          ],
          "name": "stdout"
        }
      ]
    },
    {
      "cell_type": "markdown",
      "metadata": {
        "id": "SxHXL9Byfwy1"
      },
      "source": [
        "2. What are the three different types of Boolean operators?"
      ]
    },
    {
      "cell_type": "markdown",
      "metadata": {
        "id": "u5L1gZbxiTA0"
      },
      "source": [
        "We have 3 types of boolean operators..\n",
        "which are And, or and not..."
      ]
    },
    {
      "cell_type": "code",
      "metadata": {
        "colab": {
          "base_uri": "https://localhost:8080/"
        },
        "id": "Sn3yM9kLf4hX",
        "outputId": "b6e190a4-2160-484f-8e76-6acae6c81e21"
      },
      "source": [
        "#1.And both condtions have to be correct\n",
        "True and True"
      ],
      "execution_count": null,
      "outputs": [
        {
          "output_type": "execute_result",
          "data": {
            "text/plain": [
              "True"
            ]
          },
          "metadata": {
            "tags": []
          },
          "execution_count": 10
        }
      ]
    },
    {
      "cell_type": "code",
      "metadata": {
        "colab": {
          "base_uri": "https://localhost:8080/"
        },
        "id": "Zy-G2mjoh4_I",
        "outputId": "bb915abe-dda2-4fda-ce36-fcf0e27ece70"
      },
      "source": [
        "#2.Or any one of them is true it will return 1 or true\n",
        "True or False"
      ],
      "execution_count": null,
      "outputs": [
        {
          "output_type": "execute_result",
          "data": {
            "text/plain": [
              "True"
            ]
          },
          "metadata": {
            "tags": []
          },
          "execution_count": 11
        }
      ]
    },
    {
      "cell_type": "code",
      "metadata": {
        "colab": {
          "base_uri": "https://localhost:8080/"
        },
        "id": "ISl5j-Tqh5VS",
        "outputId": "4e3a3067-3b10-4dcb-e3cd-ffca799b3169"
      },
      "source": [
        "#3.not its like negative operator\n",
        "a=5\n",
        "a is not a"
      ],
      "execution_count": null,
      "outputs": [
        {
          "output_type": "execute_result",
          "data": {
            "text/plain": [
              "False"
            ]
          },
          "metadata": {
            "tags": []
          },
          "execution_count": 14
        }
      ]
    },
    {
      "cell_type": "code",
      "metadata": {
        "colab": {
          "base_uri": "https://localhost:8080/"
        },
        "id": "n-CKiTU2iO4Q",
        "outputId": "65ab5ef2-4779-4746-e909-926f0c720501"
      },
      "source": [
        "b = 10\n",
        "b is not a"
      ],
      "execution_count": null,
      "outputs": [
        {
          "output_type": "execute_result",
          "data": {
            "text/plain": [
              "True"
            ]
          },
          "metadata": {
            "tags": []
          },
          "execution_count": 15
        }
      ]
    },
    {
      "cell_type": "markdown",
      "metadata": {
        "id": "CTrZKGGsfw46"
      },
      "source": [
        "3. Make a list of each Boolean operator&#39;s truth tables (i.e. every possible combination of Boolean\n",
        "values for the operator and what it evaluate ).\n",
        "\n",
        "\n"
      ]
    },
    {
      "cell_type": "markdown",
      "metadata": {
        "id": "zB0tTVeoeouN"
      },
      "source": [
        ""
      ]
    },
    {
      "cell_type": "markdown",
      "metadata": {
        "id": "K5RZzpVilC49"
      },
      "source": [
        "4. What are the values of the following expressions?\n",
        "(5 &gt; 4) and (3 == 5)\n",
        "not (5 &gt; 4)\n",
        "(5 &gt; 4) or (3 == 5)\n",
        "not ((5 &gt; 4) or (3 == 5))\n",
        "(True and True) and (True == False)\n",
        "(not False) or (not True)"
      ]
    },
    {
      "cell_type": "code",
      "metadata": {
        "colab": {
          "base_uri": "https://localhost:8080/"
        },
        "id": "AYsqfA77itDI",
        "outputId": "bf2cad08-4193-4820-cf62-a9d1a5511c2b"
      },
      "source": [
        "(5>4) and (3==5)\n",
        "#because 5>4 return True and  returns False\n",
        "#1 and 0"
      ],
      "execution_count": null,
      "outputs": [
        {
          "output_type": "execute_result",
          "data": {
            "text/plain": [
              "False"
            ]
          },
          "metadata": {
            "tags": []
          },
          "execution_count": 19
        }
      ]
    },
    {
      "cell_type": "code",
      "metadata": {
        "id": "FFyc10_olda6",
        "colab": {
          "base_uri": "https://localhost:8080/"
        },
        "outputId": "8e975257-62fd-4ca0-ef6e-c714da6a7188"
      },
      "source": [
        "not (5>4)\n",
        "#5>4 will return True but not will change it into not True return False"
      ],
      "execution_count": 2,
      "outputs": [
        {
          "output_type": "execute_result",
          "data": {
            "text/plain": [
              "False"
            ]
          },
          "metadata": {},
          "execution_count": 2
        }
      ]
    },
    {
      "cell_type": "code",
      "metadata": {
        "colab": {
          "base_uri": "https://localhost:8080/"
        },
        "id": "mZRJA1ollRfs",
        "outputId": "71bd8b11-5177-40d1-aa0a-1a97c28998f6"
      },
      "source": [
        "(5>4) or (3==5)\n",
        "#5>4 will return True \n",
        "#and (3==5) False \n",
        "#True or False"
      ],
      "execution_count": null,
      "outputs": [
        {
          "output_type": "execute_result",
          "data": {
            "text/plain": [
              "True"
            ]
          },
          "metadata": {
            "tags": []
          },
          "execution_count": 22
        }
      ]
    },
    {
      "cell_type": "markdown",
      "metadata": {
        "id": "3HJs-kD_fw71"
      },
      "source": [
        ""
      ]
    },
    {
      "cell_type": "markdown",
      "metadata": {
        "id": "0Fmm6eIEfw-m"
      },
      "source": [
        ""
      ]
    },
    {
      "cell_type": "markdown",
      "metadata": {
        "id": "lz9mummsfxBU"
      },
      "source": [
        ""
      ]
    },
    {
      "cell_type": "markdown",
      "metadata": {
        "id": "JR2hZeP0fxD0"
      },
      "source": [
        ""
      ]
    },
    {
      "cell_type": "code",
      "metadata": {
        "id": "xWCftXrUfasV"
      },
      "source": [
        "def funct(a):\n",
        "  if a == 1:\n",
        "    print(\"spam\")\n",
        "  elif a==2:\n",
        "    print(\"howdy\")\n",
        "  else:\n",
        "    print(\"Greetings!\")"
      ],
      "execution_count": 3,
      "outputs": []
    },
    {
      "cell_type": "code",
      "metadata": {
        "colab": {
          "base_uri": "https://localhost:8080/"
        },
        "id": "tTn52CXai150",
        "outputId": "0f7ad74b-ef33-402c-c4a8-ced96fe9e13a"
      },
      "source": [
        "funct(0)"
      ],
      "execution_count": 6,
      "outputs": [
        {
          "output_type": "stream",
          "name": "stdout",
          "text": [
            "Greetings!\n"
          ]
        }
      ]
    },
    {
      "cell_type": "code",
      "metadata": {
        "id": "XlSgIIsyjvW_"
      },
      "source": [
        " \n",
        " \n",
        " \n",
        " \n",
        " \n",
        " \n"
      ],
      "execution_count": null,
      "outputs": []
    },
    {
      "cell_type": "code",
      "metadata": {
        "colab": {
          "base_uri": "https://localhost:8080/"
        },
        "id": "rJXXRXugkKvg",
        "outputId": "db46272c-dda1-47f5-b971-ff6d59569490"
      },
      "source": [
        "# Use of break statement inside the loop\n",
        "\n",
        "for val in \"string\":\n",
        "    if val == \"i\":\n",
        "        continue\n",
        "    print(val)\n",
        "\n",
        "print(\"The end\")"
      ],
      "execution_count": 12,
      "outputs": [
        {
          "output_type": "stream",
          "name": "stdout",
          "text": [
            "s\n",
            "t\n",
            "r\n",
            "n\n",
            "g\n",
            "The end\n"
          ]
        }
      ]
    },
    {
      "cell_type": "code",
      "metadata": {
        "colab": {
          "base_uri": "https://localhost:8080/"
        },
        "id": "UZ4uvp35mPCs",
        "outputId": "c6770ff7-45ad-42f9-88f5-105a06deb730"
      },
      "source": [
        "for i in range(10):\n",
        "  print(i)"
      ],
      "execution_count": 18,
      "outputs": [
        {
          "output_type": "stream",
          "name": "stdout",
          "text": [
            "0\n",
            "1\n",
            "2\n",
            "3\n",
            "4\n",
            "5\n",
            "6\n",
            "7\n",
            "8\n",
            "9\n"
          ]
        }
      ]
    },
    {
      "cell_type": "code",
      "metadata": {
        "id": "Aig0vHyrnIvo"
      },
      "source": [
        "a = 10\n",
        "i=0\n",
        "while True:\n",
        "  i = i+1\n",
        "  a = a-1\n",
        "print(i)"
      ],
      "execution_count": null,
      "outputs": []
    },
    {
      "cell_type": "markdown",
      "metadata": {
        "id": "aUN_IF_GikrY"
      },
      "source": [
        ""
      ]
    },
    {
      "cell_type": "markdown",
      "metadata": {
        "id": "xMoHlZDanlFb"
      },
      "source": [
        "10. How can you tell the difference between break and continue?"
      ]
    },
    {
      "cell_type": "code",
      "metadata": {
        "id": "AVwwlRhwnlqp"
      },
      "source": [
        "#break will stop the execution in the loop \n",
        "#continue will skip and give control to the loop"
      ],
      "execution_count": null,
      "outputs": []
    },
    {
      "cell_type": "code",
      "metadata": {
        "colab": {
          "base_uri": "https://localhost:8080/"
        },
        "id": "8SHe_nWmny4E",
        "outputId": "d6ce4735-718f-45e3-99ba-01ee591f0fdb"
      },
      "source": [
        "lis = [1,2,3,4,5]\n",
        "for i in range(len(lis)):\n",
        "  if lis[i]==3:\n",
        "    break\n",
        "  else:\n",
        "    print(lis[i])\n",
        "\n",
        "#so after it enters if and it will end the execution of the loop"
      ],
      "execution_count": null,
      "outputs": [
        {
          "output_type": "stream",
          "text": [
            "1\n",
            "2\n"
          ],
          "name": "stdout"
        }
      ]
    },
    {
      "cell_type": "code",
      "metadata": {
        "colab": {
          "base_uri": "https://localhost:8080/"
        },
        "id": "0ojYGinnoAkK",
        "outputId": "2753d8e7-9316-484c-a733-b5b883d6b6e8"
      },
      "source": [
        "lis = [1,2,3,4,5]\n",
        "for i in range(len(lis)):\n",
        "  if lis[i]==3:\n",
        "    continue\n",
        "  else:\n",
        "    print(lis[i])\n",
        "\n",
        "#it does not stop the whole execution it will \n",
        "#enter the if condition and skips \n",
        "#and continues... "
      ],
      "execution_count": null,
      "outputs": [
        {
          "output_type": "stream",
          "text": [
            "1\n",
            "2\n",
            "4\n",
            "5\n"
          ],
          "name": "stdout"
        }
      ]
    },
    {
      "cell_type": "markdown",
      "metadata": {
        "id": "0LVV6RtFpG0V"
      },
      "source": [
        "11.In a for loop, what is the difference between range(10), range(0, 10), and range(0, 10, 1)?"
      ]
    },
    {
      "cell_type": "markdown",
      "metadata": {
        "id": "_2O1q2h3paeX"
      },
      "source": [
        "Same range function step size as 1 and starts from 0\n",
        "if the parameters dont given by us..."
      ]
    },
    {
      "cell_type": "code",
      "metadata": {
        "colab": {
          "base_uri": "https://localhost:8080/"
        },
        "id": "Tsb9vcdIoO7-",
        "outputId": "b8233ef1-f110-4bb4-c0b7-7f04b61729c3"
      },
      "source": [
        "for i in range(10):\n",
        "  print(i)"
      ],
      "execution_count": null,
      "outputs": [
        {
          "output_type": "stream",
          "text": [
            "0\n",
            "1\n",
            "2\n",
            "3\n",
            "4\n",
            "5\n",
            "6\n",
            "7\n",
            "8\n",
            "9\n"
          ],
          "name": "stdout"
        }
      ]
    },
    {
      "cell_type": "code",
      "metadata": {
        "colab": {
          "base_uri": "https://localhost:8080/"
        },
        "id": "Vl3LX3vApOhq",
        "outputId": "aaeb38fd-675d-4219-abda-cf5f8995f009"
      },
      "source": [
        "for i in range(0, 10):\n",
        "  print(i)"
      ],
      "execution_count": null,
      "outputs": [
        {
          "output_type": "stream",
          "text": [
            "0\n",
            "1\n",
            "2\n",
            "3\n",
            "4\n",
            "5\n",
            "6\n",
            "7\n",
            "8\n",
            "9\n"
          ],
          "name": "stdout"
        }
      ]
    },
    {
      "cell_type": "code",
      "metadata": {
        "colab": {
          "base_uri": "https://localhost:8080/"
        },
        "id": "PL-8Tq7RpSe6",
        "outputId": "c7035dd6-6580-4b8a-95b8-d83f9ef8d987"
      },
      "source": [
        "for i in range(0, 10, 1):\n",
        "  print(i)"
      ],
      "execution_count": null,
      "outputs": [
        {
          "output_type": "stream",
          "text": [
            "0\n",
            "1\n",
            "2\n",
            "3\n",
            "4\n",
            "5\n",
            "6\n",
            "7\n",
            "8\n",
            "9\n"
          ],
          "name": "stdout"
        }
      ]
    },
    {
      "cell_type": "code",
      "metadata": {
        "id": "sr64-xu5pYJS"
      },
      "source": [
        "#9.If your programme is stuck in an endless loop, what keys you’ll press?"
      ],
      "execution_count": null,
      "outputs": []
    },
    {
      "cell_type": "code",
      "metadata": {
        "id": "2VLR0AdApq3_"
      },
      "source": [
        "#ctrl + c"
      ],
      "execution_count": null,
      "outputs": []
    },
    {
      "cell_type": "code",
      "metadata": {
        "id": "AWt42KtqpwM0"
      },
      "source": [
        "#12. Write a short program that prints the numbers 1 to 10 using a for loop. Then write an equivalent\n",
        "#program that prints the numbers 1 to 10 using a while loop."
      ],
      "execution_count": null,
      "outputs": []
    },
    {
      "cell_type": "code",
      "metadata": {
        "colab": {
          "base_uri": "https://localhost:8080/"
        },
        "id": "B96eDpJkpwyd",
        "outputId": "e8df57e2-9ec1-467e-e207-21d9bc93a158"
      },
      "source": [
        "for i in range(1, 11):\n",
        "  print(i , end=\" \")"
      ],
      "execution_count": null,
      "outputs": [
        {
          "output_type": "stream",
          "text": [
            "1 2 3 4 5 6 7 8 9 10 "
          ],
          "name": "stdout"
        }
      ]
    },
    {
      "cell_type": "code",
      "metadata": {
        "colab": {
          "base_uri": "https://localhost:8080/"
        },
        "id": "78fB-aFIpz1k",
        "outputId": "6b6b29b2-59fb-4279-ea95-b5d52327b8b0"
      },
      "source": [
        "start = 0\n",
        "while True:\n",
        "  if start>=10:\n",
        "    break\n",
        "  start=start+1\n",
        "  print(start, end=\" \")"
      ],
      "execution_count": null,
      "outputs": [
        {
          "output_type": "stream",
          "text": [
            "1 2 3 4 5 6 7 8 9 10 "
          ],
          "name": "stdout"
        }
      ]
    },
    {
      "cell_type": "code",
      "metadata": {
        "id": "QorugirGqCsY"
      },
      "source": [
        "def spam():\n",
        "  def bacon():\n",
        "    print(\"inside bacon\")\n",
        "  bacon()"
      ],
      "execution_count": null,
      "outputs": []
    },
    {
      "cell_type": "code",
      "metadata": {
        "id": "GYvbajaVdCXG"
      },
      "source": [
        "spam()"
      ],
      "execution_count": null,
      "outputs": []
    },
    {
      "cell_type": "code",
      "metadata": {
        "id": "zFM4Kf3Vn2hS"
      },
      "source": [
        "\n",
        "spam = 0\n",
        "if spam == 10:\n",
        "  print('eggs')\n",
        "  if spam > 5:\n",
        "    print('bacon')\n",
        "else:\n",
        "  print(\"ham\")\n",
        "  print(\"spam\")\n",
        "  print(\"spam\")"
      ],
      "execution_count": null,
      "outputs": []
    }
  ]
}