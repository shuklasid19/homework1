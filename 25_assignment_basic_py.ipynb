{
  "nbformat": 4,
  "nbformat_minor": 0,
  "metadata": {
    "colab": {
      "name": "25_assignment_basic_py.ipynb",
      "provenance": [],
      "authorship_tag": "ABX9TyP4ken8XD/a0rPmtcze7ObQ",
      "include_colab_link": true
    },
    "kernelspec": {
      "name": "python3",
      "display_name": "Python 3"
    },
    "language_info": {
      "name": "python"
    }
  },
  "cells": [
    {
      "cell_type": "markdown",
      "metadata": {
        "id": "view-in-github",
        "colab_type": "text"
      },
      "source": [
        "<a href=\"https://colab.research.google.com/github/shuklasid19/homework1/blob/main/25_assignment_basic_py.ipynb\" target=\"_parent\"><img src=\"https://colab.research.google.com/assets/colab-badge.svg\" alt=\"Open In Colab\"/></a>"
      ]
    },
    {
      "cell_type": "code",
      "execution_count": null,
      "metadata": {
        "id": "w5ewRKjQsFrc"
      },
      "outputs": [],
      "source": [
        ""
      ]
    },
    {
      "cell_type": "markdown",
      "source": [
        "1) . What is the difference between enclosing a list comprehension in square brackets and parentheses?\n"
      ],
      "metadata": {
        "id": "5FY-vNP-sdii"
      }
    },
    {
      "cell_type": "code",
      "source": [
        "a = [i for i in range(10)]"
      ],
      "metadata": {
        "id": "mI3eoMCwseV8"
      },
      "execution_count": 3,
      "outputs": []
    },
    {
      "cell_type": "code",
      "source": [
        "type(a)"
      ],
      "metadata": {
        "colab": {
          "base_uri": "https://localhost:8080/"
        },
        "id": "XhuKhXltsswc",
        "outputId": "b90c9ef1-42b3-4b4d-b740-a50984aef29f"
      },
      "execution_count": 4,
      "outputs": [
        {
          "output_type": "execute_result",
          "data": {
            "text/plain": [
              "list"
            ]
          },
          "metadata": {},
          "execution_count": 4
        }
      ]
    },
    {
      "cell_type": "code",
      "source": [
        "a = (i for i in range(10))"
      ],
      "metadata": {
        "id": "zoDWyURWszx5"
      },
      "execution_count": 9,
      "outputs": []
    },
    {
      "cell_type": "code",
      "source": [
        "type(a)"
      ],
      "metadata": {
        "colab": {
          "base_uri": "https://localhost:8080/"
        },
        "id": "tXgwci6Xs2Y3",
        "outputId": "ab2c0c2a-040e-4dad-8e72-8e18843c85ac"
      },
      "execution_count": 10,
      "outputs": [
        {
          "output_type": "execute_result",
          "data": {
            "text/plain": [
              "generator"
            ]
          },
          "metadata": {},
          "execution_count": 10
        }
      ]
    },
    {
      "cell_type": "code",
      "source": [
        "a"
      ],
      "metadata": {
        "colab": {
          "base_uri": "https://localhost:8080/"
        },
        "id": "I0IsKMc7s4sp",
        "outputId": "9107fe50-5429-4777-c710-48c8c2f38e9b"
      },
      "execution_count": 11,
      "outputs": [
        {
          "output_type": "execute_result",
          "data": {
            "text/plain": [
              "<generator object <genexpr> at 0x7f974c949d50>"
            ]
          },
          "metadata": {},
          "execution_count": 11
        }
      ]
    },
    {
      "cell_type": "code",
      "source": [
        "#as we can see it becomes a generator object if we use paranthesis\n",
        "#and if we use square brackets [] well these are used for defining list. "
      ],
      "metadata": {
        "id": "83CG9SzEs8jw"
      },
      "execution_count": null,
      "outputs": []
    },
    {
      "cell_type": "markdown",
      "source": [
        "2) What is the relationship between generators and iterators?\n",
        "\n",
        "\n",
        "```\n",
        "iterator is an object which can iterate over iterable objects like list,tuple, sets,etc.\n",
        "iterators are implemented using a class and a local var for iterating is not required here\n",
        "iter() keyword is used to create iterator containing an iterable object\n",
        "next() keyowrd is used to call next element in iterable object\n",
        "\n",
        "\n",
        "\n",
        "generator are implemented using function, \n",
        "yield statement is used \n",
        "they give value one at a time\n",
        "they dont store all values in memory\n",
        "execution will start from last yeild statement.\n",
        "local variables before yield function are stored\n",
        "generator mostly used in loops to generate an iterator by returning all \n",
        "values in the loop without affecting the iteration of loop\n",
        "\n",
        "```\n",
        "\n"
      ],
      "metadata": {
        "id": "UW-wBGAFtQvw"
      }
    },
    {
      "cell_type": "code",
      "source": [
        ""
      ],
      "metadata": {
        "id": "N4wO7ImWtR5H"
      },
      "execution_count": null,
      "outputs": []
    },
    {
      "cell_type": "markdown",
      "source": [
        ""
      ],
      "metadata": {
        "id": "G2d2-XchtweR"
      }
    },
    {
      "cell_type": "markdown",
      "source": [
        "3) What are the signs that a function is a generator function?\n",
        "\n",
        "\n",
        "\n",
        "```\n",
        "you can only iterate over once.\n",
        "they generate values on the fly and dont store all values in memory\n",
        "() use paranthesis \n",
        "It have yield statement in it\n",
        "```\n",
        "\n"
      ],
      "metadata": {
        "id": "Jn3sydlEtwgl"
      }
    },
    {
      "cell_type": "markdown",
      "source": [
        "4) What is the purpose of a yield statement?\n",
        "\n",
        "\n",
        "```\n",
        "yield is like return except the function would return a generator\n",
        "yield is a keyword used in generator functions , its purpose is it returns from a function without destroying the states of its local variable.\n",
        "when function is called the execution starts from the last yield statement.\n",
        "```\n",
        "\n"
      ],
      "metadata": {
        "id": "whJtebKmtwl4"
      }
    },
    {
      "cell_type": "markdown",
      "source": [
        "5) What is the relationship between map calls and list comprehensions? Make a comparison and contrast between the two.\n",
        "\n"
      ],
      "metadata": {
        "id": "XXNEHAMttwou"
      }
    },
    {
      "cell_type": "code",
      "source": [
        "def add_two(n):\n",
        "  return n + 2"
      ],
      "metadata": {
        "id": "l8_vSeCztxwj"
      },
      "execution_count": 12,
      "outputs": []
    },
    {
      "cell_type": "code",
      "source": [
        "alfa = [2,4,2,3]\n",
        "add = map(add_two, alfa)"
      ],
      "metadata": {
        "id": "6QulUkTI5uO-"
      },
      "execution_count": 14,
      "outputs": []
    },
    {
      "cell_type": "code",
      "source": [
        "list(add)"
      ],
      "metadata": {
        "colab": {
          "base_uri": "https://localhost:8080/"
        },
        "id": "eVjK29ri53eP",
        "outputId": "adb6114b-e0b4-4215-8168-b50783ce602f"
      },
      "execution_count": 15,
      "outputs": [
        {
          "output_type": "execute_result",
          "data": {
            "text/plain": [
              "[4, 6, 4, 5]"
            ]
          },
          "metadata": {},
          "execution_count": 15
        }
      ]
    },
    {
      "cell_type": "code",
      "source": [
        "[i+2 for i in alfa]"
      ],
      "metadata": {
        "colab": {
          "base_uri": "https://localhost:8080/"
        },
        "id": "WP4COYwy5_lw",
        "outputId": "d8d06160-c066-4c8d-a3c9-6919757358d4"
      },
      "execution_count": 16,
      "outputs": [
        {
          "output_type": "execute_result",
          "data": {
            "text/plain": [
              "[4, 6, 4, 5]"
            ]
          },
          "metadata": {},
          "execution_count": 16
        }
      ]
    },
    {
      "cell_type": "code",
      "source": [
        "#as we can see list comprehension is simpler configuration then the map function\n",
        "#list comprehension can be used together with filter conditions or methods,\n",
        "#map has no functionality.\n",
        "#map returns an object of iterable and list comprehension returns a list"
      ],
      "metadata": {
        "id": "0VQ8F57M6F3e"
      },
      "execution_count": 17,
      "outputs": []
    },
    {
      "cell_type": "code",
      "source": [
        ""
      ],
      "metadata": {
        "id": "G3_aXbvi75Vr"
      },
      "execution_count": null,
      "outputs": []
    }
  ]
}