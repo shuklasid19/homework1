{
  "nbformat": 4,
  "nbformat_minor": 0,
  "metadata": {
    "colab": {
      "name": "4th assignment.ipynb",
      "provenance": [],
      "collapsed_sections": [],
      "authorship_tag": "ABX9TyMX8WKJuPIaurX+xqR/vQ75",
      "include_colab_link": true
    },
    "kernelspec": {
      "name": "python3",
      "display_name": "Python 3"
    },
    "language_info": {
      "name": "python"
    }
  },
  "cells": [
    {
      "cell_type": "markdown",
      "metadata": {
        "id": "view-in-github",
        "colab_type": "text"
      },
      "source": [
        "<a href=\"https://colab.research.google.com/github/shuklasid19/homework1/blob/main/4th_assignment.ipynb\" target=\"_parent\"><img src=\"https://colab.research.google.com/assets/colab-badge.svg\" alt=\"Open In Colab\"/></a>"
      ]
    },
    {
      "cell_type": "code",
      "execution_count": null,
      "metadata": {
        "id": "qPOgLv96epsu"
      },
      "outputs": [],
      "source": [
        "#1. What exactly is []?\n",
        "\n",
        "#its used to define a list\n",
        "a = []"
      ]
    },
    {
      "cell_type": "code",
      "source": [
        "a.append(23)"
      ],
      "metadata": {
        "id": "5NZkZ2y-e4iT"
      },
      "execution_count": null,
      "outputs": []
    },
    {
      "cell_type": "code",
      "source": [
        "a"
      ],
      "metadata": {
        "colab": {
          "base_uri": "https://localhost:8080/"
        },
        "id": "w3xMPDlje81h",
        "outputId": "a45bb377-1c28-41dc-8f2c-7d373303857e"
      },
      "execution_count": null,
      "outputs": [
        {
          "output_type": "execute_result",
          "data": {
            "text/plain": [
              "[23]"
            ]
          },
          "metadata": {},
          "execution_count": 8
        }
      ]
    },
    {
      "cell_type": "code",
      "source": [
        "2. In a list of values stored in a variable called spam, how would you assign the value 'hello' as the third value? (Assume [2, 4, 6, 8, 10] are in spam.)\n",
        "Let's pretend the spam includes the list ['a', 'b', 'c', 'd'] for the next three queries.\n"
      ],
      "metadata": {
        "id": "L84qGFc_e84h"
      },
      "execution_count": null,
      "outputs": []
    },
    {
      "cell_type": "code",
      "source": [
        "spam = [2,4,6,8,10]"
      ],
      "metadata": {
        "id": "hV9zN7ABeyIW"
      },
      "execution_count": null,
      "outputs": []
    },
    {
      "cell_type": "code",
      "source": [
        "spam[2] = \"hello\""
      ],
      "metadata": {
        "id": "eFkVyl1WeyKW"
      },
      "execution_count": null,
      "outputs": []
    },
    {
      "cell_type": "code",
      "source": [
        "spam"
      ],
      "metadata": {
        "colab": {
          "base_uri": "https://localhost:8080/"
        },
        "id": "J10BXvKgeyMq",
        "outputId": "d911f770-baf8-4cde-fcf0-37515e1eac52"
      },
      "execution_count": null,
      "outputs": [
        {
          "output_type": "execute_result",
          "data": {
            "text/plain": [
              "[2, 4, 'hello', 8, 10]"
            ]
          },
          "metadata": {},
          "execution_count": 11
        }
      ]
    },
    {
      "cell_type": "code",
      "source": [
        "#we take the index number and then assign the value which we want to replace"
      ],
      "metadata": {
        "id": "FziqQOp-eyOm"
      },
      "execution_count": null,
      "outputs": []
    },
    {
      "cell_type": "code",
      "source": [
        "spam = ['a', 'b', 'c', 'd']"
      ],
      "metadata": {
        "id": "fa1lKde6eyQy"
      },
      "execution_count": null,
      "outputs": []
    },
    {
      "cell_type": "code",
      "source": [
        "3. What is the value of spam[int(int('3' * 2) / 11)]?\n",
        "#we will get 'd' because it will start solving from inside"
      ],
      "metadata": {
        "id": "eRGbd2TLeyVv"
      },
      "execution_count": null,
      "outputs": []
    },
    {
      "cell_type": "code",
      "source": [
        "int('3'*2)"
      ],
      "metadata": {
        "colab": {
          "base_uri": "https://localhost:8080/"
        },
        "id": "l8B1xELMgtc_",
        "outputId": "f9f4cff9-5d41-4ea3-c9df-6048615204de"
      },
      "execution_count": null,
      "outputs": [
        {
          "output_type": "execute_result",
          "data": {
            "text/plain": [
              "33"
            ]
          },
          "metadata": {},
          "execution_count": 22
        }
      ]
    },
    {
      "cell_type": "code",
      "source": [
        "int(int('3'*2))"
      ],
      "metadata": {
        "colab": {
          "base_uri": "https://localhost:8080/"
        },
        "id": "yZyZk0V2gwoD",
        "outputId": "117fae75-35a3-4938-8512-6e1d34cb0128"
      },
      "execution_count": null,
      "outputs": [
        {
          "output_type": "execute_result",
          "data": {
            "text/plain": [
              "33"
            ]
          },
          "metadata": {},
          "execution_count": 23
        }
      ]
    },
    {
      "cell_type": "code",
      "source": [
        "int(int('3'*2)/11)"
      ],
      "metadata": {
        "colab": {
          "base_uri": "https://localhost:8080/"
        },
        "id": "Rb61-gKdgwqZ",
        "outputId": "88a2b49e-2bdd-495c-d7ee-02867f1b6758"
      },
      "execution_count": null,
      "outputs": [
        {
          "output_type": "execute_result",
          "data": {
            "text/plain": [
              "3"
            ]
          },
          "metadata": {},
          "execution_count": 25
        }
      ]
    },
    {
      "cell_type": "code",
      "source": [
        "spam[int(int('3'*2)/11)]"
      ],
      "metadata": {
        "colab": {
          "base_uri": "https://localhost:8080/",
          "height": 35
        },
        "id": "MZGco8KhgwtL",
        "outputId": "dc60d35c-080a-4862-e9d3-3e3f658b36e4"
      },
      "execution_count": null,
      "outputs": [
        {
          "output_type": "execute_result",
          "data": {
            "application/vnd.google.colaboratory.intrinsic+json": {
              "type": "string"
            },
            "text/plain": [
              "'d'"
            ]
          },
          "metadata": {},
          "execution_count": 26
        }
      ]
    },
    {
      "cell_type": "code",
      "source": [
        "4. What is the value of spam[-1]?\n",
        "spam[-1]\n",
        "#because it starts index from backwards so -1 ='d' -2 = 'c' and so on"
      ],
      "metadata": {
        "colab": {
          "base_uri": "https://localhost:8080/",
          "height": 35
        },
        "id": "JOonuPL8gv_3",
        "outputId": "fb5fdfa3-f347-48eb-cff1-6f58c365fde1"
      },
      "execution_count": null,
      "outputs": [
        {
          "output_type": "execute_result",
          "data": {
            "application/vnd.google.colaboratory.intrinsic+json": {
              "type": "string"
            },
            "text/plain": [
              "'d'"
            ]
          },
          "metadata": {},
          "execution_count": 27
        }
      ]
    },
    {
      "cell_type": "code",
      "source": [
        "#5. What is the value of spam[:2]?\n",
        "#it tells to show values from starting index that is 0  til 2 but it will go til 1 index because its upperlimit\n",
        "#so\n",
        "spam[:2] "
      ],
      "metadata": {
        "colab": {
          "base_uri": "https://localhost:8080/"
        },
        "id": "tvep65L6gTY1",
        "outputId": "9472648c-517d-4196-a82b-79ed38d0bfc2"
      },
      "execution_count": null,
      "outputs": [
        {
          "output_type": "execute_result",
          "data": {
            "text/plain": [
              "['a', 'b']"
            ]
          },
          "metadata": {},
          "execution_count": 30
        }
      ]
    },
    {
      "cell_type": "code",
      "source": [
        "#6. What is the value of bacon.index('cat')?\n",
        "bacon = [3.14, 'cat', 11, 'cat', True]\n",
        "\n",
        "#bacon.index('cat')\n",
        "#the index starts from 0 so 'cat' are in 2 positions 1 and 3 but the 'cat' appears first so index 1 will be returnd"
      ],
      "metadata": {
        "id": "4Ou3GMVLhQ50"
      },
      "execution_count": null,
      "outputs": []
    },
    {
      "cell_type": "code",
      "source": [
        "bacon.index('cat')"
      ],
      "metadata": {
        "colab": {
          "base_uri": "https://localhost:8080/"
        },
        "id": "fhv94ifghvOv",
        "outputId": "b5b6083f-447b-4976-85be-e069cfc9f5e2"
      },
      "execution_count": null,
      "outputs": [
        {
          "output_type": "execute_result",
          "data": {
            "text/plain": [
              "1"
            ]
          },
          "metadata": {},
          "execution_count": 37
        }
      ]
    },
    {
      "cell_type": "code",
      "source": [
        "#7. How does bacon.append(99) change the look of the list value in bacon?\n",
        "bacon"
      ],
      "metadata": {
        "colab": {
          "base_uri": "https://localhost:8080/"
        },
        "id": "r0Y7Vn5ziTiH",
        "outputId": "a4f5dd39-5dcc-4101-b643-445c682d8ffe"
      },
      "execution_count": null,
      "outputs": [
        {
          "output_type": "execute_result",
          "data": {
            "text/plain": [
              "[3.14, 'cat', 11, 'cat', True]"
            ]
          },
          "metadata": {},
          "execution_count": 39
        }
      ]
    },
    {
      "cell_type": "code",
      "source": [
        "bacon.append(99)"
      ],
      "metadata": {
        "id": "EuRU8DxhirqT"
      },
      "execution_count": null,
      "outputs": []
    },
    {
      "cell_type": "code",
      "source": [
        "bacon"
      ],
      "metadata": {
        "colab": {
          "base_uri": "https://localhost:8080/"
        },
        "id": "bOj35odpiwnQ",
        "outputId": "6e3a450c-3127-4b0b-c84d-ee3b64e343af"
      },
      "execution_count": null,
      "outputs": [
        {
          "output_type": "execute_result",
          "data": {
            "text/plain": [
              "[3.14, 'cat', 11, 'cat', True, 99]"
            ]
          },
          "metadata": {},
          "execution_count": 41
        }
      ]
    },
    {
      "cell_type": "code",
      "source": [
        "#it will add it after the last value "
      ],
      "metadata": {
        "id": "94y4EmjGix36"
      },
      "execution_count": null,
      "outputs": []
    },
    {
      "cell_type": "code",
      "source": [
        "#8. How does bacon.remove('cat') change the look of the list in bacon?\n",
        "bacon.remove('cat')"
      ],
      "metadata": {
        "id": "YvGWlO3Qi5m4"
      },
      "execution_count": null,
      "outputs": []
    },
    {
      "cell_type": "code",
      "source": [
        "bacon\n",
        "#it has remove the 'cat' at index 1 "
      ],
      "metadata": {
        "colab": {
          "base_uri": "https://localhost:8080/"
        },
        "id": "BOMeJ-dzi5oo",
        "outputId": "cfe40fc0-4793-4f08-8b37-863d3138e2cf"
      },
      "execution_count": null,
      "outputs": [
        {
          "output_type": "execute_result",
          "data": {
            "text/plain": [
              "[3.14, 11, 'cat', True, 99]"
            ]
          },
          "metadata": {},
          "execution_count": 43
        }
      ]
    },
    {
      "cell_type": "code",
      "source": [
        "#9. What are the list concatenation and list replication operators?\n",
        "#list concatenation and list replication are addition of two list  and multiplication respectively."
      ],
      "metadata": {
        "id": "1J1MK62wi5r2"
      },
      "execution_count": null,
      "outputs": []
    },
    {
      "cell_type": "code",
      "source": [
        "l1 = [3,4, \"dim\"]\n",
        "l2 = [2, 5, \"witted\"]\n",
        "l1+l2 #list concatenation"
      ],
      "metadata": {
        "colab": {
          "base_uri": "https://localhost:8080/"
        },
        "id": "-UcTptsTfK9I",
        "outputId": "e5903abc-d13b-4568-fcae-73a852a4638b"
      },
      "execution_count": null,
      "outputs": [
        {
          "output_type": "execute_result",
          "data": {
            "text/plain": [
              "[3, 4, 'dim', 2, 5, 'witted']"
            ]
          },
          "metadata": {},
          "execution_count": 19
        }
      ]
    },
    {
      "cell_type": "code",
      "source": [
        "#multiplication\n",
        "a = ['alpacino'] * 4"
      ],
      "metadata": {
        "id": "kbSFDyijfR0C"
      },
      "execution_count": null,
      "outputs": []
    },
    {
      "cell_type": "code",
      "source": [
        "a"
      ],
      "metadata": {
        "colab": {
          "base_uri": "https://localhost:8080/"
        },
        "id": "UuEh7jSNfWKi",
        "outputId": "b59be589-b5b2-45c6-e074-588dfde216bc"
      },
      "execution_count": null,
      "outputs": [
        {
          "output_type": "execute_result",
          "data": {
            "text/plain": [
              "['alpacino', 'alpacino', 'alpacino', 'alpacino']"
            ]
          },
          "metadata": {},
          "execution_count": 21
        }
      ]
    },
    {
      "cell_type": "markdown",
      "source": [
        ""
      ],
      "metadata": {
        "id": "d-wlAdIde6nG"
      }
    },
    {
      "cell_type": "code",
      "source": [
        "#10. What is difference between the list methods append() and insert()?\n",
        "#append adds the value after the last value in the list \n",
        "spam = ['a', 'b']\n",
        "spam.append('c')\n",
        "print(spam)\n",
        "\n",
        "#insert adds value at a given index of the list\n",
        "spam.insert(2, 'd')\n",
        "#it will insert d at 2th index of spam list\n"
      ],
      "metadata": {
        "colab": {
          "base_uri": "https://localhost:8080/"
        },
        "id": "qlZMoDb9jICT",
        "outputId": "a587f536-cd81-47d3-d38b-9c3b0e13d7da"
      },
      "execution_count": null,
      "outputs": [
        {
          "output_type": "stream",
          "name": "stdout",
          "text": [
            "['a', 'b', 'c']\n"
          ]
        }
      ]
    },
    {
      "cell_type": "code",
      "source": [
        "spam"
      ],
      "metadata": {
        "colab": {
          "base_uri": "https://localhost:8080/"
        },
        "id": "TG0ubOmhjxuk",
        "outputId": "f17c0ca1-2bfd-41e3-a07c-11e7c751f3e2"
      },
      "execution_count": null,
      "outputs": [
        {
          "output_type": "execute_result",
          "data": {
            "text/plain": [
              "['a', 'b', 'd', 'c']"
            ]
          },
          "metadata": {},
          "execution_count": 50
        }
      ]
    },
    {
      "cell_type": "code",
      "source": [
        "#11. What are the two methods for removing items from a list?\n",
        "spam.remove('a')\n",
        "# it removes the value given inside the paranthesis from list"
      ],
      "metadata": {
        "id": "nQ029Q0zjY8A"
      },
      "execution_count": null,
      "outputs": []
    },
    {
      "cell_type": "code",
      "source": [
        "spam"
      ],
      "metadata": {
        "colab": {
          "base_uri": "https://localhost:8080/"
        },
        "id": "LsKSRRMWj1us",
        "outputId": "b9532f19-1b45-4a75-ef17-13659f9eb13d"
      },
      "execution_count": null,
      "outputs": [
        {
          "output_type": "execute_result",
          "data": {
            "text/plain": [
              "['b', 'd', 'c']"
            ]
          },
          "metadata": {},
          "execution_count": 52
        }
      ]
    },
    {
      "cell_type": "code",
      "source": [
        "spam.pop(0)\n",
        "#it removes value if we provide the index value from list"
      ],
      "metadata": {
        "colab": {
          "base_uri": "https://localhost:8080/",
          "height": 35
        },
        "id": "g4K_JNdVjl3c",
        "outputId": "8e1c0311-11a9-4495-b8e1-c64446dbbfac"
      },
      "execution_count": null,
      "outputs": [
        {
          "output_type": "execute_result",
          "data": {
            "application/vnd.google.colaboratory.intrinsic+json": {
              "type": "string"
            },
            "text/plain": [
              "'b'"
            ]
          },
          "metadata": {},
          "execution_count": 54
        }
      ]
    },
    {
      "cell_type": "code",
      "source": [
        "spam"
      ],
      "metadata": {
        "colab": {
          "base_uri": "https://localhost:8080/"
        },
        "id": "lGY69Khhj65g",
        "outputId": "a4a6a44a-de2a-47e3-993a-e81cae832873"
      },
      "execution_count": null,
      "outputs": [
        {
          "output_type": "execute_result",
          "data": {
            "text/plain": [
              "['d', 'c']"
            ]
          },
          "metadata": {},
          "execution_count": 55
        }
      ]
    },
    {
      "cell_type": "code",
      "source": [
        "12. Describe how list values and string values are identical.\n"
      ],
      "metadata": {
        "id": "U4N3YJgvj9x9"
      },
      "execution_count": null,
      "outputs": []
    },
    {
      "cell_type": "code",
      "source": [
        "#in list the values are identified by an index,\n",
        "# lists are similar to strings \n",
        "#which are ordered colection of characters,\n",
        "# except that the elements of a list can have any type\n",
        "lis = [\"a\", 23, {'asd':43}] "
      ],
      "metadata": {
        "id": "ST4iZOE6auop"
      },
      "execution_count": null,
      "outputs": []
    },
    {
      "cell_type": "code",
      "source": [
        "lis"
      ],
      "metadata": {
        "colab": {
          "base_uri": "https://localhost:8080/"
        },
        "id": "qY8OxUFQb4wK",
        "outputId": "f8c16f8f-2540-4229-efc3-f3d6170e44d0"
      },
      "execution_count": null,
      "outputs": [
        {
          "output_type": "execute_result",
          "data": {
            "text/plain": [
              "['a', 23, {'asd': 43}]"
            ]
          },
          "metadata": {},
          "execution_count": 2
        }
      ]
    },
    {
      "cell_type": "code",
      "source": [
        "stre = (\"aladas\", \"asd\", \"Asd\")"
      ],
      "metadata": {
        "id": "gdxFrjWWb9Af"
      },
      "execution_count": null,
      "outputs": []
    },
    {
      "cell_type": "code",
      "source": [
        "13. What's the difference between tuples and lists?\n",
        "#tuples and list are similar to each other list have []\n",
        "#and tuples () parantheses and we can any type of values in both \n",
        "##and tuples are immutable that means cant be changed after created but list can be"
      ],
      "metadata": {
        "id": "6gH0iJZJkNCg"
      },
      "execution_count": null,
      "outputs": []
    },
    {
      "cell_type": "code",
      "source": [
        ""
      ],
      "metadata": {
        "id": "nTeJNN1Gb6vZ"
      },
      "execution_count": null,
      "outputs": []
    },
    {
      "cell_type": "code",
      "source": [
        "#14. How do you type a tuple value that only contains the integer 42?\n",
        "tup = [32]\n"
      ],
      "metadata": {
        "id": "TA6spFRykNsj"
      },
      "execution_count": null,
      "outputs": []
    },
    {
      "cell_type": "code",
      "source": [
        "tup"
      ],
      "metadata": {
        "colab": {
          "base_uri": "https://localhost:8080/"
        },
        "id": "nuTsTo_Nc1JD",
        "outputId": "35c5ab72-9b4d-466c-a245-cb24f7bc619f"
      },
      "execution_count": null,
      "outputs": [
        {
          "output_type": "execute_result",
          "data": {
            "text/plain": [
              "[32]"
            ]
          },
          "metadata": {},
          "execution_count": 27
        }
      ]
    },
    {
      "cell_type": "code",
      "source": [
        "type(tup)"
      ],
      "metadata": {
        "colab": {
          "base_uri": "https://localhost:8080/"
        },
        "id": "zqHgZeMGc1Ov",
        "outputId": "fe1d5c16-add7-4320-9c07-0acdf13fd197"
      },
      "execution_count": null,
      "outputs": [
        {
          "output_type": "execute_result",
          "data": {
            "text/plain": [
              "list"
            ]
          },
          "metadata": {},
          "execution_count": 28
        }
      ]
    },
    {
      "cell_type": "markdown",
      "source": [
        ""
      ],
      "metadata": {
        "id": "yyS_2q4KcNKe"
      }
    },
    {
      "cell_type": "code",
      "source": [
        "15. How do you get a list value's tuple form? How do you get a tuple value's list form?"
      ],
      "metadata": {
        "id": "crVdly9KkNuO"
      },
      "execution_count": null,
      "outputs": []
    },
    {
      "cell_type": "code",
      "source": [
        "lis = [23, 'a']\n",
        "tupl  = tuple(lis)"
      ],
      "metadata": {
        "id": "BtmmfAg1c8Uj"
      },
      "execution_count": null,
      "outputs": []
    },
    {
      "cell_type": "code",
      "source": [
        "type(tupl)"
      ],
      "metadata": {
        "colab": {
          "base_uri": "https://localhost:8080/"
        },
        "id": "F4tkQrdReO-E",
        "outputId": "71131e1e-347f-48ce-e400-78d15081b6d6"
      },
      "execution_count": null,
      "outputs": [
        {
          "output_type": "execute_result",
          "data": {
            "text/plain": [
              "tuple"
            ]
          },
          "metadata": {},
          "execution_count": 16
        }
      ]
    },
    {
      "cell_type": "code",
      "source": [
        "tupl"
      ],
      "metadata": {
        "colab": {
          "base_uri": "https://localhost:8080/"
        },
        "id": "3sSE5_aNdKUz",
        "outputId": "366ddb29-f403-456d-c9fd-9871b5b8e069"
      },
      "execution_count": null,
      "outputs": [
        {
          "output_type": "execute_result",
          "data": {
            "text/plain": [
              "(23, 'a')"
            ]
          },
          "metadata": {},
          "execution_count": 14
        }
      ]
    },
    {
      "cell_type": "code",
      "source": [
        "lis = list(tupl)"
      ],
      "metadata": {
        "id": "380hXia4dr5H"
      },
      "execution_count": null,
      "outputs": []
    },
    {
      "cell_type": "code",
      "source": [
        "type(lis)"
      ],
      "metadata": {
        "colab": {
          "base_uri": "https://localhost:8080/"
        },
        "id": "Dh7vqKg9eUqA",
        "outputId": "5cae1d2a-9f6a-41c7-d7aa-ebc97bdc0ec0"
      },
      "execution_count": null,
      "outputs": [
        {
          "output_type": "execute_result",
          "data": {
            "text/plain": [
              "list"
            ]
          },
          "metadata": {},
          "execution_count": 18
        }
      ]
    },
    {
      "cell_type": "code",
      "source": [
        "16. Variables that \"contain\" list values are not necessarily lists themselves. Instead, what do they contain?\n",
        "a = [34,6,23,45]"
      ],
      "metadata": {
        "id": "x_atbYRfkNw4"
      },
      "execution_count": null,
      "outputs": []
    },
    {
      "cell_type": "code",
      "source": [
        "#Variables will contain the references to the list values."
      ],
      "metadata": {
        "id": "u08o1LpNeT6E"
      },
      "execution_count": null,
      "outputs": []
    },
    {
      "cell_type": "code",
      "source": [
        "17. How do you distinguish between copy.copy() and copy.deepcopy()?\n",
        "#copy.copy() will construct new object and will insert the reference of the object whereas\n",
        "#copy.deepcopy() will also construct a new object and then insert copies into the \n",
        "#object found into the original\n",
        "\n",
        "#copy and deepcopy creates new copy of the Variables\n",
        "#changes on original variable will not be reflected to copy variable and vice versa\n",
        "#.copy() doesnt creates copy of nested objects ,\n",
        "#instead it just copies the reference of nested objects.\n",
        "#. Deepcopy copies all the nested objects recursively.\n",
        "#in deep copy any change on copied variable will be seen on original and vice versaca"
      ],
      "metadata": {
        "id": "Oeav9tE3kNz1"
      },
      "execution_count": null,
      "outputs": []
    }
  ]
}