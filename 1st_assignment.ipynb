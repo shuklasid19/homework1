{
  "nbformat": 4,
  "nbformat_minor": 0,
  "metadata": {
    "colab": {
      "name": "1st assignment.ipynb",
      "provenance": [],
      "collapsed_sections": [],
      "authorship_tag": "ABX9TyNsxVOqts32OPvEKtTd10GO",
      "include_colab_link": true
    },
    "kernelspec": {
      "name": "python3",
      "display_name": "Python 3"
    },
    "language_info": {
      "name": "python"
    }
  },
  "cells": [
    {
      "cell_type": "markdown",
      "metadata": {
        "id": "view-in-github",
        "colab_type": "text"
      },
      "source": [
        "<a href=\"https://colab.research.google.com/github/shuklasid19/homework1/blob/main/1st_assignment.ipynb\" target=\"_parent\"><img src=\"https://colab.research.google.com/assets/colab-badge.svg\" alt=\"Open In Colab\"/></a>"
      ]
    },
    {
      "cell_type": "markdown",
      "metadata": {
        "id": "hB8LQVq3N_yz"
      },
      "source": [
        "1. In the below elements which of them are values or an expression? eg:- values can be integer or string and expressions will be mathematical operators."
      ]
    },
    {
      "cell_type": "code",
      "metadata": {
        "id": "HFrGN666OAcF"
      },
      "source": [
        "expressions are  = - / * + etc..\n",
        "value are = 6, \"hello\" , -87.8"
      ],
      "execution_count": null,
      "outputs": []
    },
    {
      "cell_type": "markdown",
      "metadata": {
        "id": "Cm-2SVM4OdTq"
      },
      "source": [
        "2. What is the difference between string and variable?"
      ]
    },
    {
      "cell_type": "code",
      "metadata": {
        "id": "xupGsjvqOf_p"
      },
      "source": [
        "#string is also a kind of variable \n",
        "#string can be made up of characters and variables , string is immutable on location .\n",
        "#variable value can be changed but string can not be changed...\n",
        "#variable are references we create for using in program \n",
        "#variable reference can vary but not of string\n",
        "#variables are used for storing values \n",
        "#a = 23\n",
        "\n",
        "#string can be stored in variable a =\"albert\".\n",
        "#string can be made of random characters."
      ],
      "execution_count": null,
      "outputs": []
    },
    {
      "cell_type": "markdown",
      "metadata": {
        "id": "wjMzjUJGP7iS"
      },
      "source": [
        "3. Describe three different data types."
      ]
    },
    {
      "cell_type": "markdown",
      "metadata": {
        "id": "bNXWVPMBQBg4"
      },
      "source": [
        "Data types-\n",
        "integer = int\n",
        "float = float\n",
        "string = str\n",
        "booleans\n",
        "\n",
        "int - whole numbers without decimals\n",
        "a = 32423\n",
        "we can define it this way\n",
        "\n",
        "\n",
        "float - floating value (decimals).\n",
        "b = 23.2\n",
        "\n",
        "string - characters defined by ''quotes or \"\" quotes\n",
        "c = \"alltogether\""
      ]
    },
    {
      "cell_type": "markdown",
      "metadata": {
        "id": "OofYhttLS-d3"
      },
      "source": [
        "4. What is an expression made up of? What do all expressions do?\n"
      ]
    },
    {
      "cell_type": "code",
      "metadata": {
        "id": "Tk9u95I4SjnL"
      },
      "source": [
        "#an expression can be defined as  combination of operations , constants , variables \n",
        "#such as addition subtractions multiplication\n",
        "#\n",
        "#these can be performed on variables \n",
        "#example name = \"siddharth\""
      ],
      "execution_count": null,
      "outputs": []
    },
    {
      "cell_type": "markdown",
      "metadata": {
        "id": "FTZvzQ2BaKls"
      },
      "source": [
        "5. This assignment statements, like spam = 10. What is the difference between an expression and a statement?"
      ]
    },
    {
      "cell_type": "code",
      "metadata": {
        "id": "c1fTvA8EZ4ap"
      },
      "source": [
        ""
      ],
      "execution_count": null,
      "outputs": []
    },
    {
      "cell_type": "code",
      "metadata": {
        "id": "7A2MFjePaNq8"
      },
      "source": [
        "#spam = 10\n",
        "# expressions are actions that we perform with variables\n",
        "# a+b a,b are operand + is operator\n",
        "#print is an expression\n",
        "\n",
        "#statement are like conditions that we give which performs some \n",
        "#action according to the condition.\n",
        "#if condtion:\n",
        "#elif condition:\n",
        "#its an statement\n"
      ],
      "execution_count": null,
      "outputs": []
    },
    {
      "cell_type": "markdown",
      "metadata": {
        "id": "ELMsIGZIZemq"
      },
      "source": [
        "6. After running the following code, what does the variable bacon contain?\n",
        "bacon = 22\n",
        "bacon + 1\n"
      ]
    },
    {
      "cell_type": "code",
      "metadata": {
        "colab": {
          "base_uri": "https://localhost:8080/"
        },
        "id": "0eFNNKbeZjH9",
        "outputId": "59e7bbf0-ed01-4811-8a2d-59c8490f8680"
      },
      "source": [
        "bacon = 22\n",
        "bacon + 1\n",
        "\n",
        "#we assign 22 value in variable bacon\n",
        "#bacon is a variable and the value 22 will be stored in bacon at some location\n",
        "#and we add 1 in bacon which is declared previously it becomes 23"
      ],
      "execution_count": null,
      "outputs": [
        {
          "output_type": "execute_result",
          "data": {
            "text/plain": [
              "23"
            ]
          },
          "metadata": {
            "tags": []
          },
          "execution_count": 30
        }
      ]
    },
    {
      "cell_type": "code",
      "metadata": {
        "colab": {
          "base_uri": "https://localhost:8080/"
        },
        "id": "YsVkqyW3a-6r",
        "outputId": "286714c7-8ba7-41cd-aaaa-9fc957201dd7"
      },
      "source": [
        ""
      ],
      "execution_count": null,
      "outputs": [
        {
          "output_type": "execute_result",
          "data": {
            "text/plain": [
              "23"
            ]
          },
          "metadata": {
            "tags": []
          },
          "execution_count": 1
        }
      ]
    },
    {
      "cell_type": "markdown",
      "metadata": {
        "id": "KF0jLwlVYarX"
      },
      "source": [
        "7. What should the values of the following two terms be?\n",
        "'spam' + 'spamspam'\n",
        "'spam' * 3\n"
      ]
    },
    {
      "cell_type": "code",
      "metadata": {
        "colab": {
          "base_uri": "https://localhost:8080/",
          "height": 35
        },
        "id": "QfgT7HfgYlGo",
        "outputId": "10a665d4-0e5f-4902-eb0c-a1dcf273dcd7"
      },
      "source": [
        "'spam' + 'spamspam'\n",
        "#it will add both the strings"
      ],
      "execution_count": null,
      "outputs": [
        {
          "output_type": "execute_result",
          "data": {
            "application/vnd.google.colaboratory.intrinsic+json": {
              "type": "string"
            },
            "text/plain": [
              "'spamspamspam'"
            ]
          },
          "metadata": {
            "tags": []
          },
          "execution_count": 28
        }
      ]
    },
    {
      "cell_type": "code",
      "metadata": {
        "colab": {
          "base_uri": "https://localhost:8080/",
          "height": 35
        },
        "id": "YUewSPKmZQXH",
        "outputId": "7e6019f9-9501-441c-b1e6-71e945c24f65"
      },
      "source": [
        "'spam'*3\n",
        "#it will multiply spam 3 times"
      ],
      "execution_count": null,
      "outputs": [
        {
          "output_type": "execute_result",
          "data": {
            "application/vnd.google.colaboratory.intrinsic+json": {
              "type": "string"
            },
            "text/plain": [
              "'spamspamspam'"
            ]
          },
          "metadata": {
            "tags": []
          },
          "execution_count": 29
        }
      ]
    },
    {
      "cell_type": "markdown",
      "metadata": {
        "id": "3U8Dg4TtXEod"
      },
      "source": [
        "8. Why is eggs a valid variable name while 100 is invalid?\n"
      ]
    },
    {
      "cell_type": "code",
      "metadata": {
        "id": "ia0m-JKSXMCq"
      },
      "source": [
        "# an integer can not store value\n",
        "#variable should not start with numbers 100 does\n",
        "eggs = 100 \n",
        "#when we assign eggs it becomes a variable which follows python rules for defining variable\n",
        "#100 does not thats why its invalid to store value its an integer..."
      ],
      "execution_count": null,
      "outputs": []
    },
    {
      "cell_type": "markdown",
      "metadata": {
        "id": "D3LlYNAMVc6a"
      },
      "source": [
        "9. What three functions can be used to get the integer, floating-point number, or string version of a value?"
      ]
    },
    {
      "cell_type": "code",
      "metadata": {
        "colab": {
          "base_uri": "https://localhost:8080/"
        },
        "id": "TV_6JuqzWBuD",
        "outputId": "118c701d-8dcb-47ad-8116-f359d3f83fa5"
      },
      "source": [
        "#suppose the value given \n",
        "a = 3443\n",
        "int(a)\n",
        "type(a)"
      ],
      "execution_count": null,
      "outputs": [
        {
          "output_type": "execute_result",
          "data": {
            "text/plain": [
              "int"
            ]
          },
          "metadata": {
            "tags": []
          },
          "execution_count": 17
        }
      ]
    },
    {
      "cell_type": "code",
      "metadata": {
        "colab": {
          "base_uri": "https://localhost:8080/"
        },
        "id": "4LOxoCzBWOSk",
        "outputId": "d37df085-0d99-4f61-8d71-657a79063b8d"
      },
      "source": [
        "b = \"ineuron\"\n",
        "str(b)\n",
        "type(b)"
      ],
      "execution_count": null,
      "outputs": [
        {
          "output_type": "execute_result",
          "data": {
            "text/plain": [
              "str"
            ]
          },
          "metadata": {
            "tags": []
          },
          "execution_count": 19
        }
      ]
    },
    {
      "cell_type": "code",
      "metadata": {
        "colab": {
          "base_uri": "https://localhost:8080/"
        },
        "id": "ZgaJETExWQ8L",
        "outputId": "65e3a856-8730-4d9e-c03b-dc11039455a9"
      },
      "source": [
        "c = 1243\n",
        "c = float(c)\n",
        "type(c)"
      ],
      "execution_count": null,
      "outputs": [
        {
          "output_type": "execute_result",
          "data": {
            "text/plain": [
              "float"
            ]
          },
          "metadata": {
            "tags": []
          },
          "execution_count": 23
        }
      ]
    },
    {
      "cell_type": "code",
      "metadata": {
        "id": "AWLxJPk8SSwa"
      },
      "source": [
        ""
      ],
      "execution_count": null,
      "outputs": []
    },
    {
      "cell_type": "markdown",
      "metadata": {
        "id": "UlQNud9QVdKu"
      },
      "source": [
        "10. Why does this expression cause an error? How can you fix it?\n",
        "'I have eaten ' + 99 + ' burritos.'\n"
      ]
    },
    {
      "cell_type": "code",
      "metadata": {
        "colab": {
          "base_uri": "https://localhost:8080/",
          "height": 35
        },
        "id": "id5OAm7nVjkv",
        "outputId": "09660aa7-259e-4ada-f73e-170039f6621f"
      },
      "source": [
        "#we are trying to add string with int datatype so we have to convert into string first \n",
        "#and then add\n",
        "\"i have eaten \" + str(99) + \" burritos\""
      ],
      "execution_count": null,
      "outputs": [
        {
          "output_type": "execute_result",
          "data": {
            "application/vnd.google.colaboratory.intrinsic+json": {
              "type": "string"
            },
            "text/plain": [
              "'i have eaten 99 burritos'"
            ]
          },
          "metadata": {
            "tags": []
          },
          "execution_count": 11
        }
      ]
    },
    {
      "cell_type": "code",
      "metadata": {
        "id": "ARFG17lTVz0N"
      },
      "source": [
        ""
      ],
      "execution_count": null,
      "outputs": []
    }
  ]
}