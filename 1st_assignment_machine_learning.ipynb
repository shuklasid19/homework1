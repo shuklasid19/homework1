{
  "nbformat": 4,
  "nbformat_minor": 0,
  "metadata": {
    "colab": {
      "name": "1st_assignment_machine_learning.ipynb",
      "provenance": [],
      "collapsed_sections": [],
      "authorship_tag": "ABX9TyPcxkF0AQIbKU/zquOd1dbD",
      "include_colab_link": true
    },
    "kernelspec": {
      "name": "python3",
      "display_name": "Python 3"
    },
    "language_info": {
      "name": "python"
    }
  },
  "cells": [
    {
      "cell_type": "markdown",
      "metadata": {
        "id": "view-in-github",
        "colab_type": "text"
      },
      "source": [
        "<a href=\"https://colab.research.google.com/github/shuklasid19/homework1/blob/main/1st_assignment_machine_learning.ipynb\" target=\"_parent\"><img src=\"https://colab.research.google.com/assets/colab-badge.svg\" alt=\"Open In Colab\"/></a>"
      ]
    },
    {
      "cell_type": "markdown",
      "source": [
        "1. What does one mean by the term \"machine learning\"?\n",
        "\n",
        "\n",
        "```\n",
        "# Machine learning is a sub-field of artificial intelligence, machine learning \n",
        "works by learning from examples or we can say data it uses statistical, mathematical model to predict future outcomes.\n",
        "\n",
        "machine learning is the field of study that gives computers the ability to learn by without being explicitly programmed.\n",
        "\n",
        "learning can be defined as understanding the patterns and try to use these patterns to predict when given input data.\n",
        "```\n",
        "\n"
      ],
      "metadata": {
        "id": "d5XST7jDVFuL"
      }
    },
    {
      "cell_type": "markdown",
      "source": [
        "2.Can you think of 4 distinct types of issues where it shines?\n",
        "\n",
        "\n",
        "```\n",
        "#\n",
        "repetitive things can be done with machine learning easily it can automate those task and as data changes we can retrain the data.\n",
        "\n",
        "complex problems which are not easily solved by traditional programming can be solved by machine learning its easy for mathematical models to solve.\n",
        "\n",
        "machine learning can be used in clustering of data either astronomical, finance etc.\n",
        "\n",
        "machine learning can help us in predicting values given that we are provided the data which will help in understanding the equation , making pattern which will our model stores and then we can predict for future values in data.\n",
        "\n",
        "```\n",
        "\n"
      ],
      "metadata": {
        "id": "5cciFzGWWDGx"
      }
    },
    {
      "cell_type": "markdown",
      "source": [
        "3.What is a labeled training set, and how does it work?\n",
        "\n",
        "\n",
        "```\n",
        "# training set is used in machine learning which helps the model to learn the patterns from dataset, a labeled training set is dataset which have labels which helps in supervising that helps us in training and as well as in checking that does our model performing upto the mark or not.\n",
        "we check the accuracy of our model by the help of labels is it correct or not.\n",
        "suppose were solving the regression problems and if we have to predict the sales\n",
        "we will have to check how far are we from the actual sales that will be the label . with help of this we can get to know how wrong or right our model is performing for each data points.\n",
        "\n",
        "```\n",
        "\n"
      ],
      "metadata": {
        "id": "Eq18pOXDU37n"
      }
    },
    {
      "cell_type": "markdown",
      "source": [
        "4.What are the two most important tasks that are supervised?\n",
        "\n",
        "\n",
        "```\n",
        "# classification - we try to classify different classes data points into their classes according to their properties , suppose we have to classify the animal types into herbivorous and carnivorous so we will train the model and then . we\n",
        "will use that model for predicting future data points to classify the animal types.\n",
        "That classification is the problem of predicting a dscreteite class label output.the classes cant be infinite they will be in small numbers example\n",
        "1 to 10 {0,1,2,3,4,5,7,8,9} multiclass classification\n",
        "or 2 class {1,2} binary classification\n",
        "\n",
        "# regression\n",
        "we have continous data in regression that we have to predict.suppose the house rent according to features provided in the dataset. so basically regression have continous values for prediction 423242.045 rs etc.\n",
        "```\n",
        "\n"
      ],
      "metadata": {
        "id": "jPcamTF4U1Ij"
      }
    },
    {
      "cell_type": "markdown",
      "source": [
        "5.Can you think of four examples of unsupervised tasks?\n",
        "\n",
        "\n",
        "unsupervised taks can be customer segmentation, agglomerative clustering, \n",
        "astronomical clustering.\n",
        "\n",
        "local outlier detection , anomaly detection, \n",
        "pca, \n",
        "\n",
        "we dont have labeled data to check the accuracy but we can try other methods to check how we are performing..\n",
        "\n"
      ],
      "metadata": {
        "id": "ihsOaa6ef--3"
      }
    },
    {
      "cell_type": "markdown",
      "source": [
        "6.State the machine learning model that would be best to make a robot walk through various unfamiliar terrains?\n",
        "\n",
        "\n",
        "```\n",
        "reinforcement learning can be the ml model that would be best to make robot walk .....\n",
        "```\n",
        "\n"
      ],
      "metadata": {
        "id": "0cBV3iI1f_CO"
      }
    },
    {
      "cell_type": "code",
      "source": [
        ""
      ],
      "metadata": {
        "id": "RyoEoSl3sR8W"
      },
      "execution_count": null,
      "outputs": []
    },
    {
      "cell_type": "markdown",
      "source": [
        "7.Which algorithm will you use to divide your customers into different groups?\n",
        "\n",
        "\n",
        "```\n",
        "well clustering algorithms can help for dividing the dataset into different groups.\n",
        "k means clustering\n",
        "agglomerative clustering\n",
        "hierarchical clustering\n",
        "etc.\n",
        "```\n",
        "\n"
      ],
      "metadata": {
        "id": "omCg53wosSVs"
      }
    },
    {
      "cell_type": "markdown",
      "source": [
        "8.Will you consider the problem of spam detection to be a supervised or unsupervised learning problem?\n",
        "\n",
        "\n",
        "```\n",
        "well any problem depends on dataset type.are we provided the label or not? \n",
        "if labels are provided then supervised and if not any labels are provided then unsupervised\n",
        "spam detection is supervised problem in which we are given emails examples and according to these words we have to learn the pattern and detect if the email is spam or not .\n",
        "or even if were not given labels as spam or not spam.we can use this as unsupervised problem if we remove labels and according to these emails similarities we can divide these emails into different groups.\n",
        "\n",
        "```\n",
        "\n"
      ],
      "metadata": {
        "id": "YR8T11e-sSZW"
      }
    },
    {
      "cell_type": "markdown",
      "source": [
        "9.What is the concept of an online learning system?\n",
        "\n",
        "#in online learning we dont feed the data to model fully at once\n",
        "we give the data into batches or mini batches if we have limited resources we can take advantage of this technique.\n",
        "we give data into small batches and then the data learns and the data learned will be discarded then another batch will be added to feed it to the model.\n",
        "data can be fed individually , or in groups ,sequentially etc.\n",
        "this way model learns on fly suppose data which comes in intervals such as stock market price or monthly sales , daily subscribers etc.\n",
        "we can see the model performance deteriorate if we fed the model bad data so we should monitor the data and model accuracy.\n",
        "\n"
      ],
      "metadata": {
        "id": "YDPDtvHhsSef"
      }
    },
    {
      "cell_type": "markdown",
      "source": [
        "10.What is out-of-core learning, and how does it differ from core learning?\n",
        "\n",
        "\n",
        "\n",
        "```\n",
        "#out of core learning is used because we have\n",
        "huge dataset which the machines main memory can not be able to load so we have to divide it into smaller groups and then feed it sequentially .\n",
        "\n",
        " out of core learning in which we can not store the data in the machine because it can not hold large amount of data at a time.so we have to divide the data into small parts and then learning happens on those small parts data one by one and once a part of the data has been fed it discards it.\n",
        "\n",
        "we feed the data sequentially or into mini-batches.each step is fast compared to core learning.\n",
        "it learns on the fly.system with continous flow use this method.\n",
        "\n",
        "\n",
        "```\n",
        "\n"
      ],
      "metadata": {
        "id": "nn_WdM07sShw"
      }
    },
    {
      "cell_type": "markdown",
      "source": [
        "11.What kind of learning algorithm makes predictions using a similarity measure?\n",
        "\n",
        "\n",
        "\n",
        "```\n",
        "# clustering algorithms use similarity measures\n",
        "they try to find similarity between data points and make cluster of similar points.\n",
        "k-means clustering ...\n",
        "```\n",
        "\n"
      ],
      "metadata": {
        "id": "5WJb4FGcsSk7"
      }
    },
    {
      "cell_type": "markdown",
      "source": [
        "12.What's the difference between a model parameter and a hyperparameter in a learning algorithm?\n",
        "\n",
        "\n",
        "\n",
        "```\n",
        "model parameters - suppose were solving a regreesion problem and were given 'theta1' and 'theta2' these values.\n",
        "we learn the model paramters by training data given to the model.\n",
        " \n",
        "\n",
        " we have to learn from given equation and which will happen when we feed the data to model so it will be our model parameter.\n",
        "\n",
        "we train the model to search for best model parameters which can reduce cost function . support vectors, coefficients in lin. regression,  ,weights,  etc. are example of parameters.\n",
        "\n",
        "\n",
        "\n",
        "hyperparameter - hyperparameters are something that we have to learn , or can be called learnable parameters . we dont know what will be the right value for the model.\n",
        "\n",
        "suppose the iteration of the data in model, n_iter, c value in logistic regression etc will be hyperparameters.\n",
        "\n",
        "grid search cv, kfold validaiton etc when we define these things by our self.\n",
        "these are called hyperparameters.\n",
        "\n",
        "these parameters decide how will the learning will happen etc...\n",
        "in knn algo we have hyperparameter which is k\n",
        "number of nearest neighbour.\n",
        "c and sigma hyperparameters for support vector machine\n",
        "```\n",
        "\n"
      ],
      "metadata": {
        "id": "QCrvVLCusSoA"
      }
    },
    {
      "cell_type": "markdown",
      "source": [
        "13.What are the criteria that model-based learning algorithms look for? What is the most popular method they use to achieve success? What method do they use to make predictions?\n",
        "\n",
        "\n",
        "\n",
        "```\n",
        "# model based learning can use fitness function which can tell us how good our model fitted or how good our model is.or we can use \n",
        "\n",
        "\n",
        "cost function - which tells us the errors that our model makes or how bad our model is.\n",
        "\n",
        "\n",
        "\n",
        "```\n",
        "\n"
      ],
      "metadata": {
        "id": "PV6sM5_wsS_q"
      }
    },
    {
      "cell_type": "markdown",
      "source": [
        "14.Can you name four of the most important Machine Learning challenges?\n",
        "\n",
        "\n",
        "\n",
        "```\n",
        "# the better our data the better our model will be in real world...\n",
        "\n",
        "# if we have insufficient quantity of training data then we will have bad model because to generalize we need data and less points mean less information for model aka  resulting in bad model .\n",
        "\n",
        "if we got data which does not represent all of the population of the data what it means if suppose in a nation of multiple group of ethinicity.\n",
        "white are more \n",
        "and brown and black are less \n",
        "to get the proper understanding of what people want from their government we need to ask every group but because some ethinicity is large then only their demands will be heard and other groups will be left out.\n",
        "this is called nonreprestative training data.\n",
        "\n",
        "it will ruin the model accuracy cause it will not generalize well\n",
        "\n",
        "#suppose data quality is not good we have errors in the data , have lots of outliers, missing values.\n",
        "\n",
        "\n",
        "# non imporatant features which do not add any value to our model so we can drop irrerelevant features\n",
        "```\n",
        "\n"
      ],
      "metadata": {
        "id": "UpPBfeKtsTDa"
      }
    },
    {
      "cell_type": "markdown",
      "source": [
        ""
      ],
      "metadata": {
        "id": "nhqB1TlSsTMd"
      }
    },
    {
      "cell_type": "markdown",
      "source": [
        ""
      ],
      "metadata": {
        "id": "m2sdRtUQsTPU"
      }
    },
    {
      "cell_type": "markdown",
      "source": [
        ""
      ],
      "metadata": {
        "id": "js0xt-4jsTSi"
      }
    },
    {
      "cell_type": "markdown",
      "source": [
        ""
      ],
      "metadata": {
        "id": "QiukNMsqsTVs"
      }
    },
    {
      "cell_type": "markdown",
      "source": [
        "15.What happens if the model performs well on the training data but fails to generalize the results to new situations? Can you think of three different options\n",
        "\n",
        "Our model give good accuracy in training and in testing it doesnt perform well then \n",
        "Overfitting happens it can be due to multiple reasons our model might be too complex . So we can use simpler models and with less parameters.\n",
        "\n",
        "Use fewer features as it can happen that the some features are not important for model so we can drop them or use pca etc.\n",
        "\n",
        "or were feeding bad data or noisy data.\n",
        "We can remove outliers,remove errors and missing value imputation etc.."
      ],
      "metadata": {
        "id": "UgcCol-6sTYx"
      }
    },
    {
      "cell_type": "markdown",
      "source": [
        "16.What exactly is a test set, and why would you need one?\n",
        "\n",
        "well as the name suggests that test set is used for testing our model accuracy.\n",
        "in machine learning we have dataset for model and then for training we have to divide the dataset into training and testing.\n",
        "in training phase model learns from the data , finds patterns and store for future so we can use for predicting unseen points.\n",
        "\n",
        "test set is used to check if our model is predicting output correctly or not if we train and test on same single dataset then it will only perform good for the that points."
      ],
      "metadata": {
        "id": "zyjQaU0Sf_Fy"
      }
    },
    {
      "cell_type": "markdown",
      "source": [
        "17.What is a validation set's purpose?\n",
        "\n",
        "To make sure that our model is not overfitting.\n",
        "\n",
        "when we train our model in with train and test set and it gives accuracy of 80%. we can not say that it will perform good on future unseen points and our model is good for new points.\n",
        "\n",
        "to overcome this we came up with this  method which is called cross validation.\n",
        "In which we holdout some amount of data and then we use this part to test our model and test part does not get compromised.\n",
        "so basically we have 3 splits\n",
        "train and test firstly of 80% and 20%\n",
        "then from train part 60% train and 20% for cv.\n",
        "\n",
        "so w'ill train our model on train and to find hyperparameters we can use cv part.\n",
        "\n",
        "and test set still be unused so if we test our data on test set it will give the best model because we didnt need test set for finding the right hyperparamters , parameters and its untouched til last.\n",
        "we can check accuracy and that accuracy will hold for the unseen new points.....  "
      ],
      "metadata": {
        "id": "M0hy9u_yf_KG"
      }
    },
    {
      "cell_type": "markdown",
      "source": [
        "18.What precisely is the train-dev kit, when will you need it, how do you put it to use?\n",
        "\n",
        "\n",
        "we need to find the best parameters of the model and best model out of all other available ones.\n",
        "\n",
        "\n",
        "we can divide our dataset in parts suppose training and testing \n",
        "then trainig will be further divided into train and cross-val or holdout dataset.\n",
        "\n",
        "normally we use training set for the hyperparameter tuning and then we can check our model in cv dataset after that we can select the model which performs best in cv set.\n",
        "\n",
        "then use both training and cv for trainig of the model and test it on the testing set. \n",
        "\n"
      ],
      "metadata": {
        "id": "woYtZt-Lf_NB"
      }
    },
    {
      "cell_type": "markdown",
      "source": [
        "19.What could go wrong if you use the test set to tune hyperparameters?\n",
        "\n",
        "\n",
        "```\n",
        "# we use test set to check our model accuracy and if we use test set to tune hyperparameters then it would not be good for our model accuracy, our model would not perform properly.it will be tuned for test set which give good accuracy for only test set not for future unseen points.\n",
        "\n",
        "we can divide our dataset in parts suppose training and testing \n",
        "then trainig will be further divided into train and cross-val or holdout dataset.\n",
        "\n",
        "normally we use training set for the hyperparameter tuning and then we can check our model in cv dataset after that we can select the model which performs best in cv set.\n",
        "\n",
        "then use both training and cv for trainig of the model and test it on the testing set. \n",
        "```"
      ],
      "metadata": {
        "id": "MJULtPC5f_Pv"
      }
    },
    {
      "cell_type": "code",
      "source": [
        ""
      ],
      "metadata": {
        "id": "ObiidFduESH7"
      },
      "execution_count": null,
      "outputs": []
    }
  ]
}