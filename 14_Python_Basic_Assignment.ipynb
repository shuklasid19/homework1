{
  "nbformat": 4,
  "nbformat_minor": 0,
  "metadata": {
    "colab": {
      "name": "14_Python_Basic_Assignment.ipynb",
      "provenance": [],
      "authorship_tag": "ABX9TyOtzR+zPBlH8hid1lWxKvQc",
      "include_colab_link": true
    },
    "kernelspec": {
      "name": "python3",
      "display_name": "Python 3"
    },
    "language_info": {
      "name": "python"
    }
  },
  "cells": [
    {
      "cell_type": "markdown",
      "metadata": {
        "id": "view-in-github",
        "colab_type": "text"
      },
      "source": [
        "<a href=\"https://colab.research.google.com/github/shuklasid19/homework1/blob/main/14_Python_Basic_Assignment.ipynb\" target=\"_parent\"><img src=\"https://colab.research.google.com/assets/colab-badge.svg\" alt=\"Open In Colab\"/></a>"
      ]
    },
    {
      "cell_type": "code",
      "execution_count": null,
      "metadata": {
        "id": "gSyopSSo_EhP"
      },
      "outputs": [],
      "source": [
        ""
      ]
    },
    {
      "cell_type": "markdown",
      "source": [
        "1. What does RGBA stand for?\n",
        "\n",
        "```\n",
        "# This is formatted as code\n",
        "Red-Green-Blue-Alpha\n",
        "RGBA(Red-Green-Blue-Alpha)\n",
        "\n",
        "The RGB color model is extended in this specification to include “alpha” to allow specification of the opacity of a color.\n",
        "```\n",
        "\n"
      ],
      "metadata": {
        "id": "2Pll5VOQ_Nt1"
      }
    },
    {
      "cell_type": "markdown",
      "source": [
        "2. From the Pillow module, how do you get the RGBA value of any images?\n",
        "\n",
        "```\n",
        "from PIL import Image\n",
        "\n",
        "\n",
        "\n",
        "img = Image.open(‘image.png’)\n",
        "rgba = img.convert(“RGBA”)\n",
        "datas = rgba.getdata()\n",
        "\n",
        "ImageColor.getcolor() gives rgba value of any image\n",
        "\n",
        "\n",
        "\n",
        "\n",
        "# This is formatted as code\n",
        "```\n",
        "\n"
      ],
      "metadata": {
        "id": "_N2uahMN_i3h"
      }
    },
    {
      "cell_type": "markdown",
      "source": [
        "3. What is a box tuple, and how does it work?"
      ],
      "metadata": {
        "id": "aFobXzlcahhv"
      }
    },
    {
      "cell_type": "markdown",
      "source": [
        "Ans: A box tuple is a tuple value of four integers: the left-edge x-coordinate, the top-edge y-coordinate,the width, and the height, respectively."
      ],
      "metadata": {
        "id": "9Rnw2MxRafGS"
      }
    },
    {
      "cell_type": "markdown",
      "source": [
        "4. Use your image and load in notebook then, How can you find out the width and height of an Image object?"
      ],
      "metadata": {
        "id": "Z2SRrWnEacKD"
      }
    },
    {
      "cell_type": "code",
      "source": [
        "#Example Program\n",
        "from PIL import Image\n",
        "pic = Image.open('Pic.jpg')\n",
        "print(f'Width, Height -> {pic.size}') # Approach 1\n",
        "print(f'Width, Height -> {pic.width},{pic.height}') # Approach 2\n",
        "width,height = pic.size\n",
        "print(f'Width, Height -> {width},{height}') # Approach 3"
      ],
      "metadata": {
        "id": "E-81FM2baaua"
      },
      "execution_count": null,
      "outputs": []
    },
    {
      "cell_type": "markdown",
      "source": [
        "5. What method would you call to get Image object for a 100×100 image, excluding the lower-left quarter of it?"
      ],
      "metadata": {
        "id": "f5GyslRoaYlq"
      }
    },
    {
      "cell_type": "code",
      "source": [
        "from PIL import Image\n",
        "img = Image.open('Pic.jpg')\n",
        "new_img = img.crop((0,50,50,50))"
      ],
      "metadata": {
        "id": "XD9QNJwDaWrz"
      },
      "execution_count": null,
      "outputs": []
    },
    {
      "cell_type": "markdown",
      "source": [
        "6. After making changes to an Image object, how could you save it as an image file?"
      ],
      "metadata": {
        "id": "1rQlEyHBaTOH"
      }
    },
    {
      "cell_type": "code",
      "source": [
        "#Example Program\n",
        "from PIL import Image\n",
        "pic = Image.open('pic.jpg')\n",
        "pic.save('pic2.jpg')"
      ],
      "metadata": {
        "id": "QdD0Kt8MaTx8"
      },
      "execution_count": null,
      "outputs": []
    },
    {
      "cell_type": "markdown",
      "source": [
        "7. What module contains Pillow’s shape-drawing code?\n",
        "Ans: Pillows ImageDraw module contains Shape drawing methods"
      ],
      "metadata": {
        "id": "tFWy7TqmaRdI"
      }
    },
    {
      "cell_type": "markdown",
      "source": [
        "8. Image objects do not have drawing methods. What kind of object does? How do you get this kind of object?\n"
      ],
      "metadata": {
        "id": "ttNbr_FCaMgG"
      }
    },
    {
      "cell_type": "code",
      "source": [
        "Ans: ImageDraw objects have shape-drawing methods such as point(), line(), or rectangle().They are returned by passing the Image object to the ImageDraw.Draw() function."
      ],
      "metadata": {
        "id": "nAfdJHC9_R0U"
      },
      "execution_count": null,
      "outputs": []
    }
  ]
}