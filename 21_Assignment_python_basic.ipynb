{
  "nbformat": 4,
  "nbformat_minor": 0,
  "metadata": {
    "colab": {
      "name": "21_Assignment_python_basic.ipynb",
      "provenance": [],
      "authorship_tag": "ABX9TyNoxNMGOEw73WIhZfmJ0siO",
      "include_colab_link": true
    },
    "kernelspec": {
      "name": "python3",
      "display_name": "Python 3"
    },
    "language_info": {
      "name": "python"
    }
  },
  "cells": [
    {
      "cell_type": "markdown",
      "metadata": {
        "id": "view-in-github",
        "colab_type": "text"
      },
      "source": [
        "<a href=\"https://colab.research.google.com/github/shuklasid19/homework1/blob/main/21_Assignment_python_basic.ipynb\" target=\"_parent\"><img src=\"https://colab.research.google.com/assets/colab-badge.svg\" alt=\"Open In Colab\"/></a>"
      ]
    },
    {
      "cell_type": "code",
      "execution_count": null,
      "metadata": {
        "id": "IZgadg9UqR0O"
      },
      "outputs": [],
      "source": [
        ""
      ]
    },
    {
      "cell_type": "markdown",
      "source": [
        "1. Add the current date to the text file today.txt as a string."
      ],
      "metadata": {
        "id": "6-mt70YRDJPY"
      }
    },
    {
      "cell_type": "code",
      "source": [
        "import datetime\n",
        "file = open('today.txt', 'w')\n",
        "file.write(datetime.datetime.now().strftime(\"%d-%m-%Y\"))\n",
        "file.close()\n",
        "\n",
        "import datetime\n",
        "#for reading file\n",
        "file = open('today.txt', 'r')\n",
        "print(file.read())\n",
        "file.close()"
      ],
      "metadata": {
        "colab": {
          "base_uri": "https://localhost:8080/"
        },
        "id": "lgy3_v5aDJ8k",
        "outputId": "97bb96e9-2303-422c-aa25-9d4df3bcb1e5"
      },
      "execution_count": 2,
      "outputs": [
        {
          "output_type": "stream",
          "name": "stdout",
          "text": [
            "19-01-2022\n"
          ]
        }
      ]
    },
    {
      "cell_type": "markdown",
      "source": [
        "2. Read the text file today.txt into the string today_string."
      ],
      "metadata": {
        "id": "UQU6H1AQEQTl"
      }
    },
    {
      "cell_type": "code",
      "source": [
        "file = open('today.txt', 'r')\n",
        "today_string = file.read()\n",
        "print(today_string)"
      ],
      "metadata": {
        "colab": {
          "base_uri": "https://localhost:8080/"
        },
        "id": "OX4qB-XgDd4f",
        "outputId": "e9658e0b-4102-40b5-db08-4d25e4017b6f"
      },
      "execution_count": 3,
      "outputs": [
        {
          "output_type": "stream",
          "name": "stdout",
          "text": [
            "19-01-2022\n"
          ]
        }
      ]
    },
    {
      "cell_type": "markdown",
      "source": [
        "3. Parse the date from today_string."
      ],
      "metadata": {
        "id": "hPQ8XtEpEWD0"
      }
    },
    {
      "cell_type": "code",
      "source": [
        "from datetime import datetime\n",
        "parsed_data = datetime.strptime(today_string, \"%d-%m-%Y\")\n",
        "print(parsed_data)"
      ],
      "metadata": {
        "colab": {
          "base_uri": "https://localhost:8080/"
        },
        "id": "l3VXPZ1rEThp",
        "outputId": "a67fc76a-e1a3-4378-a5de-752bd2b15b47"
      },
      "execution_count": 4,
      "outputs": [
        {
          "output_type": "stream",
          "name": "stdout",
          "text": [
            "2022-01-19 00:00:00\n"
          ]
        }
      ]
    },
    {
      "cell_type": "markdown",
      "source": [
        "4. List the files in your current directory."
      ],
      "metadata": {
        "id": "1zWD70c3ExLh"
      }
    },
    {
      "cell_type": "code",
      "source": [
        "for i, j, k in os.walk(os.getcwd()):\n",
        "  for file in k:\n",
        "    print(file)"
      ],
      "metadata": {
        "colab": {
          "base_uri": "https://localhost:8080/"
        },
        "id": "6UTeveWqFAgu",
        "outputId": "0f5e8072-18b7-449a-fa49-df646ffa3781"
      },
      "execution_count": 10,
      "outputs": [
        {
          "output_type": "stream",
          "name": "stdout",
          "text": [
            "today.txt\n",
            ".last_update_check.json\n",
            "config_sentinel\n",
            "gce\n",
            ".last_opt_in_prompt.yaml\n",
            ".last_survey_prompt.yaml\n",
            "active_config\n",
            "14.33.22.232212.log\n",
            "14.33.15.504888.log\n",
            "14.33.42.565580.log\n",
            "14.32.57.118850.log\n",
            "14.32.37.114755.log\n",
            "14.33.41.864886.log\n",
            "config_default\n",
            "anscombe.json\n",
            "README.md\n",
            "california_housing_test.csv\n",
            "mnist_train_small.csv\n",
            "california_housing_train.csv\n",
            "mnist_test.csv\n"
          ]
        }
      ]
    },
    {
      "cell_type": "code",
      "source": [
        ""
      ],
      "metadata": {
        "colab": {
          "base_uri": "https://localhost:8080/"
        },
        "id": "G-mG6T_mEpza",
        "outputId": "9c134033-0ef7-4307-9721-cfa44332e6fc"
      },
      "execution_count": 5,
      "outputs": [
        {
          "output_type": "stream",
          "name": "stdout",
          "text": [
            "today.txt\n",
            ".last_update_check.json\n",
            "config_sentinel\n",
            "gce\n",
            ".last_opt_in_prompt.yaml\n",
            ".last_survey_prompt.yaml\n",
            "active_config\n",
            "14.33.22.232212.log\n",
            "14.33.15.504888.log\n",
            "14.33.42.565580.log\n",
            "14.32.57.118850.log\n",
            "14.32.37.114755.log\n",
            "14.33.41.864886.log\n",
            "config_default\n",
            "anscombe.json\n",
            "README.md\n",
            "california_housing_test.csv\n",
            "mnist_train_small.csv\n",
            "california_housing_train.csv\n",
            "mnist_test.csv\n"
          ]
        }
      ]
    },
    {
      "cell_type": "markdown",
      "source": [
        "5. Create a list of all of the files in your parent directory (minimum five files should be available)."
      ],
      "metadata": {
        "id": "VfQY9F8PGCqE"
      }
    },
    {
      "cell_type": "code",
      "source": [
        "import os\n",
        "os.listdir()"
      ],
      "metadata": {
        "colab": {
          "base_uri": "https://localhost:8080/"
        },
        "id": "98lV4hC1E8Lk",
        "outputId": "da293741-7b18-49f3-f5bc-c9331b4a4b5b"
      },
      "execution_count": 12,
      "outputs": [
        {
          "output_type": "execute_result",
          "data": {
            "text/plain": [
              "['.config', 'today.txt', 'sample_data']"
            ]
          },
          "metadata": {},
          "execution_count": 12
        }
      ]
    },
    {
      "cell_type": "markdown",
      "source": [
        ""
      ],
      "metadata": {
        "id": "KWSEVNG1HOmi"
      }
    },
    {
      "cell_type": "markdown",
      "source": [
        "6. Use multiprocessing to create three separate processes. Make each one wait a random number of seconds between one and five, print the current time, and then exit"
      ],
      "metadata": {
        "id": "2MESF6sFGYfd"
      }
    },
    {
      "cell_type": "code",
      "source": [
        "import multiprocessing\n",
        "import time \n",
        "import random\n",
        "import datetime\n",
        "\n",
        "def procOne():\n",
        "    print(f'Proc_one_Starttime -> {datetime.datetime.now()}')\n",
        "    time.sleep(random.randint(1,5))\n",
        "    print(f'Proc_one_Endtime -> {datetime.datetime.now()}')\n",
        "    \n",
        "def procTwo():\n",
        "    print(f'Proc_two_Starttime -> {datetime.datetime.now()}')\n",
        "    time.sleep(random.randint(1,5))\n",
        "    print(f'Proc_two_Endtime -> {datetime.datetime.now()}')\n",
        "\n",
        "def procThree():\n",
        "    print(f'Proc_two_Starttime -> {datetime.datetime.now()}')\n",
        "    time.sleep(random.randint(1,5))\n",
        "    print(f'Proc_two_Endtime -> {datetime.datetime.now()}')\n",
        "    \n",
        "if __name__ == \"__main__\":    \n",
        "    p1 = multiprocessing.Process(target=procOne)\n",
        "    p2 = multiprocessing.Process(target=procTwo)\n",
        "    p3 = multiprocessing.Process(target=procThree)\n",
        "\n",
        "    p1.start()\n",
        "    p2.start()\n",
        "    p3.start()\n",
        "\n",
        "    p1.join()\n",
        "    p2.join()\n",
        "    p3.join()"
      ],
      "metadata": {
        "colab": {
          "base_uri": "https://localhost:8080/"
        },
        "id": "Y0oKypNCGJgV",
        "outputId": "98b2228c-efda-41dd-9bd3-043afd266c90"
      },
      "execution_count": 21,
      "outputs": [
        {
          "output_type": "stream",
          "name": "stdout",
          "text": [
            "Proc_one_Starttime -> 2022-01-19 16:16:47.156413\n",
            "Proc_two_Starttime -> 2022-01-19 16:16:47.171570\n",
            "Proc_two_Starttime -> 2022-01-19 16:16:47.180705\n",
            "Proc_one_Endtime -> 2022-01-19 16:16:49.183345\n",
            "Proc_two_Endtime -> 2022-01-19 16:16:49.187650\n",
            "Proc_two_Endtime -> 2022-01-19 16:16:52.192041\n"
          ]
        }
      ]
    },
    {
      "cell_type": "markdown",
      "source": [
        "7. Create a date object of your day of birth."
      ],
      "metadata": {
        "id": "SX-C3EF3HqCw"
      }
    },
    {
      "cell_type": "code",
      "source": [
        "from datetime import datetime\n",
        "dob = datetime.strptime(\"11/09/1997\", \"%d/%m/%Y\")\n",
        "print(dob, type(dob))"
      ],
      "metadata": {
        "colab": {
          "base_uri": "https://localhost:8080/"
        },
        "id": "OZMOvvfdHsqB",
        "outputId": "b8887f65-abf4-454f-ba94-9b756b33ed7f"
      },
      "execution_count": 20,
      "outputs": [
        {
          "output_type": "stream",
          "name": "stdout",
          "text": [
            "1997-09-11 00:00:00 <class 'datetime.datetime'>\n"
          ]
        }
      ]
    },
    {
      "cell_type": "markdown",
      "source": [
        ""
      ],
      "metadata": {
        "id": "P5Q8vqjrHqsv"
      }
    },
    {
      "cell_type": "markdown",
      "source": [
        "8. What day of the week was your day of birth?\n",
        "\n"
      ],
      "metadata": {
        "id": "2yIpMBl3HPwm"
      }
    },
    {
      "cell_type": "code",
      "source": [
        "from datetime import datetime\n",
        "my_dob = datetime(1997,9,11)\n",
        "my_dob.strftime(\"%A\")"
      ],
      "metadata": {
        "colab": {
          "base_uri": "https://localhost:8080/",
          "height": 35
        },
        "id": "IK_WAUSEHQ9-",
        "outputId": "1cd9948f-de2c-41f3-bebf-0a30ec6c4aa5"
      },
      "execution_count": 16,
      "outputs": [
        {
          "output_type": "execute_result",
          "data": {
            "application/vnd.google.colaboratory.intrinsic+json": {
              "type": "string"
            },
            "text/plain": [
              "'Thursday'"
            ]
          },
          "metadata": {},
          "execution_count": 16
        }
      ]
    },
    {
      "cell_type": "markdown",
      "source": [
        "9. When will you be (or when were you) 10,000 days old?\n",
        "\n"
      ],
      "metadata": {
        "id": "jAIkCqVlGdpQ"
      }
    },
    {
      "cell_type": "code",
      "source": [
        "from datetime import datetime , timedelta\n",
        "my_dob = datetime.strptime(\"11/09/1997\",'%d/%m/%Y')\n",
        "future_date = my_dob - timedelta(10000)\n",
        "future_date"
      ],
      "metadata": {
        "colab": {
          "base_uri": "https://localhost:8080/"
        },
        "id": "rnYqw7LDGh9p",
        "outputId": "d347ad65-80c1-4861-c5ac-af3520342b8b"
      },
      "execution_count": 17,
      "outputs": [
        {
          "output_type": "execute_result",
          "data": {
            "text/plain": [
              "datetime.datetime(1970, 4, 26, 0, 0)"
            ]
          },
          "metadata": {},
          "execution_count": 17
        }
      ]
    },
    {
      "cell_type": "code",
      "source": [
        ""
      ],
      "metadata": {
        "id": "Qy-W9ZdzGtxU"
      },
      "execution_count": null,
      "outputs": []
    }
  ]
}