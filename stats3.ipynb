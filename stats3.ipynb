{
  "nbformat": 4,
  "nbformat_minor": 0,
  "metadata": {
    "colab": {
      "name": "stats3.ipynb",
      "provenance": [],
      "collapsed_sections": [],
      "authorship_tag": "ABX9TyNtjKogcckr7srfC798n/3A",
      "include_colab_link": true
    },
    "kernelspec": {
      "name": "python3",
      "display_name": "Python 3"
    },
    "language_info": {
      "name": "python"
    }
  },
  "cells": [
    {
      "cell_type": "markdown",
      "metadata": {
        "id": "view-in-github",
        "colab_type": "text"
      },
      "source": [
        "<a href=\"https://colab.research.google.com/github/shuklasid19/homework1/blob/main/stats3.ipynb\" target=\"_parent\"><img src=\"https://colab.research.google.com/assets/colab-badge.svg\" alt=\"Open In Colab\"/></a>"
      ]
    },
    {
      "cell_type": "code",
      "execution_count": null,
      "metadata": {
        "id": "tm35opRRiIjP"
      },
      "outputs": [],
      "source": [
        ""
      ]
    },
    {
      "cell_type": "markdown",
      "source": [
        "⦁\tFor a group of 7 people, find the probability that all 4 seasons (winter, spring, summer, fall) occur at least once each among their birthdays, assuming that all seasons are equally likely. \n",
        "\n",
        "suppose we represent the seasons as W,S,U,F for winter, spring, summer, and fall, and the seven people are ordered so that their birthdays are denoted as a 7-tuple. Then one desired outcome could be\n",
        "(W,S,U,F,S,F,W).\n",
        "But there are at least two distinct ways you could count this: first, by selecting the first four people to have distinct seasons (W,S,U,F), but we could also select the third, fifth, sixth, and seventh people (U,S,F,W) as the ones to have distinct seasons.\n",
        "\n",
        "To count correctly, what you need to do instead is use the recommended inclusion-exclusion principle. First, count all the outcomes in which there are strictly fewer than four seasons represented:\n",
        "(43)37\n",
        "where there are (43) ways to select three distinct seasons out of the four, and 37 represents the number of ordered outcomes using those three seasons. However, this also multiple-counts outcomes in the same way your original approach does, but here we are double-counting outcomes where at most two seasons are represented. So we subtract out\n",
        "(42)27\n",
        "of these, but now we have to add back in those outcomes where exactly one season is represented, of which there are\n",
        "(41)17.\n",
        "So the total number of desired outcomes is\n",
        "47−(43)37+(42)27−(41)17=8400\n",
        "and the resultant probability is\n",
        "840047=5251024≈0.512695.\n",
        "\n",
        "⦁\tAlice attends a small college in which each class meets only once a week. She is deciding between 30 non-overlapping classes. There are 6 classes to choose from for each day of the week, Monday through Friday. Trusting in the benevolence of randomness, Alice decides to register for 7 randomly selected classes out of the 30, with all choices equally likely. What is the probability that she will have classes every day, Monday through Friday?\n",
        " \t \n",
        " "
      ],
      "metadata": {
        "id": "aNsqre-YiMGh"
      }
    }
  ]
}