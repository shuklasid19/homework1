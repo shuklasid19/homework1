{
  "nbformat": 4,
  "nbformat_minor": 0,
  "metadata": {
    "colab": {
      "name": "9th_assignment_basic.ipynb",
      "provenance": [],
      "collapsed_sections": [],
      "authorship_tag": "ABX9TyOtwMSfdLsojTlmLmU4KfQj",
      "include_colab_link": true
    },
    "kernelspec": {
      "name": "python3",
      "display_name": "Python 3"
    },
    "language_info": {
      "name": "python"
    }
  },
  "cells": [
    {
      "cell_type": "markdown",
      "metadata": {
        "id": "view-in-github",
        "colab_type": "text"
      },
      "source": [
        "<a href=\"https://colab.research.google.com/github/shuklasid19/homework1/blob/main/9th_assignment_basic.ipynb\" target=\"_parent\"><img src=\"https://colab.research.google.com/assets/colab-badge.svg\" alt=\"Open In Colab\"/></a>"
      ]
    },
    {
      "cell_type": "code",
      "source": [
        "import os"
      ],
      "metadata": {
        "id": "bfEU58GUnWbK"
      },
      "execution_count": null,
      "outputs": []
    },
    {
      "cell_type": "code",
      "source": [
        "os.getcwd()"
      ],
      "metadata": {
        "colab": {
          "base_uri": "https://localhost:8080/",
          "height": 35
        },
        "id": "FBTqacWmnXQZ",
        "outputId": "84c6e739-49fa-4113-dc0f-9a913243c189"
      },
      "execution_count": null,
      "outputs": [
        {
          "output_type": "execute_result",
          "data": {
            "application/vnd.google.colaboratory.intrinsic+json": {
              "type": "string"
            },
            "text/plain": [
              "'/content'"
            ]
          },
          "metadata": {},
          "execution_count": 2
        }
      ]
    },
    {
      "cell_type": "code",
      "source": [
        "#The relative path is the path to some file with respect to your current working directory\n",
        "#relative path = absolute path "
      ],
      "metadata": {
        "id": "sY3JowFYnYZH"
      },
      "execution_count": null,
      "outputs": []
    },
    {
      "cell_type": "markdown",
      "source": [
        "2. What does an absolute path start with your operating system?"
      ],
      "metadata": {
        "id": "rNlkoPGEnsmA"
      }
    },
    {
      "cell_type": "code",
      "source": [
        "#in windows it starts with the drive name where os is installed\n",
        "#for example C"
      ],
      "metadata": {
        "id": "0wtVrpLsntiF"
      },
      "execution_count": null,
      "outputs": []
    },
    {
      "cell_type": "code",
      "source": [
        "'C:/Windows/users/_name_/Downloads'"
      ],
      "metadata": {
        "id": "JrwHRqAPoUpp"
      },
      "execution_count": null,
      "outputs": []
    },
    {
      "cell_type": "markdown",
      "source": [
        "3. What do the functions os.getcwd() and os.chdir() do?\n"
      ],
      "metadata": {
        "id": "P1LJ4Bo4omeU"
      }
    },
    {
      "cell_type": "code",
      "source": [
        "#os.getcwd() gets us current working directory\n",
        "#and \n",
        "#os.chdir() changes the directory which we provide"
      ],
      "metadata": {
        "id": "_SBu2qqtonTR"
      },
      "execution_count": null,
      "outputs": []
    },
    {
      "cell_type": "code",
      "source": [
        "os.getcwd()\n",
        "#it will give current working directory"
      ],
      "metadata": {
        "colab": {
          "base_uri": "https://localhost:8080/",
          "height": 35
        },
        "id": "PtSZ2qFwozwr",
        "outputId": "f49a4204-3aa4-4cec-d20b-8ebb6766e592"
      },
      "execution_count": null,
      "outputs": [
        {
          "output_type": "execute_result",
          "data": {
            "application/vnd.google.colaboratory.intrinsic+json": {
              "type": "string"
            },
            "text/plain": [
              "'/content'"
            ]
          },
          "metadata": {},
          "execution_count": 8
        }
      ]
    },
    {
      "cell_type": "code",
      "source": [
        "os.chdir(\"/content/sample_data\")\n",
        "#it will change the directory "
      ],
      "metadata": {
        "id": "z-jOhq4ao074"
      },
      "execution_count": null,
      "outputs": []
    },
    {
      "cell_type": "markdown",
      "source": [
        "4. What are the . and .. folders?"
      ],
      "metadata": {
        "id": "sgYU4E2DpQZE"
      }
    },
    {
      "cell_type": "markdown",
      "source": [
        "\n",
        "\n",
        "```\n",
        "# This is formatted as code:\n",
        "These are . (current directory) and .. (parent directory).\n",
        "```\n",
        "\n"
      ],
      "metadata": {
        "id": "K_8JWDZvciXR"
      }
    },
    {
      "cell_type": "code",
      "source": [
        ""
      ],
      "metadata": {
        "id": "f3XRBxYrpNjz"
      },
      "execution_count": null,
      "outputs": []
    },
    {
      "cell_type": "markdown",
      "source": [
        "5. In C:\\bacon\\eggs\\spam.txt, which part is the dir name, and which part is the base name?\n",
        "\n",
        "\n",
        "\n",
        "```\n",
        "# C:\\   dir name\n",
        "# eggs  base  \n",
        "\n",
        "```\n",
        "\n"
      ],
      "metadata": {
        "id": "JfXtzhm6a0Qg"
      }
    },
    {
      "cell_type": "code",
      "source": [
        "import os\n",
        "path = os.path.dirname(\"\")"
      ],
      "metadata": {
        "id": "3ZkkBdfQboaL"
      },
      "execution_count": 6,
      "outputs": []
    },
    {
      "cell_type": "code",
      "source": [
        ""
      ],
      "metadata": {
        "colab": {
          "base_uri": "https://localhost:8080/",
          "height": 35
        },
        "id": "oOkVMVgFbutU",
        "outputId": "bbd75b1b-88c2-4b2f-f8c2-334b44845d9b"
      },
      "execution_count": 9,
      "outputs": [
        {
          "output_type": "execute_result",
          "data": {
            "application/vnd.google.colaboratory.intrinsic+json": {
              "type": "string"
            },
            "text/plain": [
              "'eggs'"
            ]
          },
          "metadata": {},
          "execution_count": 9
        }
      ]
    },
    {
      "cell_type": "code",
      "source": [
        ""
      ],
      "metadata": {
        "colab": {
          "base_uri": "https://localhost:8080/",
          "height": 35
        },
        "id": "GqExZUq1byr8",
        "outputId": "415684a6-6326-4a15-c55b-4fdb3a131a78"
      },
      "execution_count": 8,
      "outputs": [
        {
          "output_type": "execute_result",
          "data": {
            "application/vnd.google.colaboratory.intrinsic+json": {
              "type": "string"
            },
            "text/plain": [
              "'eggs'"
            ]
          },
          "metadata": {},
          "execution_count": 8
        }
      ]
    },
    {
      "cell_type": "markdown",
      "source": [
        "6. What are the three “mode” arguments that can be passed to the open() function?\n",
        "\n",
        "\n",
        "\n",
        "```\n",
        "#\n",
        "filename\n",
        "mode='r'\n",
        "encoding=None\n",
        "to open a file and write\n",
        "open (\"F:\\\\Directory\\\\AnotherDirectory\\\\tests\\\\TestingTextTwo.txt\", \"w\")\n",
        "Open a file for writing. Creates a new file if it does not exist or truncates the file if it exists.\n",
        "\n",
        "\n",
        "to read a file\n",
        "open (\"F:\\\\Directory\\\\AnotherDirectory\\\\tests\\\\TestingTextTwo.txt\", \"r+\")\n",
        "Open a file for reading\n",
        "\n",
        "\n",
        "\n",
        "\n",
        "# opens for writing to the end \n",
        "#f = open(\"path_to_file\", mode = 'a')\n",
        "#Open for appending at the end of the file without truncating it. Creates a new #file if it does not exist.\n",
        "```"
      ],
      "metadata": {
        "id": "JdIApsauHdXl"
      }
    },
    {
      "cell_type": "code",
      "source": [
        ""
      ],
      "metadata": {
        "id": "UGapOVnVbwPv"
      },
      "execution_count": null,
      "outputs": []
    },
    {
      "cell_type": "code",
      "source": [
        ""
      ],
      "metadata": {
        "id": "8S5NrDKBbwTV"
      },
      "execution_count": null,
      "outputs": []
    },
    {
      "cell_type": "markdown",
      "source": [
        ""
      ],
      "metadata": {
        "id": "zTwW3TlkHdad"
      }
    },
    {
      "cell_type": "markdown",
      "source": [
        "7. What happens if an existing file is opened in write mode?\n"
      ],
      "metadata": {
        "id": "c8pjDwpyHddB"
      }
    },
    {
      "cell_type": "code",
      "source": [
        "#it will place the pointer at the beginning of the file.\n",
        "#we can overwrite that file if we open an existing file or it might show error"
      ],
      "metadata": {
        "colab": {
          "base_uri": "https://localhost:8080/",
          "height": 226
        },
        "id": "_qRDDVGoOdAh",
        "outputId": "92b22d2a-626c-411f-db59-54c8b8298b4c"
      },
      "execution_count": 1,
      "outputs": [
        {
          "output_type": "error",
          "ename": "UnsupportedOperation",
          "evalue": "ignored",
          "traceback": [
            "\u001b[0;31m---------------------------------------------------------------------------\u001b[0m",
            "\u001b[0;31mUnsupportedOperation\u001b[0m                      Traceback (most recent call last)",
            "\u001b[0;32m<ipython-input-1-76fb5cb89528>\u001b[0m in \u001b[0;36m<module>\u001b[0;34m()\u001b[0m\n\u001b[1;32m      2\u001b[0m \u001b[0;32mwith\u001b[0m \u001b[0mopen\u001b[0m\u001b[0;34m(\u001b[0m\u001b[0;34m'/content/sample_data/mnist_test.csv'\u001b[0m\u001b[0;34m,\u001b[0m \u001b[0;34m'wb'\u001b[0m\u001b[0;34m)\u001b[0m \u001b[0;32mas\u001b[0m \u001b[0mfile\u001b[0m\u001b[0;34m:\u001b[0m\u001b[0;34m\u001b[0m\u001b[0;34m\u001b[0m\u001b[0m\n\u001b[1;32m      3\u001b[0m     \u001b[0mreader\u001b[0m \u001b[0;34m=\u001b[0m \u001b[0mcsv\u001b[0m\u001b[0;34m.\u001b[0m\u001b[0mreader\u001b[0m\u001b[0;34m(\u001b[0m\u001b[0mfile\u001b[0m\u001b[0;34m)\u001b[0m\u001b[0;34m\u001b[0m\u001b[0;34m\u001b[0m\u001b[0m\n\u001b[0;32m----> 4\u001b[0;31m     \u001b[0;32mfor\u001b[0m \u001b[0mrow\u001b[0m \u001b[0;32min\u001b[0m \u001b[0mreader\u001b[0m\u001b[0;34m:\u001b[0m\u001b[0;34m\u001b[0m\u001b[0;34m\u001b[0m\u001b[0m\n\u001b[0m\u001b[1;32m      5\u001b[0m         \u001b[0mprint\u001b[0m\u001b[0;34m(\u001b[0m\u001b[0mrow\u001b[0m\u001b[0;34m)\u001b[0m\u001b[0;34m\u001b[0m\u001b[0;34m\u001b[0m\u001b[0m\n",
            "\u001b[0;31mUnsupportedOperation\u001b[0m: read"
          ]
        }
      ]
    },
    {
      "cell_type": "markdown",
      "source": [
        ""
      ],
      "metadata": {
        "id": "i3pHUkQROlNb"
      }
    },
    {
      "cell_type": "markdown",
      "source": [
        "8. How do you tell the difference between read() and readlines()?\n",
        "\n",
        "\n",
        "```\n",
        "# This is formatted as code\n",
        "read() reads all of the file's contents into a string\n",
        ",readline reads just a single line from the file\n",
        "\n",
        "suppose we have a file with 4 linnes \n",
        "\"1 line\"\n",
        "\"2 line\"\n",
        "\"3 line\"\n",
        "\"4 line\"\n",
        "\n",
        "so read() will give all 4 lines and return it inthe form of string\n",
        "in read we can specify how many characters we want to read\n",
        "readlines() will return only first string i.e. \"1 line\" it will give first line only.\n",
        "\n",
        "```"
      ],
      "metadata": {
        "id": "tbu_GJj_HdfW"
      }
    },
    {
      "cell_type": "markdown",
      "source": [
        "9. What data structure does a shelf value resemble?\n",
        "\n",
        "\n",
        "\n",
        "```\n",
        "#  Just like dictionaries, shelf values have keys() and values() methods that will return list-like values of the keys and values in the shelf. Since these methods return list-like values instead of true lists, you should pass them to the list() function to get them in list form. \n",
        "\n",
        "\n",
        "\n",
        "```\n",
        "\n"
      ],
      "metadata": {
        "id": "4RSt7CiwORTO"
      }
    },
    {
      "cell_type": "code",
      "source": [
        ""
      ],
      "metadata": {
        "id": "ntezFENhOBAq"
      },
      "execution_count": null,
      "outputs": []
    }
  ]
}