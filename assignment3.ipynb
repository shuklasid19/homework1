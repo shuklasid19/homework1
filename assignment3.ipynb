{
  "nbformat": 4,
  "nbformat_minor": 0,
  "metadata": {
    "colab": {
      "name": "assignment3.ipynb",
      "provenance": [],
      "collapsed_sections": [],
      "authorship_tag": "ABX9TyNJUUBRrzuntjg4zu3rnSUt",
      "include_colab_link": true
    },
    "kernelspec": {
      "name": "python3",
      "display_name": "Python 3"
    },
    "language_info": {
      "name": "python"
    }
  },
  "cells": [
    {
      "cell_type": "markdown",
      "metadata": {
        "id": "view-in-github",
        "colab_type": "text"
      },
      "source": [
        "<a href=\"https://colab.research.google.com/github/shuklasid19/homework1/blob/main/assignment3.ipynb\" target=\"_parent\"><img src=\"https://colab.research.google.com/assets/colab-badge.svg\" alt=\"Open In Colab\"/></a>"
      ]
    },
    {
      "cell_type": "code",
      "metadata": {
        "id": "2MOGIKwLgRB9"
      },
      "source": [
        "1. Why are functions advantageous to have in your programs?\n",
        "\n",
        "#function make code reusable , modular , clean, understandable.\n",
        "#we dont have to repeat same code lines multiple times for same thing to do saves time.\n",
        "#function can help to manage large programs "
      ],
      "execution_count": null,
      "outputs": []
    },
    {
      "cell_type": "markdown",
      "metadata": {
        "id": "I5b_-wi9hSM1"
      },
      "source": [
        "2. When does the code in a function run: when it's specified or when it's called?\n",
        "\n",
        "\n",
        "the function run when its called but in order to run the  function we have to specify the code in that function\n",
        "\n"
      ]
    },
    {
      "cell_type": "markdown",
      "metadata": {
        "id": "HVv38AiFhSXm"
      },
      "source": [
        "3. What statement creates a function?\n",
        "\n"
      ]
    },
    {
      "cell_type": "code",
      "metadata": {
        "id": "x2zdT7NoiVLF"
      },
      "source": [
        "def create_function():\n",
        "  pass"
      ],
      "execution_count": null,
      "outputs": []
    },
    {
      "cell_type": "markdown",
      "metadata": {
        "id": "U7qqqDc_iUdn"
      },
      "source": [
        "4. What is the difference between a function and a function call?\n",
        "\n"
      ]
    },
    {
      "cell_type": "markdown",
      "metadata": {
        "id": "lxNzNiU5iNXV"
      },
      "source": [
        "function is defined to do a particular task , and function call is calling the function to do that task.\n",
        "if we define function and don't call the function it won't be of no use so \n",
        "if we define a function we have to call it too."
      ]
    },
    {
      "cell_type": "code",
      "metadata": {
        "colab": {
          "base_uri": "https://localhost:8080/"
        },
        "id": "DeBXScC8jAih",
        "outputId": "2d7d151f-cef3-4eb1-872c-36366493f9b2"
      },
      "source": [
        "#defined a function to add\n",
        "def add():\n",
        "  return 3+5\n",
        "\n",
        "#called the function to perform addition and return the result\n",
        "add()"
      ],
      "execution_count": null,
      "outputs": [
        {
          "output_type": "execute_result",
          "data": {
            "text/plain": [
              "8"
            ]
          },
          "metadata": {},
          "execution_count": 2
        }
      ]
    },
    {
      "cell_type": "markdown",
      "metadata": {
        "id": "CLgfKwaTi_i0"
      },
      "source": [
        "5. How many global scopes are there in a Python program? How many local scopes?\n"
      ]
    },
    {
      "cell_type": "markdown",
      "metadata": {
        "id": "-sA6KhKJoa8c"
      },
      "source": [
        "Python has global and local scope\n",
        "If a variable defined in global scope it will be accessible everywhere\n",
        "if a variable defined in loca scope it will only be accessible where its defined or created.\n",
        "we have only one scope when the function terminates it gets terminated too\n",
        "\n",
        "where we assign or define a variable,function in our code determines the scope or visibility of that variable or function."
      ]
    },
    {
      "cell_type": "markdown",
      "metadata": {
        "id": "991X-9OLobD1"
      },
      "source": [
        "8. If a function does not have a return statement, what is the return value of a call to that function?\n"
      ]
    },
    {
      "cell_type": "code",
      "metadata": {
        "id": "dB4j3JkDrsxW"
      },
      "source": [
        "def funct():\n",
        "  a = 4+6\n",
        "  "
      ],
      "execution_count": null,
      "outputs": []
    },
    {
      "cell_type": "code",
      "metadata": {
        "id": "-p8TcCs9rzmO"
      },
      "source": [
        "funct()"
      ],
      "execution_count": null,
      "outputs": []
    },
    {
      "cell_type": "code",
      "metadata": {
        "id": "fTGPlTn2r9r2"
      },
      "source": [
        "# the return value will be undefined, None"
      ],
      "execution_count": null,
      "outputs": []
    },
    {
      "cell_type": "markdown",
      "source": [
        ""
      ],
      "metadata": {
        "id": "1TVicrxybQfs"
      }
    },
    {
      "cell_type": "markdown",
      "metadata": {
        "id": "8w200tlOrrbM"
      },
      "source": [
        "#9. How do you make a function variable refer to the global variable?\n"
      ]
    },
    {
      "cell_type": "code",
      "metadata": {
        "id": "3r6y3z0bsDQv"
      },
      "source": [
        "\n",
        "#we can use global keyword which is provided in python language\n",
        "#or\n",
        "dumbo  = 34\n",
        "def like():\n",
        "  return dumbo"
      ],
      "execution_count": 9,
      "outputs": []
    },
    {
      "cell_type": "code",
      "source": [
        "dumbo"
      ],
      "metadata": {
        "colab": {
          "base_uri": "https://localhost:8080/"
        },
        "id": "KA3fjJjlrAhD",
        "outputId": "d5c33e76-6a13-4fa1-e400-629f5f56de98"
      },
      "execution_count": 10,
      "outputs": [
        {
          "output_type": "execute_result",
          "data": {
            "text/plain": [
              "34"
            ]
          },
          "metadata": {},
          "execution_count": 10
        }
      ]
    },
    {
      "cell_type": "markdown",
      "metadata": {
        "id": "cyEw_tLEobJR"
      },
      "source": [
        "10. What is the data type of None?\n",
        "\n",
        "None is used in absence of the value\n",
        "data type of None is NoneType or we can consider as null its not 0 it has its own data type - NoneType"
      ]
    },
    {
      "cell_type": "markdown",
      "metadata": {
        "id": "eO4rkEFPjTY4"
      },
      "source": [
        "\n",
        "11. What does the sentence import areallyourpetsnamederic do?\n",
        "\n"
      ]
    },
    {
      "cell_type": "markdown",
      "metadata": {
        "id": "LUbnjNaBpLbF"
      },
      "source": [
        "if theres a function that we defined or a module that we made then its functionalities can be imported and used with importing areallyourpetsnamederic\n",
        "but if not defined it will through error."
      ]
    },
    {
      "cell_type": "code",
      "metadata": {
        "colab": {
          "base_uri": "https://localhost:8080/",
          "height": 316
        },
        "id": "zyE0lYb9pMGj",
        "outputId": "e2e1c0ab-7a4a-4772-d2f6-481a15d37257"
      },
      "source": [
        "\n",
        "\n",
        "import areallyourpetsnamederic"
      ],
      "execution_count": null,
      "outputs": [
        {
          "output_type": "error",
          "ename": "ModuleNotFoundError",
          "evalue": "ignored",
          "traceback": [
            "\u001b[0;31m---------------------------------------------------------------------------\u001b[0m",
            "\u001b[0;31mModuleNotFoundError\u001b[0m                       Traceback (most recent call last)",
            "\u001b[0;32m<ipython-input-4-0d90c0756d00>\u001b[0m in \u001b[0;36m<module>\u001b[0;34m()\u001b[0m\n\u001b[1;32m      1\u001b[0m \u001b[0;34m\u001b[0m\u001b[0m\n\u001b[0;32m----> 2\u001b[0;31m \u001b[0;32mimport\u001b[0m \u001b[0mareallyourpetsnamederic\u001b[0m\u001b[0;34m\u001b[0m\u001b[0;34m\u001b[0m\u001b[0m\n\u001b[0m",
            "\u001b[0;31mModuleNotFoundError\u001b[0m: No module named 'areallyourpetsnamederic'",
            "",
            "\u001b[0;31m---------------------------------------------------------------------------\u001b[0;32m\nNOTE: If your import is failing due to a missing package, you can\nmanually install dependencies using either !pip or !apt.\n\nTo view examples of installing some common dependencies, click the\n\"Open Examples\" button below.\n\u001b[0;31m---------------------------------------------------------------------------\u001b[0m\n"
          ],
          "errorDetails": {
            "actions": [
              {
                "action": "open_url",
                "actionText": "Open Examples",
                "url": "/notebooks/snippets/importing_libraries.ipynb"
              }
            ]
          }
        }
      ]
    },
    {
      "cell_type": "markdown",
      "metadata": {
        "id": "AOTQiBxFiNZu"
      },
      "source": [
        ""
      ]
    },
    {
      "cell_type": "markdown",
      "metadata": {
        "id": "N-EDPrrFiNc_"
      },
      "source": [
        "12. If you had a bacon() feature in a spam module, what would you call it after importing spam?\n"
      ]
    },
    {
      "cell_type": "code",
      "metadata": {
        "id": "XZq5RZPZple7"
      },
      "source": [
        "#we can call the method that we want to call\n",
        "def spam():\n",
        "  def bacon():\n",
        "    return \"inside bacon\"\n",
        "\n"
      ],
      "execution_count": null,
      "outputs": []
    },
    {
      "cell_type": "code",
      "metadata": {
        "colab": {
          "base_uri": "https://localhost:8080/",
          "height": 316
        },
        "id": "u7suGvQgp2m4",
        "outputId": "680f5e62-b6c8-4525-a100-57a795cf502a"
      },
      "source": [
        "import spam\n",
        "spam.bacon()"
      ],
      "execution_count": null,
      "outputs": [
        {
          "output_type": "error",
          "ename": "ModuleNotFoundError",
          "evalue": "ignored",
          "traceback": [
            "\u001b[0;31m---------------------------------------------------------------------------\u001b[0m",
            "\u001b[0;31mModuleNotFoundError\u001b[0m                       Traceback (most recent call last)",
            "\u001b[0;32m<ipython-input-6-d55693d7a5af>\u001b[0m in \u001b[0;36m<module>\u001b[0;34m()\u001b[0m\n\u001b[0;32m----> 1\u001b[0;31m \u001b[0;32mimport\u001b[0m \u001b[0mspam\u001b[0m\u001b[0;34m\u001b[0m\u001b[0;34m\u001b[0m\u001b[0m\n\u001b[0m\u001b[1;32m      2\u001b[0m \u001b[0mspam\u001b[0m\u001b[0;34m\u001b[0m\u001b[0;34m\u001b[0m\u001b[0m\n",
            "\u001b[0;31mModuleNotFoundError\u001b[0m: No module named 'spam'",
            "",
            "\u001b[0;31m---------------------------------------------------------------------------\u001b[0;32m\nNOTE: If your import is failing due to a missing package, you can\nmanually install dependencies using either !pip or !apt.\n\nTo view examples of installing some common dependencies, click the\n\"Open Examples\" button below.\n\u001b[0;31m---------------------------------------------------------------------------\u001b[0m\n"
          ],
          "errorDetails": {
            "actions": [
              {
                "action": "open_url",
                "actionText": "Open Examples",
                "url": "/notebooks/snippets/importing_libraries.ipynb"
              }
            ]
          }
        }
      ]
    },
    {
      "cell_type": "markdown",
      "metadata": {
        "id": "oadVQbbKiNfE"
      },
      "source": [
        ""
      ]
    },
    {
      "cell_type": "markdown",
      "metadata": {
        "id": "rL4LiMR9iNhN"
      },
      "source": [
        "13. What can you do to save a programme from crashing if it encounters an error?\n",
        "\n",
        "we can use try and except clause from crashing "
      ]
    },
    {
      "cell_type": "code",
      "metadata": {
        "id": "72-wQqvfqWnR",
        "colab": {
          "base_uri": "https://localhost:8080/"
        },
        "outputId": "9181ccc3-8c00-4e95-deba-0e727aecbef4"
      },
      "source": [
        "try:\n",
        "  if 2/0:\n",
        "    print(\"it gonna be problometic\")\n",
        "except ArithmeticError as e:\n",
        "  print(\"we cant divide zero\", e)\n"
      ],
      "execution_count": 8,
      "outputs": [
        {
          "output_type": "stream",
          "name": "stdout",
          "text": [
            "we cant divide zero division by zero\n"
          ]
        }
      ]
    },
    {
      "cell_type": "markdown",
      "metadata": {
        "id": "wNGsN4piiNjw"
      },
      "source": [
        ""
      ]
    },
    {
      "cell_type": "markdown",
      "metadata": {
        "id": "oLm1joNthSao"
      },
      "source": [
        "14. What is the purpose of the try clause? What is the purpose of the except clause?\n",
        "\n"
      ]
    },
    {
      "cell_type": "code",
      "metadata": {
        "id": "diXjA_ZyoKZc",
        "colab": {
          "base_uri": "https://localhost:8080/"
        },
        "outputId": "21065fd7-398f-4b22-9d7b-746d6eca00b6"
      },
      "source": [
        "#The try clause is used for catching the exception if the code is \n",
        "#if we have a doubt that our code will through error we can use this and handle that error with Except block\n",
        "#we can call defined function for each kind of situation\n",
        "\n",
        "try:\n",
        "  a = 1/0\n",
        "except ArithmeticError as e:\n",
        "  print(\"cant divide by zero\", e)\n",
        "\n",
        "#try is used as a precaution so if it doesnt run successfully the code will go to except and \n",
        "#it will give us error according to the situation.\n",
        "#we can define the function and it will show the error it helps in debugging of programs\n"
      ],
      "execution_count": 7,
      "outputs": [
        {
          "output_type": "stream",
          "name": "stdout",
          "text": [
            "cant divide by zero division by zero\n"
          ]
        }
      ]
    },
    {
      "cell_type": "code",
      "source": [
        ""
      ],
      "metadata": {
        "id": "29yBdYK7ZAcE"
      },
      "execution_count": null,
      "outputs": []
    }
  ]
}