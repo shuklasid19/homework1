{
  "nbformat": 4,
  "nbformat_minor": 0,
  "metadata": {
    "colab": {
      "name": "24_assignment_basic.ipynb",
      "provenance": [],
      "collapsed_sections": [],
      "authorship_tag": "ABX9TyMT4Erd3JwonPD0ESfNt+gt",
      "include_colab_link": true
    },
    "kernelspec": {
      "name": "python3",
      "display_name": "Python 3"
    },
    "language_info": {
      "name": "python"
    }
  },
  "cells": [
    {
      "cell_type": "markdown",
      "metadata": {
        "id": "view-in-github",
        "colab_type": "text"
      },
      "source": [
        "<a href=\"https://colab.research.google.com/github/shuklasid19/homework1/blob/main/24_assignment_basic.ipynb\" target=\"_parent\"><img src=\"https://colab.research.google.com/assets/colab-badge.svg\" alt=\"Open In Colab\"/></a>"
      ]
    },
    {
      "cell_type": "code",
      "execution_count": null,
      "metadata": {
        "id": "BjzVCQWw9pIH"
      },
      "outputs": [],
      "source": [
        "1. What is the relationship between def statements and lambda expressions ?\n",
        "2. What is the benefit of lambda?\n",
        "3. Compare and contrast map, filter, and reduce.\n",
        "4. What are function annotations, and how are they used?\n",
        "5. What are recursive functions, and how are they used?\n",
        "6. What are some general design guidelines for coding functions?\n",
        "7. Name three or more ways that functions can communicate results to a caller.\n",
        "\n"
      ]
    },
    {
      "cell_type": "code",
      "source": [
        ""
      ],
      "metadata": {
        "id": "WTsJDh3zDs6H"
      },
      "execution_count": null,
      "outputs": []
    },
    {
      "cell_type": "code",
      "source": [
        "#def statement have a body and return\n",
        "#we have to define the function with name and pass value\n",
        "#lambda doesnt have a body or its one line \n",
        "#its an anonymous function which is defined without name\n",
        "#lambda function can have any number of argument but only one expression\n",
        "func = lambda x:x+x\n",
        "print(func(34))\n",
        "#it returns function object which assigned to func identifier"
      ],
      "metadata": {
        "colab": {
          "base_uri": "https://localhost:8080/"
        },
        "id": "kt4upZHE-fMp",
        "outputId": "bbb5e35f-d362-4eb4-f550-fbb4dd272e41"
      },
      "execution_count": null,
      "outputs": [
        {
          "output_type": "stream",
          "name": "stdout",
          "text": [
            "68\n"
          ]
        }
      ]
    },
    {
      "cell_type": "code",
      "source": [
        "def func(a,b):\n",
        "  return a+b\n",
        "\n",
        "func(12,34)"
      ],
      "metadata": {
        "colab": {
          "base_uri": "https://localhost:8080/"
        },
        "id": "sdD8yJD3CWXN",
        "outputId": "9aeb88ce-84c9-43ba-9609-4adb028d377f"
      },
      "execution_count": null,
      "outputs": [
        {
          "output_type": "execute_result",
          "data": {
            "text/plain": [
              "46"
            ]
          },
          "metadata": {},
          "execution_count": 1
        }
      ]
    },
    {
      "cell_type": "code",
      "source": [
        "2. What is the benefit of lambda?"
      ],
      "metadata": {
        "id": "_pLJ2Em8Cjj3"
      },
      "execution_count": null,
      "outputs": []
    },
    {
      "cell_type": "markdown",
      "source": [
        "\n",
        "\n",
        "```\n",
        "lambda function are short and simple \n",
        "oneliner function dont have to define name they dont have a body like normal function\n",
        "can be used anywhere function is expected we dont have to assign variable to it\n",
        "cube = lambda x:x*x*x\n",
        "```\n",
        "\n"
      ],
      "metadata": {
        "id": "921TgQ9CFpHU"
      }
    },
    {
      "cell_type": "markdown",
      "source": [
        "\n",
        "\n",
        "```\n",
        "3. Compare and contrast map, filter, and reduce.\n",
        "```\n",
        "\n"
      ],
      "metadata": {
        "id": "kY5FkJHL-fnB"
      }
    },
    {
      "cell_type": "code",
      "source": [
        "mmap = [34,76,56,32,56,32]\n",
        "mlist = list(map(lambda x:x*2,  mmap))\n",
        "print(mlist)"
      ],
      "metadata": {
        "colab": {
          "base_uri": "https://localhost:8080/"
        },
        "id": "idc1vQvEGO3X",
        "outputId": "40f8aec4-d6a6-4657-98c0-84440feb3033"
      },
      "execution_count": null,
      "outputs": [
        {
          "output_type": "stream",
          "name": "stdout",
          "text": [
            "[68, 152, 112, 64, 112, 64]\n"
          ]
        }
      ]
    },
    {
      "cell_type": "code",
      "source": [
        "#map function takes a function and a list\n",
        "#so basically it maps the function and arguments and returns value"
      ],
      "metadata": {
        "id": "8XQqeYjhGrpb"
      },
      "execution_count": null,
      "outputs": []
    },
    {
      "cell_type": "code",
      "source": [
        "#filter function takes a function and a list as arguments\n",
        "#it return all values for which True is evaluated\n",
        "mlist "
      ],
      "metadata": {
        "colab": {
          "base_uri": "https://localhost:8080/"
        },
        "id": "w7V77iNZGzBE",
        "outputId": "58c72abd-db29-4984-c723-3676e7ef69f0"
      },
      "execution_count": null,
      "outputs": [
        {
          "output_type": "execute_result",
          "data": {
            "text/plain": [
              "[68, 152, 112, 64, 112, 64]"
            ]
          },
          "metadata": {},
          "execution_count": 12
        }
      ]
    },
    {
      "cell_type": "code",
      "source": [
        "mylist = [1, 4, 5, 8, 12, 43 ,67 ,342, 45 , 23]\n",
        "new_l = list(filter(lambda x: (x%2==0), mylist))\n",
        "print(new_l)"
      ],
      "metadata": {
        "colab": {
          "base_uri": "https://localhost:8080/"
        },
        "id": "sm3WZcrEG7at",
        "outputId": "79207a76-56ba-4f9b-91ba-6a94527ebf79"
      },
      "execution_count": null,
      "outputs": [
        {
          "output_type": "stream",
          "name": "stdout",
          "text": [
            "[4, 8, 12, 342]\n"
          ]
        }
      ]
    },
    {
      "cell_type": "code",
      "source": [
        "#it will return values which statisfy the condition we can use it anywhere \n",
        "#to check the values statisfy conditions"
      ],
      "metadata": {
        "id": "j-_fqgd9Hu_Y"
      },
      "execution_count": null,
      "outputs": []
    },
    {
      "cell_type": "markdown",
      "source": [
        "4. What are function annotations, and how are they used?\n",
        "\n",
        "Function annotations provide a way of associating various parts of a function with arbitrary pythoncexpressions at compile time.\n",
        "Annotations of simple parameters def func(x: expression, y: expression = 20):\n",
        "Whereas the annotations for excess parameters are as − def func (**args: expression, **kwargs: expression):\n",
        "\n"
      ],
      "metadata": {
        "id": "-50_efMxA5S8"
      }
    },
    {
      "cell_type": "code",
      "source": [
        "def func(x: expression, y: expression = 20):\n",
        "  pass\n",
        "\n",
        "\n",
        "def func (**args: expression, **kwargs: expression):\n",
        "  pass"
      ],
      "metadata": {
        "colab": {
          "base_uri": "https://localhost:8080/",
          "height": 130
        },
        "id": "E1bdOw9yBEL5",
        "outputId": "4d2932b9-f286-4132-f834-1859185a28c8"
      },
      "execution_count": 1,
      "outputs": [
        {
          "output_type": "error",
          "ename": "SyntaxError",
          "evalue": "ignored",
          "traceback": [
            "\u001b[0;36m  File \u001b[0;32m\"<ipython-input-1-e6be0a043ad8>\"\u001b[0;36m, line \u001b[0;32m5\u001b[0m\n\u001b[0;31m    def func (**args: expression, **kwargs: expression):\u001b[0m\n\u001b[0m                                   ^\u001b[0m\n\u001b[0;31mSyntaxError\u001b[0m\u001b[0;31m:\u001b[0m invalid syntax\n"
          ]
        }
      ]
    },
    {
      "cell_type": "markdown",
      "source": [
        ""
      ],
      "metadata": {
        "id": "7dowqQkrA5V_"
      }
    },
    {
      "cell_type": "markdown",
      "source": [
        "5. What are recursive functions, and how are they used?\n"
      ],
      "metadata": {
        "id": "cp4O_z66As9x"
      }
    },
    {
      "cell_type": "markdown",
      "source": [
        "A recursive function is a function that calls itself during its execution. The process may repeat several times, outputting the result and the end of each iteration."
      ],
      "metadata": {
        "id": "g6VRdNggAuqY"
      }
    },
    {
      "cell_type": "markdown",
      "source": [
        "6 . What are some general design guidelines for coding functions?\n"
      ],
      "metadata": {
        "id": "1BSGDECA_SHS"
      }
    },
    {
      "cell_type": "markdown",
      "source": [
        "Some of the general design guidelines for coding functions are:\n",
        "\n",
        "1. Always use a docstring to explain the functionality of the function\n",
        "2. avoid using or limited use of global variables\n",
        "3. Proper Identation to increase the code readability\n",
        "4. try to follow a naming convention for function names (pascalCase or camelCase) and stick with the same convention throughout the application.\n",
        "5. Avoid using digits while choosing a variable name\n",
        "6. try to use a name for the function which conveys the purpose of the function\n",
        "7. Local variables should be named using camelCase format (ex: localVariable) whereas Global variables names should be using PascalCase (ex:GlobalVariable).\n",
        "8. Constant should be represented in allcaps (ex:CONSTANT)."
      ],
      "metadata": {
        "id": "GwY4o8ID_UDs"
      }
    },
    {
      "cell_type": "markdown",
      "source": [
        "7. Name three or more ways that functions can communicate results to a caller.\n"
      ],
      "metadata": {
        "id": "dNy14-FS--xU"
      }
    },
    {
      "cell_type": "markdown",
      "source": [
        " Some of the ways in which a function can communicate with the calling function is:\n",
        "\n",
        "1. print\n",
        "2. return\n",
        "3. yield"
      ],
      "metadata": {
        "id": "TUEJ346J_EG0"
      }
    },
    {
      "cell_type": "code",
      "source": [
        ""
      ],
      "metadata": {
        "id": "gKsYEf7m-_mV"
      },
      "execution_count": null,
      "outputs": []
    }
  ]
}