{
  "nbformat": 4,
  "nbformat_minor": 0,
  "metadata": {
    "colab": {
      "name": "Machine Learning Assignment 2.ipynb",
      "provenance": [],
      "collapsed_sections": [],
      "authorship_tag": "ABX9TyNr35L7L53CNhnduv/SSnrv",
      "include_colab_link": true
    },
    "kernelspec": {
      "name": "python3",
      "display_name": "Python 3"
    },
    "language_info": {
      "name": "python"
    }
  },
  "cells": [
    {
      "cell_type": "markdown",
      "metadata": {
        "id": "view-in-github",
        "colab_type": "text"
      },
      "source": [
        "<a href=\"https://colab.research.google.com/github/shuklasid19/homework1/blob/main/Machine_Learning_Assignment_2.ipynb\" target=\"_parent\"><img src=\"https://colab.research.google.com/assets/colab-badge.svg\" alt=\"Open In Colab\"/></a>"
      ]
    },
    {
      "cell_type": "code",
      "execution_count": null,
      "metadata": {
        "id": "IGHvq6194cf5"
      },
      "outputs": [],
      "source": [
        ""
      ]
    },
    {
      "cell_type": "markdown",
      "source": [
        ""
      ],
      "metadata": {
        "id": "I5partBsFYd6"
      }
    },
    {
      "cell_type": "markdown",
      "source": [
        "1. What is the concept of human learning? Please give two examples.\n",
        "\n",
        "\n",
        "\n",
        "```\n",
        "# Human Learn by seeing examples it doesnt have to rely on weights.doesn't depend on statistical equations etc\n",
        "\n",
        "human watch and observe and try lo mimic what others do. brain give them capacity to think , talk, walk etc .... which they learn by watching , understanding and doing.\n",
        "\n",
        "brain contain billions of neuron that fire when they want to send signals to other parts.\n",
        "\n",
        "walking kids learn to walk by seeing and doing it comes naturally to them same as talking we see around us learn the alphabets , words and then make sentances and finally pronounciation.....\n",
        "\n",
        "```\n",
        "\n"
      ],
      "metadata": {
        "id": "w6K58jVS4sWI"
      }
    },
    {
      "cell_type": "markdown",
      "source": [
        "2. What different forms of human learning are there? Are there any machine learning equivalents?\n",
        "\n",
        "it is a relatively permanent change in behavior that results from experience.\n",
        "\n",
        "Classical conditioning is a learning process in which an association is made between a previously neutral stimulus and a stimulus that naturally evokes a response.\n",
        "like the bell rings in school and we would know that its for lunch...\n",
        "\n",
        "\n",
        "Operant conditioning is a learning process in which the probability of a response occurring is increased or decreased due to reinforcement or punishment.\n",
        "if we say a kid to do something and he does that as told by an elder so he would get rewards as choclate otherwise scolded by him.\n",
        "\n",
        "Observational learning is a process in which learning occurs through observing and imitating others.\n",
        "we see people talking in slang and we do that celebrities talk words which are supposed to be cool and people mimic them...\n",
        "\n",
        "\n",
        "reinforcement learning - reward and punishment by an agent in an environment whose job is to find best policy or learn it.\n",
        "\n",
        "\n"
      ],
      "metadata": {
        "id": "7kOnYc_D6Ckb"
      }
    },
    {
      "cell_type": "code",
      "source": [
        ""
      ],
      "metadata": {
        "id": "z-Opmkt55Gt9"
      },
      "execution_count": null,
      "outputs": []
    },
    {
      "cell_type": "markdown",
      "source": [
        "3. What is machine learning, and how does it work? What are the key responsibilities of machine learning?\n",
        "\n",
        "\n",
        "\n",
        "\n",
        "```\n",
        "# Machine learning is a sub field in which we use statistical methods to learn the pattern and then use new points to generalize.\n",
        "\n",
        "Selecting appropriate data sets.\n",
        "Picking appropriate data representation methods.\n",
        "Identifying differences in data distribution that affects model performance.\n",
        "Verifying data quality.\n",
        "\n",
        "ml performs multiple tasks...\n",
        "clustering ,  making predicitive models, \n",
        "self-running artificial intelligence , recognize speech, understand human interactions.\n",
        "```\n",
        "\n"
      ],
      "metadata": {
        "id": "RQPapLYY7i3w"
      }
    },
    {
      "cell_type": "markdown",
      "source": [
        "4. Define the terms \"penalty\" and \"reward\" in the context of reinforcement learning.\n",
        "\n",
        "\n",
        "\n",
        "```\n",
        "# if machine gives the result we expected or desired then it will be rewarded.\n",
        "reward are positive points that tells that agent is right.\n",
        "\n",
        "penalty is given when agent does what wasn't expected or gives wrong output.\n",
        "negative points which tells us that agent is wrong.\n",
        "```\n",
        "\n"
      ],
      "metadata": {
        "id": "PakXitET8W6z"
      }
    },
    {
      "cell_type": "markdown",
      "source": [
        "5. Explain the term \"learning as a search\"?\n",
        "\n"
      ],
      "metadata": {
        "id": "-p8yQCHY80pm"
      }
    },
    {
      "cell_type": "markdown",
      "source": [
        "\n",
        "\n",
        "```\n",
        "# Machine learning is challenging , according to the information that we are provided we try to make mode which will solve the problem and make prediction as correct which can be possible.\n",
        "\n",
        "\n",
        "but there is no best model or algorithm for  a problem we have to try all to get the best result . search all parameters and hyperparameters to get the great model which gives less error.\n",
        "\n",
        " applied machine learning is the problem of approximating an unknown underlying mapping function from inputs to outputs.\n",
        "\n",
        "\n",
        "machine learning, the problem is framed as the learning of a mapping function\n",
        "\n",
        "where y is our output , f is the function and x we are given .... \n",
        "y = f(x)\n",
        "\n",
        "\n",
        "```\n",
        "\n"
      ],
      "metadata": {
        "id": "HXlrvpOd9Un-"
      }
    },
    {
      "cell_type": "markdown",
      "source": [
        "6. What are the various goals of machine learning? What is the relationship between these and human learning?\n",
        "\n",
        "\n",
        "\n",
        "```\n",
        "# The main goal of machine learning is to give computers the ability to learn itself without being explicitly programmed. It identifies patterns from preprocessed data and make decisions with minimal human intervention.\n",
        "\n",
        "achieve a thorough understanding about the nature of learning process (both human learning and other forms of learning), about the computational aspects of learning behaviors, and to implant the learning capability in computer systems.\n",
        "\n",
        "\n",
        "\n",
        "```\n",
        "\n"
      ],
      "metadata": {
        "id": "9l9JsMfA-dqV"
      }
    },
    {
      "cell_type": "markdown",
      "source": [
        "7. Illustrate the various elements of machine learning using a real-life illustration.\n",
        "\n",
        "in bank transactions, in classifying email is spam or not, text to speech , alexa , siri, in object detection , in clustering same textual data, astronomical data.\n",
        "in agriculture , in weather prediction , face recognition in survillance.in traffic projection etc.\n",
        "\n"
      ],
      "metadata": {
        "id": "lg-wdr6BoIs4"
      }
    },
    {
      "cell_type": "markdown",
      "source": [
        "8. Provide an example of the abstraction method.\n",
        "\n",
        "abstraction takes several forms in Machine Learning, which are related to either features or instances. The main areas of research that include abstraction in learning includes: Feature selection: hiding irrelevant features. Instance selection: hiding irrelevant instances.\n",
        "\n",
        "most widely used abstraction approaches are feature selection and feature discretization"
      ],
      "metadata": {
        "id": "5f7cO7J6nPr9"
      }
    },
    {
      "cell_type": "markdown",
      "source": [
        ""
      ],
      "metadata": {
        "id": "Mb_4q0AdnQiW"
      }
    },
    {
      "cell_type": "markdown",
      "source": [
        "What is the concept of generalization? What function does it play in the machine learning\n",
        "process?\n",
        "\n"
      ],
      "metadata": {
        "id": "gTWk-aZukdij"
      }
    },
    {
      "cell_type": "markdown",
      "source": [
        "generalization - refers to your model's ability to adapt properly to new, previously unseen data,\n",
        "generalization is the process in which our model is able to give correct output according to the label.\n",
        "\n",
        "when we train our model and after that when we try to check our model for accuracy by using unseen points as input for the trained model and if its able to fit the model properly which means give expected answer correctly then.\n",
        "its a good fit and accuracy will be high.\n",
        "\n",
        "in ml loss function is responsible for reducing errror and regularization is used for penalizing the erros so genearlization can become betther cross validation can also be used. "
      ],
      "metadata": {
        "id": "VSTXwO1qkegt"
      }
    },
    {
      "cell_type": "markdown",
      "source": [
        "10.What is classification, exactly? What are the main distinctions between classification and regression?\n",
        "\n",
        "in classification we have discrete classes in which we have to classify the data points according to their properties that's classification.its a finite set of categories in which we put the points which satisfy the properties given in data learned by our model.\n",
        "\n",
        "in regression our target variable is continous y={1233.34,23431}, and in classification our target variable is discrete what it means is y = {0,1,2,3,4,5....}\n",
        "\n",
        "\n"
      ],
      "metadata": {
        "id": "2WH3h96djqAl"
      }
    },
    {
      "cell_type": "markdown",
      "source": [
        "11. What is regression, and how does it work? Give an example of a real-world problem that was\n",
        "solved using regression.\n",
        "\n",
        "egression is a statistical measurement that attempts to determine the strength of the relationship between one dependent variable.\n",
        "\n",
        "marketing- Understand the effectiveness of market campaigns, forecast pricing and sales of the product. \n",
        "\n",
        "we can predict house prices with regression . suppose given features such as area, rooms , city, hospital , floor .  are indepent features. selling_price is the target feature we have to predict the regression model will help us in that.\n",
        "\n",
        "\n"
      ],
      "metadata": {
        "id": "SkLOZCGgbfc7"
      }
    },
    {
      "cell_type": "code",
      "source": [
        ""
      ],
      "metadata": {
        "id": "THO7Z-D28Put"
      },
      "execution_count": null,
      "outputs": []
    },
    {
      "cell_type": "markdown",
      "source": [
        "12. Describe the clustering mechanism in detail."
      ],
      "metadata": {
        "id": "WHhcXQ7rSooE"
      }
    },
    {
      "cell_type": "markdown",
      "source": [
        ""
      ],
      "metadata": {
        "id": "KGDSo7yMSpnL"
      }
    },
    {
      "cell_type": "markdown",
      "source": [
        "clustering comes under unsupervised learning.we dont have no idea what our output will look so we try to find points having similar properties and making groups based on that.a group of points which have same characteristics to their nearest points  is called a group. these groups are not same each are different from each other we want distance between two groups max and distance between points to be closer.\n",
        "\n",
        "1.randomly intialize two points in the dataset which are called the cluster centroid.\n",
        "\n",
        "2.assign points into one of two groups based on which cluster centroid to which points is close to.\n",
        "\n",
        "3.compute the average for all the points inside each of the two cluster centroid groups , then move the cluster centroid points to those average..\n",
        "\n",
        "4.retrun 2 and 3 until we have found our cluster "
      ],
      "metadata": {
        "id": "aCXV0yTwSp8B"
      }
    },
    {
      "cell_type": "markdown",
      "source": [
        "13. Make brief observations on two of the following topics:\n",
        "\n",
        "i. Machine learning algorithms are used\n",
        "ii. Studying under supervision\n",
        "iii. Studying without supervision\n",
        "\n",
        "iv. Reinforcement learning is a form of learning based on positive reinforcement."
      ],
      "metadata": {
        "id": "pJrxhM9tFaD4"
      }
    },
    {
      "cell_type": "markdown",
      "source": [
        "machine learning is all about learning the mapping of input and output variable.each algorithm have same task .\n",
        "were given data x and y is our target variable make a model that can learn pattern from x and be able to predict correctly for future points.\n",
        "\n",
        "we have classification and regression in supervised form of learning.\n",
        "\n",
        "and unsupervised for clustering task\n",
        "\n",
        "reinforcement for training robots,self driving cars etc..\n",
        "\n",
        "in supervised we teach the computer how to do with help of labels\n",
        "\n",
        "in unsupervised model has to learn from itself.\n",
        "\n",
        "1. classification algorithms are used for classifying points according to their features and learnt from data to their respective class. logistic regression,  knn , naive bayes etc...\n",
        "\n",
        "2. regression algorithms continous data is given and we have to predict that.our target variable is not discrete which was case in classification.\n",
        "\n"
      ],
      "metadata": {
        "id": "MZAAlqcEFcet"
      }
    },
    {
      "cell_type": "markdown",
      "source": [
        "Reinforcement learning is a form of learning based on positive reinforcement.\n",
        "\n",
        "Reinforcement learning is learing based on positive and negative feedback given by us if the agent does what we expect we give positive reinforcement and agent will remember that for future and if the same conditions come it will take same actions for which it has got positive feedback .\n",
        "in reinforcement we have agent which is as equal to model and an environment and it observe environment and learns policy are called rules by which it works.\n",
        "\n",
        "if a robot learns to walk straight we will have to show it firstly how its done.\n",
        "then this will try to learn and try to mimic and if it take correct steps it will be rewarded by positive feedback and if not then negative feedback will be forwarded.\n",
        "\n"
      ],
      "metadata": {
        "id": "2TuKdjv9RMsL"
      }
    },
    {
      "cell_type": "markdown",
      "source": [
        ""
      ],
      "metadata": {
        "id": "CDFobrxNReq7"
      }
    },
    {
      "cell_type": "code",
      "source": [
        "\n"
      ],
      "metadata": {
        "id": "_LAxbC1-Fad1"
      },
      "execution_count": null,
      "outputs": []
    }
  ]
}