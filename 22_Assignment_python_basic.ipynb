{
  "nbformat": 4,
  "nbformat_minor": 0,
  "metadata": {
    "colab": {
      "name": "22_Assignment_python_basic.ipynb",
      "provenance": [],
      "authorship_tag": "ABX9TyOXRXSL4sPrN8Dy8ESKbmt0",
      "include_colab_link": true
    },
    "kernelspec": {
      "name": "python3",
      "display_name": "Python 3"
    },
    "language_info": {
      "name": "python"
    }
  },
  "cells": [
    {
      "cell_type": "markdown",
      "metadata": {
        "id": "view-in-github",
        "colab_type": "text"
      },
      "source": [
        "<a href=\"https://colab.research.google.com/github/shuklasid19/homework1/blob/main/22_Assignment_python_basic.ipynb\" target=\"_parent\"><img src=\"https://colab.research.google.com/assets/colab-badge.svg\" alt=\"Open In Colab\"/></a>"
      ]
    },
    {
      "cell_type": "code",
      "execution_count": 2,
      "metadata": {
        "colab": {
          "base_uri": "https://localhost:8080/"
        },
        "id": "41UqcIHrRPS-",
        "outputId": "38bb842a-1922-4502-de2f-37caac5068d1"
      },
      "outputs": [
        {
          "output_type": "stream",
          "name": "stdout",
          "text": [
            "Object `explain` not found.\n"
          ]
        }
      ],
      "source": [
        "1. What is the result of the code, and explain?"
      ]
    },
    {
      "cell_type": "markdown",
      "source": [
        ""
      ],
      "metadata": {
        "id": "A40Na5VARalf"
      }
    },
    {
      "cell_type": "code",
      "source": [
        "X = 'iNeuron'\n",
        "def func():\n",
        "  print(X)"
      ],
      "metadata": {
        "id": "qy1Lfxw3Rb3z"
      },
      "execution_count": 3,
      "outputs": []
    },
    {
      "cell_type": "code",
      "source": [
        "func()"
      ],
      "metadata": {
        "colab": {
          "base_uri": "https://localhost:8080/"
        },
        "id": "2qNUfAukRifz",
        "outputId": "b9f96017-869c-4dc3-91ff-d5aeff25ed62"
      },
      "execution_count": 4,
      "outputs": [
        {
          "output_type": "stream",
          "name": "stdout",
          "text": [
            "iNeuron\n"
          ]
        }
      ]
    },
    {
      "cell_type": "code",
      "source": [
        "#we defined a variable x which is global so would be accessible\n",
        "#from anywhere and then we called the function to print the var"
      ],
      "metadata": {
        "id": "AqnLfiv1RkUs"
      },
      "execution_count": null,
      "outputs": []
    },
    {
      "cell_type": "code",
      "source": [
        "2. What is the result of the code, and explain?"
      ],
      "metadata": {
        "colab": {
          "base_uri": "https://localhost:8080/"
        },
        "id": "qFyEMwhGRzrI",
        "outputId": "5a0d0f28-0bbd-448d-9ab9-cba0ad7b1ed2"
      },
      "execution_count": 25,
      "outputs": [
        {
          "output_type": "stream",
          "name": "stdout",
          "text": [
            "Object `explain` not found.\n"
          ]
        }
      ]
    },
    {
      "cell_type": "code",
      "source": [
        "X = 'iNeuron'\n",
        "def func():\n",
        "  X = 'NI!'\n",
        "\n",
        "\n",
        "func()\n",
        "print(X)"
      ],
      "metadata": {
        "colab": {
          "base_uri": "https://localhost:8080/"
        },
        "id": "uUCTWE2sR2DU",
        "outputId": "25c63496-444c-4e95-d16f-c260fa35a54b"
      },
      "execution_count": 40,
      "outputs": [
        {
          "output_type": "stream",
          "name": "stdout",
          "text": [
            "iNeuron\n"
          ]
        }
      ]
    },
    {
      "cell_type": "markdown",
      "source": [
        "\n",
        "\n",
        "```\n",
        "# were just calling the function but not returning anything or pritinting so global var which is X='ineuron will get printed\n",
        "```\n",
        "\n"
      ],
      "metadata": {
        "id": "pmdKBYolbQd5"
      }
    },
    {
      "cell_type": "code",
      "source": [
        "3. What does this code print, and why?\n",
        "\n",
        "\n"
      ],
      "metadata": {
        "colab": {
          "base_uri": "https://localhost:8080/"
        },
        "id": "yd0N6JQlR-Ic",
        "outputId": "2561c6b9-295f-4b15-b479-e00b31ae6e0d"
      },
      "execution_count": 7,
      "outputs": [
        {
          "output_type": "stream",
          "name": "stdout",
          "text": [
            "mic inside\n",
            "alber outside\n"
          ]
        }
      ]
    },
    {
      "cell_type": "code",
      "source": [
        "X = 'iNeuron'\n",
        "def func():\n",
        "  X = 'NI'\n",
        "  print(X)\n",
        "\n",
        "\n",
        "func()\n",
        "print(X)\n"
      ],
      "metadata": {
        "colab": {
          "base_uri": "https://localhost:8080/"
        },
        "id": "L4dE6WeebPfP",
        "outputId": "2ad9c42b-0b2c-455a-a7fb-8fa5131c064c"
      },
      "execution_count": 42,
      "outputs": [
        {
          "output_type": "stream",
          "name": "stdout",
          "text": [
            "NI\n",
            "iNeuron\n"
          ]
        }
      ]
    },
    {
      "cell_type": "markdown",
      "source": [
        "\n",
        "\n",
        "```\n",
        "since were calling the function and wehave defined the X='Ni' so x will be binded to the local var and it will print 'NI' but outside of func x will not be accessible because it only for local scope which is X='NI\n",
        "\n",
        "but when we print X it prints the global var which is not binded to the func\n",
        "```\n",
        "\n"
      ],
      "metadata": {
        "id": "i5XNmF-ebqFO"
      }
    },
    {
      "cell_type": "code",
      "source": [
        "4. What output does this code produce? Why?\n",
        "\n",
        "\n"
      ],
      "metadata": {
        "id": "0936xqrocOcO"
      },
      "execution_count": null,
      "outputs": []
    },
    {
      "cell_type": "code",
      "source": [
        "X = 'iNeuron'\n",
        "def func():\n",
        "  global X\n",
        "  X = 'NI'\n",
        "\n",
        "\n",
        "func()\n",
        "print(X)"
      ],
      "metadata": {
        "colab": {
          "base_uri": "https://localhost:8080/"
        },
        "id": "RTi94Lo8cRGu",
        "outputId": "9d872c1e-2c6b-4949-cfed-d33e37aa0286"
      },
      "execution_count": 43,
      "outputs": [
        {
          "output_type": "stream",
          "name": "stdout",
          "text": [
            "NI\n"
          ]
        }
      ]
    },
    {
      "cell_type": "markdown",
      "source": [
        "\n",
        "\n",
        "```\n",
        "# the global keyword allows us to modify the variable outside of the current scope which is X\n",
        "and x will be printed 'NI'\n",
        "\n",
        "```\n",
        "\n"
      ],
      "metadata": {
        "id": "38-imbYWcaev"
      }
    },
    {
      "cell_type": "code",
      "source": [
        "\n",
        "5. What about this code—what’s the output, and why?"
      ],
      "metadata": {
        "colab": {
          "base_uri": "https://localhost:8080/"
        },
        "id": "4Qf8kyfVWV5N",
        "outputId": "bc9d4e62-2f92-43c6-aaeb-7e0dfddc361a"
      },
      "execution_count": 26,
      "outputs": [
        {
          "output_type": "stream",
          "name": "stdout",
          "text": [
            "Object `why` not found.\n"
          ]
        }
      ]
    },
    {
      "cell_type": "code",
      "source": [
        "\n",
        "X = 'iNeuron'\n",
        "def func():\n",
        "  X = 'NI'\n",
        "  print(X)\n",
        "  def nested():\n",
        "    print(X)\n",
        "    nested()\n",
        "\n",
        "\n",
        "func()\n",
        "X"
      ],
      "metadata": {
        "colab": {
          "base_uri": "https://localhost:8080/",
          "height": 53
        },
        "id": "medb_aN8WZP1",
        "outputId": "dc95670e-5860-4c16-ad90-34746cc1bc3a"
      },
      "execution_count": 44,
      "outputs": [
        {
          "output_type": "stream",
          "name": "stdout",
          "text": [
            "NI\n"
          ]
        },
        {
          "output_type": "execute_result",
          "data": {
            "application/vnd.google.colaboratory.intrinsic+json": {
              "type": "string"
            },
            "text/plain": [
              "'iNeuron'"
            ]
          },
          "metadata": {},
          "execution_count": 44
        }
      ]
    },
    {
      "cell_type": "markdown",
      "source": [
        "\n",
        "\n",
        "```\n",
        "# we have defined global var X = 'ineuron\n",
        "then inside function we have defined x = 'NI\n",
        "so when function is called then 'NI' will be printed \n",
        "and is global so ineuron will be printed it wont go inside nested \n",
        "otherwise x will be printed\n",
        "```\n",
        "\n"
      ],
      "metadata": {
        "id": "EDI8hN98WiQG"
      }
    },
    {
      "cell_type": "code",
      "source": [
        ""
      ],
      "metadata": {
        "id": "5J8NZS7MSIrC"
      },
      "execution_count": null,
      "outputs": []
    },
    {
      "cell_type": "code",
      "source": [
        "def func():\n",
        "  X = 'NI'\n",
        "  \n",
        "  def nested():\n",
        "    nonlocal X\n",
        "    X = 'Spam'\n",
        "    \n",
        "  nested()\n",
        "  print(X)\n",
        "\n",
        "\n",
        "func()"
      ],
      "metadata": {
        "colab": {
          "base_uri": "https://localhost:8080/"
        },
        "id": "5V65RHdxUHTV",
        "outputId": "cbb79051-e28b-4093-90e5-32c6e9b7de92"
      },
      "execution_count": 9,
      "outputs": [
        {
          "output_type": "stream",
          "name": "stdout",
          "text": [
            "Spam\n"
          ]
        }
      ]
    },
    {
      "cell_type": "code",
      "source": [
        "#in outer function of nested the nested wont be able to access that var\n",
        "#and we defined x as nonlocal so the x will be assigned as 'spam'\n",
        "#so when we call func x will be assigned 'NI' but\n",
        "# then it will go into nested "
      ],
      "metadata": {
        "id": "HS1KFLz2U0VZ"
      },
      "execution_count": null,
      "outputs": []
    },
    {
      "cell_type": "markdown",
      "source": [
        "not totally understand the problem"
      ],
      "metadata": {
        "id": "pwIni1IBUtHu"
      }
    },
    {
      "cell_type": "code",
      "source": [
        "def func():\n",
        "  X = 'NI'\n",
        "  def nested():\n",
        "    nonlocal X\n",
        "    X = 'Spam'\n",
        "    nested()\n",
        "    print(X)\n",
        "\n",
        "\n",
        "func()"
      ],
      "metadata": {
        "id": "Cp9mJZscUUcN"
      },
      "execution_count": 38,
      "outputs": []
    },
    {
      "cell_type": "code",
      "source": [
        "#so it will not print anything because were calling func \n",
        "#which will not go inside the nested function"
      ],
      "metadata": {
        "id": "umtw82TpVzho"
      },
      "execution_count": null,
      "outputs": []
    }
  ]
}