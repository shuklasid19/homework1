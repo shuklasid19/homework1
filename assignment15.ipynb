{
  "nbformat": 4,
  "nbformat_minor": 0,
  "metadata": {
    "colab": {
      "name": "assignment15.ipynb",
      "provenance": [],
      "authorship_tag": "ABX9TyOJJXY8EAoSKerHjdvHdlnO",
      "include_colab_link": true
    },
    "kernelspec": {
      "name": "python3",
      "display_name": "Python 3"
    },
    "language_info": {
      "name": "python"
    }
  },
  "cells": [
    {
      "cell_type": "markdown",
      "metadata": {
        "id": "view-in-github",
        "colab_type": "text"
      },
      "source": [
        "<a href=\"https://colab.research.google.com/github/shuklasid19/homework1/blob/main/assignment15.ipynb\" target=\"_parent\"><img src=\"https://colab.research.google.com/assets/colab-badge.svg\" alt=\"Open In Colab\"/></a>"
      ]
    },
    {
      "cell_type": "code",
      "execution_count": null,
      "metadata": {
        "id": "CXGt8TP_r-M1"
      },
      "outputs": [],
      "source": [
        ""
      ]
    },
    {
      "cell_type": "markdown",
      "source": [
        "#### 1.How many seconds are in an hour? Use the interactive interpreter as a calculator and multiply the number of seconds in a minute (60) by the number of minutes in an hour (also 60)."
      ],
      "metadata": {
        "id": "aMElWzilsF4I"
      }
    },
    {
      "cell_type": "code",
      "source": [
        "print(60*60)"
      ],
      "metadata": {
        "colab": {
          "base_uri": "https://localhost:8080/"
        },
        "id": "u6PY81qOsIck",
        "outputId": "4a0e9473-6d48-4a89-b9c6-6181017c17ea"
      },
      "execution_count": 1,
      "outputs": [
        {
          "output_type": "stream",
          "name": "stdout",
          "text": [
            "3600\n"
          ]
        }
      ]
    },
    {
      "cell_type": "markdown",
      "source": [
        "#### 2. Assign the result from the previous task (seconds in an hour) to a variable called seconds_per_hour."
      ],
      "metadata": {
        "id": "1PtMtz3HsCHX"
      }
    },
    {
      "cell_type": "code",
      "source": [
        "seconds_per_hour = 60*60\n",
        "print(seconds_per_hour)"
      ],
      "metadata": {
        "colab": {
          "base_uri": "https://localhost:8080/"
        },
        "id": "i3v2uuLDsNLq",
        "outputId": "7a2f842e-2b5e-4615-97ad-1bc48f2fd5f3"
      },
      "execution_count": 2,
      "outputs": [
        {
          "output_type": "stream",
          "name": "stdout",
          "text": [
            "3600\n"
          ]
        }
      ]
    },
    {
      "cell_type": "markdown",
      "source": [
        "#### 3. How many seconds do you think there are in a day? Make use of the variables seconds per hour and minutes per hour."
      ],
      "metadata": {
        "id": "spnGTveisSZ3"
      }
    },
    {
      "cell_type": "code",
      "source": [
        "minutes_per_hour = 60\n",
        "print(seconds_per_hour*24)"
      ],
      "metadata": {
        "colab": {
          "base_uri": "https://localhost:8080/"
        },
        "id": "09D7mslHsOk_",
        "outputId": "b22af4a8-f649-4bc3-e26a-9a84c26c7865"
      },
      "execution_count": 3,
      "outputs": [
        {
          "output_type": "stream",
          "name": "stdout",
          "text": [
            "86400\n"
          ]
        }
      ]
    },
    {
      "cell_type": "markdown",
      "source": [
        "#### 4. Calculate seconds per day again, but this time save the result in a variable called seconds_per_day\n"
      ],
      "metadata": {
        "id": "42EPO1RJsWrZ"
      }
    },
    {
      "cell_type": "code",
      "source": [
        "seconds_per_day = 24*60*60\n",
        "print(seconds_per_day)"
      ],
      "metadata": {
        "colab": {
          "base_uri": "https://localhost:8080/"
        },
        "id": "MeYQK_UcsTuk",
        "outputId": "04ebf748-5609-42d1-8895-0742bb9ee5c0"
      },
      "execution_count": 4,
      "outputs": [
        {
          "output_type": "stream",
          "name": "stdout",
          "text": [
            "86400\n"
          ]
        }
      ]
    },
    {
      "cell_type": "markdown",
      "source": [
        "#### 5. Divide seconds_per_day by seconds_per_hour. Use floating-point (/) division.\n"
      ],
      "metadata": {
        "id": "tTzdROd2sbYb"
      }
    },
    {
      "cell_type": "code",
      "source": [
        "print(seconds_per_day/seconds_per_hour)"
      ],
      "metadata": {
        "colab": {
          "base_uri": "https://localhost:8080/"
        },
        "id": "vxPjC046sYQ4",
        "outputId": "109a33fd-a1e4-4324-c574-fac4954a095b"
      },
      "execution_count": 5,
      "outputs": [
        {
          "output_type": "stream",
          "name": "stdout",
          "text": [
            "24.0\n"
          ]
        }
      ]
    },
    {
      "cell_type": "markdown",
      "source": [
        "#### 6. Divide seconds_per_day by seconds_per_hour, using integer (//) division. Did this number agree with the floating-point value from the previous question, aside from the final .0?"
      ],
      "metadata": {
        "id": "ADrG2fF3sgW8"
      }
    },
    {
      "cell_type": "code",
      "source": [
        "print(seconds_per_day//seconds_per_hour, end='')\n",
        "print(' -> yes this values agree with the floating point value from the previous question')"
      ],
      "metadata": {
        "colab": {
          "base_uri": "https://localhost:8080/"
        },
        "id": "2S_NCJgCsdpS",
        "outputId": "aac4d828-4d87-4224-d64c-0f4150fa3732"
      },
      "execution_count": 6,
      "outputs": [
        {
          "output_type": "stream",
          "name": "stdout",
          "text": [
            "24 -> yes this values agree with the floating point value from the previous question\n"
          ]
        }
      ]
    },
    {
      "cell_type": "markdown",
      "source": [
        "#### 7. Write a generator, genPrimes, that returns the sequence of prime numbers on successive calls to its next() method: 2, 3, 5, 7, 11, ..."
      ],
      "metadata": {
        "id": "TCJeV7pbsldG"
      }
    },
    {
      "cell_type": "code",
      "source": [
        "def genPrimes():\n",
        "    n = 0\n",
        "    while True:\n",
        "        if n == 2 or n == 3 :\n",
        "            yield n\n",
        "        elif ((n-1)%6 == 0 or (n+1)%6 == 0) and n !=1:\n",
        "            yield n\n",
        "        n = n+1\n",
        "        \n",
        "output = genPrimes()\n",
        "for ele in range(5):\n",
        "    print(next(output))"
      ],
      "metadata": {
        "colab": {
          "base_uri": "https://localhost:8080/"
        },
        "id": "jwV5QTGFsisJ",
        "outputId": "5c23374e-d46a-4f8a-ad70-819cb91d3745"
      },
      "execution_count": 7,
      "outputs": [
        {
          "output_type": "stream",
          "name": "stdout",
          "text": [
            "2\n",
            "3\n",
            "5\n",
            "7\n",
            "11\n"
          ]
        }
      ]
    },
    {
      "cell_type": "code",
      "source": [
        ""
      ],
      "metadata": {
        "id": "RfwtpW7RsneQ"
      },
      "execution_count": null,
      "outputs": []
    }
  ]
}