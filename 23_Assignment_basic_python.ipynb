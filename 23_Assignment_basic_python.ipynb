{
  "nbformat": 4,
  "nbformat_minor": 0,
  "metadata": {
    "colab": {
      "name": "23_Assignment_basic_python.ipynb",
      "provenance": [],
      "collapsed_sections": [],
      "authorship_tag": "ABX9TyPxyyheZGohY4fYc2WYxTyC",
      "include_colab_link": true
    },
    "kernelspec": {
      "name": "python3",
      "display_name": "Python 3"
    },
    "language_info": {
      "name": "python"
    }
  },
  "cells": [
    {
      "cell_type": "markdown",
      "metadata": {
        "id": "view-in-github",
        "colab_type": "text"
      },
      "source": [
        "<a href=\"https://colab.research.google.com/github/shuklasid19/homework1/blob/main/23_Assignment_basic_python.ipynb\" target=\"_parent\"><img src=\"https://colab.research.google.com/assets/colab-badge.svg\" alt=\"Open In Colab\"/></a>"
      ]
    },
    {
      "cell_type": "markdown",
      "source": [
        "1. What is the result of the code, and why?\n",
        ">>> def func(a, b=6, c=8):\n"
      ],
      "metadata": {
        "id": "5swr7mJX9hoE"
      }
    },
    {
      "cell_type": "code",
      "source": [
        "def func(a, b=6, c=8):\n",
        "  print(a, b, c)"
      ],
      "metadata": {
        "id": "ZI-guCAr9zUH"
      },
      "execution_count": null,
      "outputs": []
    },
    {
      "cell_type": "code",
      "source": [
        "func(1,2)"
      ],
      "metadata": {
        "colab": {
          "base_uri": "https://localhost:8080/"
        },
        "id": "Rxr3fmSp9_H7",
        "outputId": "ff277c32-6035-4f5a-c594-49eb714b9d4e"
      },
      "execution_count": null,
      "outputs": [
        {
          "output_type": "stream",
          "name": "stdout",
          "text": [
            "1 2 8\n"
          ]
        }
      ]
    },
    {
      "cell_type": "markdown",
      "source": [
        "```\n",
        "#so when we defined the function we havent provided a \n",
        "but b ,c is also given \n",
        "so when we pass 1,2 . \n",
        "it will override the value for b and 1 will be assigned \n",
        "to a \n",
        "```\n",
        "\n"
      ],
      "metadata": {
        "id": "mbOPB5Eg9ycH"
      }
    },
    {
      "cell_type": "markdown",
      "source": [
        "2. What is the result of this code, and why?\n",
        ">>> def func(a, b, c=5):\n",
        "print(a, b, c)\n",
        ">>> func(1, c=3, b=2)\n",
        "\n"
      ],
      "metadata": {
        "id": "zxcntDyH9yeG"
      }
    },
    {
      "cell_type": "code",
      "source": [
        "def func(a, b, c=5):\n",
        "  print(a, b, c)\n",
        "\n",
        "func(1, c=3 , b=2)"
      ],
      "metadata": {
        "colab": {
          "base_uri": "https://localhost:8080/"
        },
        "id": "6LEbSB2qBbRy",
        "outputId": "87610f1c-92d0-4223-9cbe-9f5a1322a3ae"
      },
      "execution_count": null,
      "outputs": [
        {
          "output_type": "stream",
          "name": "stdout",
          "text": [
            "1 2 3\n"
          ]
        }
      ]
    },
    {
      "cell_type": "markdown",
      "source": [
        "\n",
        "\n",
        "```\n",
        "# whatever the parameters position are it doesnt matter\n",
        "a is not assigned anything same for b but c is but when we pass when we call the function itll override the given values beforehand\n",
        "a = 1\n",
        "b = 2\n",
        "c = 3\n",
        "#so when we pass values to func it will be assigned to provided parameters\n",
        "```\n",
        "\n"
      ],
      "metadata": {
        "id": "Y4cvl2V_Bo_-"
      }
    },
    {
      "cell_type": "markdown",
      "source": [
        "3. How about this code: what is its result, and why?\n",
        ">>> def func(a, *pargs):\n",
        "print(a, pargs)\n",
        ">>> func(1, 2, 3)"
      ],
      "metadata": {
        "id": "rpQVQmXdCTzw"
      }
    },
    {
      "cell_type": "code",
      "source": [
        "def func(a, *pargs):\n",
        "  print(a, pargs)\n",
        "  print(a)\n",
        "  print(pargs)\n",
        "\n",
        "func(1, 2, 3)\n"
      ],
      "metadata": {
        "colab": {
          "base_uri": "https://localhost:8080/"
        },
        "id": "r7Q10BJ9BlqL",
        "outputId": "0900ca64-9884-445e-b70f-01cda4d2ad85"
      },
      "execution_count": null,
      "outputs": [
        {
          "output_type": "stream",
          "name": "stdout",
          "text": [
            "1 (2, 3)\n",
            "1\n",
            "(2, 3)\n"
          ]
        }
      ]
    },
    {
      "cell_type": "code",
      "source": [
        "# the a parameter will be assigned 1 value which is 1\n",
        "#a = 1\n",
        "#but args can accept multiple values at a time so there are no other parameters\n",
        "#thats why 2,3 will be assigned in pargs\n",
        "#we can when we print it 1 is clearly outside the paranthesis.\n"
      ],
      "metadata": {
        "id": "_3j2VHzECc9B"
      },
      "execution_count": null,
      "outputs": []
    },
    {
      "cell_type": "markdown",
      "source": [
        "4. What does this code print, and why?\n",
        ">>> def func(a, **kargs):\n",
        "print(a, kargs)\n",
        ">>> func(a=1, c=3, b=2)\n"
      ],
      "metadata": {
        "id": "reNI9_y-xp-M"
      }
    },
    {
      "cell_type": "code",
      "source": [
        "def func(a, **kargs):\n",
        "  print(a, kargs)\n",
        "\n",
        "func(a=1, c=3, b=2)\n"
      ],
      "metadata": {
        "colab": {
          "base_uri": "https://localhost:8080/"
        },
        "id": "agJcme-Px8b8",
        "outputId": "10b9d86c-ee3e-46be-aaca-297e9a97efa8"
      },
      "execution_count": 1,
      "outputs": [
        {
          "output_type": "stream",
          "name": "stdout",
          "text": [
            "1 {'c': 3, 'b': 2}\n"
          ]
        }
      ]
    },
    {
      "cell_type": "markdown",
      "source": [
        "\n",
        "\n",
        "```\n",
        "#we have defined a and we have **kargs\n",
        "which takes keyword argument's thats why we got result in dictionary\n",
        "so when we call the function a will be assigned 1 and c and b will go to **kargs\n",
        "which will take them in key pair arguments.\n",
        "```\n",
        "\n"
      ],
      "metadata": {
        "id": "qCRdTSDlBalm"
      }
    },
    {
      "cell_type": "markdown",
      "source": [
        "5. What gets printed by this, and explain?\n",
        ">>> def func(a, b, c=8, d=5): print(a, b, c, d)\n",
        ">>> func(1, *(5, 6))\n"
      ],
      "metadata": {
        "id": "jMi5pASXzOKW"
      }
    },
    {
      "cell_type": "code",
      "source": [
        "def func(a, b, c=8, d=5): \n",
        "  print(a, b, c, d)\n",
        "\n",
        "func(1, *(5, 6))\n"
      ],
      "metadata": {
        "colab": {
          "base_uri": "https://localhost:8080/"
        },
        "id": "4B44khjgzQJL",
        "outputId": "bf9a6ec8-796d-4e05-a26e-f914248474f6"
      },
      "execution_count": 2,
      "outputs": [
        {
          "output_type": "stream",
          "name": "stdout",
          "text": [
            "1 5 6 5\n"
          ]
        }
      ]
    },
    {
      "cell_type": "markdown",
      "source": [
        "\n",
        "\n",
        "```\n",
        "a is defined and when we pass it will be assigned a=1\n",
        "so as we passed *args(5, 6) all values assigned will be overridden \n",
        "and these values will be assigned 5 ,6 ,5\n",
        "```\n",
        "\n"
      ],
      "metadata": {
        "id": "wudAipZ_zakJ"
      }
    },
    {
      "cell_type": "markdown",
      "source": [
        "6. what is the result of this, and explain?\n",
        ">>> def func(a, b, c): a = 2; b[0] = 'x'; c['a'] = 'y'\n",
        ">>> l=1; m=[1]; n={'a':0}\n",
        ">>> func(l, m, n)\n"
      ],
      "metadata": {
        "id": "Pu8OCL0RC-LS"
      }
    },
    {
      "cell_type": "code",
      "source": [
        "def func(a, b, c): \n",
        "  a = 2; b[0] = 'x'; c['a'] = 'y';\n",
        "  l=1; m=[1]; n={'a':0}\n",
        "\n",
        "func(l, m, n)\n",
        "\n"
      ],
      "metadata": {
        "colab": {
          "base_uri": "https://localhost:8080/",
          "height": 217
        },
        "id": "Ajvoo65FC_vS",
        "outputId": "3e962604-e143-4384-8e8b-400bec87ccfd"
      },
      "execution_count": 9,
      "outputs": [
        {
          "output_type": "error",
          "ename": "NameError",
          "evalue": "ignored",
          "traceback": [
            "\u001b[0;31m---------------------------------------------------------------------------\u001b[0m",
            "\u001b[0;31mNameError\u001b[0m                                 Traceback (most recent call last)",
            "\u001b[0;32m<ipython-input-9-1ea956958e0a>\u001b[0m in \u001b[0;36m<module>\u001b[0;34m()\u001b[0m\n\u001b[1;32m      3\u001b[0m   \u001b[0ml\u001b[0m\u001b[0;34m=\u001b[0m\u001b[0;36m1\u001b[0m\u001b[0;34m;\u001b[0m \u001b[0mm\u001b[0m\u001b[0;34m=\u001b[0m\u001b[0;34m[\u001b[0m\u001b[0;36m1\u001b[0m\u001b[0;34m]\u001b[0m\u001b[0;34m;\u001b[0m \u001b[0mn\u001b[0m\u001b[0;34m=\u001b[0m\u001b[0;34m{\u001b[0m\u001b[0;34m'a'\u001b[0m\u001b[0;34m:\u001b[0m\u001b[0;36m0\u001b[0m\u001b[0;34m}\u001b[0m\u001b[0;34m\u001b[0m\u001b[0;34m\u001b[0m\u001b[0m\n\u001b[1;32m      4\u001b[0m \u001b[0;34m\u001b[0m\u001b[0m\n\u001b[0;32m----> 5\u001b[0;31m \u001b[0mfunc\u001b[0m\u001b[0;34m(\u001b[0m\u001b[0ml\u001b[0m\u001b[0;34m,\u001b[0m \u001b[0mm\u001b[0m\u001b[0;34m,\u001b[0m \u001b[0mn\u001b[0m\u001b[0;34m)\u001b[0m\u001b[0;34m\u001b[0m\u001b[0;34m\u001b[0m\u001b[0m\n\u001b[0m\u001b[1;32m      6\u001b[0m \u001b[0;34m\u001b[0m\u001b[0m\n",
            "\u001b[0;31mNameError\u001b[0m: name 'l' is not defined"
          ]
        }
      ]
    },
    {
      "cell_type": "code",
      "source": [
        "#l is not defined in the function but were passing l in function as var\n",
        "#it will cause error because int assignment is not allwed\n",
        "#b[0] = 'x' same for c['a'] = 'y'\n",
        "#we havent defined list and were assignming values beforehand\n",
        "#we have only 3 parameters and were not "
      ],
      "metadata": {
        "id": "0cE5p29L2wdb"
      },
      "execution_count": null,
      "outputs": []
    }
  ]
}