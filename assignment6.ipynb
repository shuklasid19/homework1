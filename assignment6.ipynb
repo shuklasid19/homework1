{
  "nbformat": 4,
  "nbformat_minor": 0,
  "metadata": {
    "colab": {
      "name": "assignment6.ipynb",
      "provenance": [],
      "collapsed_sections": [],
      "authorship_tag": "ABX9TyPpDcOl7xw1IesIqLZPeAY3",
      "include_colab_link": true
    },
    "kernelspec": {
      "name": "python3",
      "display_name": "Python 3"
    },
    "language_info": {
      "name": "python"
    }
  },
  "cells": [
    {
      "cell_type": "markdown",
      "metadata": {
        "id": "view-in-github",
        "colab_type": "text"
      },
      "source": [
        "<a href=\"https://colab.research.google.com/github/shuklasid19/homework1/blob/main/assignment6.ipynb\" target=\"_parent\"><img src=\"https://colab.research.google.com/assets/colab-badge.svg\" alt=\"Open In Colab\"/></a>"
      ]
    },
    {
      "cell_type": "code",
      "execution_count": null,
      "metadata": {
        "id": "GRvZmYq2-OPQ"
      },
      "outputs": [],
      "source": [
        "\n",
        "\n",
        "\n",
        "\n",
        "\n",
        "\n"
      ]
    },
    {
      "cell_type": "markdown",
      "source": [
        "#1. What are escape characters, and how do you use them?\n",
        "Escape character allows us to include special characters"
      ],
      "metadata": {
        "id": "IGOKa8pH-1mZ"
      }
    },
    {
      "cell_type": "markdown",
      "source": [
        "\\ backslash\n",
        "' single quote\n",
        "\" double quote\n",
        "\\n adds newline\n",
        "\\b backspace"
      ],
      "metadata": {
        "id": "7vFouZATAw29"
      }
    },
    {
      "cell_type": "code",
      "source": [
        "a = 'theres a story behind it \\\"n\\\" it starts  '\n",
        "print(a)"
      ],
      "metadata": {
        "colab": {
          "base_uri": "https://localhost:8080/"
        },
        "id": "C81ufzMe_LfX",
        "outputId": "dcc398a9-a222-4189-af92-3a68327703e5"
      },
      "execution_count": 8,
      "outputs": [
        {
          "output_type": "stream",
          "name": "stdout",
          "text": [
            "theres a story behind it \"n\" it starts  \n"
          ]
        }
      ]
    },
    {
      "cell_type": "code",
      "source": [
        "s = \"my name is dumbo\\'s \"\n",
        "s"
      ],
      "metadata": {
        "colab": {
          "base_uri": "https://localhost:8080/",
          "height": 35
        },
        "id": "n_6KR8kPAFtU",
        "outputId": "05ec7075-2981-4239-bb99-f3a7db9738fd"
      },
      "execution_count": 10,
      "outputs": [
        {
          "output_type": "execute_result",
          "data": {
            "application/vnd.google.colaboratory.intrinsic+json": {
              "type": "string"
            },
            "text/plain": [
              "\"my name is dumbo's \""
            ]
          },
          "metadata": {},
          "execution_count": 10
        }
      ]
    },
    {
      "cell_type": "code",
      "source": [
        "\"my name is dumbo\\\"s \""
      ],
      "metadata": {
        "colab": {
          "base_uri": "https://localhost:8080/",
          "height": 35
        },
        "id": "fg2HRaz9AFwW",
        "outputId": "5074cf31-b332-4cef-eade-8b12a476c970"
      },
      "execution_count": 12,
      "outputs": [
        {
          "output_type": "execute_result",
          "data": {
            "application/vnd.google.colaboratory.intrinsic+json": {
              "type": "string"
            },
            "text/plain": [
              "'my name is dumbo\"s '"
            ]
          },
          "metadata": {},
          "execution_count": 12
        }
      ]
    },
    {
      "cell_type": "code",
      "source": [
        "print(\"my name is rainma\\n cause i got\\n name \")"
      ],
      "metadata": {
        "colab": {
          "base_uri": "https://localhost:8080/"
        },
        "id": "ChuhpXvpAbq2",
        "outputId": "aad0bdd6-836f-4e98-bfd2-2bcc0ff8c1e2"
      },
      "execution_count": 13,
      "outputs": [
        {
          "output_type": "stream",
          "name": "stdout",
          "text": [
            "my name is rainma\n",
            " cause i got\n",
            " name \n"
          ]
        }
      ]
    },
    {
      "cell_type": "code",
      "source": [
        "print(\"can i got a question \\t if i may\")"
      ],
      "metadata": {
        "colab": {
          "base_uri": "https://localhost:8080/"
        },
        "id": "-smTk6McAbt7",
        "outputId": "a09404fe-1acb-411c-de30-fb46bb00b8ef"
      },
      "execution_count": 14,
      "outputs": [
        {
          "output_type": "stream",
          "name": "stdout",
          "text": [
            "can i got a question \t if i may\n"
          ]
        }
      ]
    },
    {
      "cell_type": "markdown",
      "source": [
        "2. What do the escape characters n and t stand for?\n"
      ],
      "metadata": {
        "id": "-efhZ6Ye-1pm"
      }
    },
    {
      "cell_type": "code",
      "source": [
        "print(\"you find me offensive\\n i find u offensive\")\n",
        "#\\n adds new line in string\n",
        "#n=Newline\n",
        "#t= tab"
      ],
      "metadata": {
        "colab": {
          "base_uri": "https://localhost:8080/"
        },
        "id": "RnoQRAvqBJmC",
        "outputId": "b1d327c1-4fd9-419e-dfe5-91637d546ae0"
      },
      "execution_count": 19,
      "outputs": [
        {
          "output_type": "stream",
          "name": "stdout",
          "text": [
            "you find me offensive\n",
            " i find u offensive\n",
            "it just getting\t expensive\n"
          ]
        }
      ]
    },
    {
      "cell_type": "code",
      "source": [
        "print(\"it just getting\\t\\t\\t expensive\")\n",
        "#it stands for tab space"
      ],
      "metadata": {
        "colab": {
          "base_uri": "https://localhost:8080/"
        },
        "id": "qwaRWB9sBeEi",
        "outputId": "affd9e21-0379-4b1f-bcb7-dae68edfb9d5"
      },
      "execution_count": 22,
      "outputs": [
        {
          "output_type": "stream",
          "name": "stdout",
          "text": [
            "it just getting\t\t\t expensive\n"
          ]
        }
      ]
    },
    {
      "cell_type": "code",
      "source": [
        "3. What is the way to include backslash characters in a string?"
      ],
      "metadata": {
        "id": "h6VIu4hOBrsF"
      },
      "execution_count": null,
      "outputs": []
    },
    {
      "cell_type": "code",
      "source": [
        "print(\"im back eh im\\\\through it backeh\")"
      ],
      "metadata": {
        "colab": {
          "base_uri": "https://localhost:8080/"
        },
        "id": "uQ32gmYEBubv",
        "outputId": "ca353ced-a0cd-43d9-f5be-24cd879906a5"
      },
      "execution_count": 27,
      "outputs": [
        {
          "output_type": "stream",
          "name": "stdout",
          "text": [
            "im back eh im\\through it backeh\n"
          ]
        }
      ]
    },
    {
      "cell_type": "markdown",
      "source": [
        "4. The string \"Howl's Moving Castle\" is a correct value. Why isn't the single quote character in the word Howl's not escaped a problem?\n"
      ],
      "metadata": {
        "id": "zIgq4OLuBtZq"
      }
    },
    {
      "cell_type": "code",
      "source": [
        "print(\"howl's moving castle\")\n",
        "#because it has double quotes and it doesnt create problem\n",
        "# the whole string will be considered in double quotes\n"
      ],
      "metadata": {
        "colab": {
          "base_uri": "https://localhost:8080/"
        },
        "id": "zfKuoB8sCrR8",
        "outputId": "dc778b89-4253-47ab-9db7-e1ed1ba25738"
      },
      "execution_count": 28,
      "outputs": [
        {
          "output_type": "stream",
          "name": "stdout",
          "text": [
            "howl's moving castle\n"
          ]
        }
      ]
    },
    {
      "cell_type": "markdown",
      "source": [
        "\n",
        "5. How do you write a string of newlines if you don't want to use the n character?"
      ],
      "metadata": {
        "id": "JL0fXFiGBIlP"
      }
    },
    {
      "cell_type": "code",
      "source": [
        "print(\"slim shady \" , end=\"\")\n",
        "print(\"is eminem\")"
      ],
      "metadata": {
        "colab": {
          "base_uri": "https://localhost:8080/"
        },
        "id": "mN7MAefnDeKn",
        "outputId": "53fefffe-11c8-4dc7-cd8b-936db5f77fd2"
      },
      "execution_count": 29,
      "outputs": [
        {
          "output_type": "stream",
          "name": "stdout",
          "text": [
            "slim shady is eminem\n"
          ]
        }
      ]
    },
    {
      "cell_type": "markdown",
      "source": [
        "6. What are the values of the given expressions?\n",
        "\n",
        "\n",
        "'Hello, world!'[1] = e\n",
        "\n",
        "'Hello, world!'[0:5] = Hello\n",
        "\n",
        "'Hello, world!'[:5]= Hello \n",
        "\n",
        "\n",
        "'Hello, world!'[3:] = lo, world!\n"
      ],
      "metadata": {
        "id": "oo72ltnZ-1ry"
      }
    },
    {
      "cell_type": "markdown",
      "source": [
        "7. What are the values of the following expressions?\n",
        "\n",
        "'Hello'.upper() = HELLO\n",
        "\n",
        "\n",
        "'Hello'.upper().isupper() = True {check the condition is in upper case} \n",
        "\n",
        "\n",
        "'Hello'.upper().lower() = hello \n"
      ],
      "metadata": {
        "id": "myy01M1Q-1uK"
      }
    },
    {
      "cell_type": "code",
      "source": [
        "8. What are the values of the following expressions?\n",
        "'Remember, remember, the fifth of July.'.split() "
      ],
      "metadata": {
        "colab": {
          "base_uri": "https://localhost:8080/"
        },
        "id": "eylc83hPESFA",
        "outputId": "d0d6ac3a-a6d0-4e92-abcc-f8c1442bdd0b"
      },
      "execution_count": 30,
      "outputs": [
        {
          "output_type": "stream",
          "name": "stdout",
          "text": [
            "Object `expressions` not found.\n"
          ]
        },
        {
          "output_type": "execute_result",
          "data": {
            "text/plain": [
              "['Remember,', 'remember,', 'the', 'fifth', 'of', 'July.']"
            ]
          },
          "metadata": {},
          "execution_count": 30
        }
      ]
    },
    {
      "cell_type": "code",
      "source": [
        "'-'.join('There can only one.'.split())"
      ],
      "metadata": {
        "colab": {
          "base_uri": "https://localhost:8080/",
          "height": 35
        },
        "id": "nXaDrtFkEeHK",
        "outputId": "80548ca6-9d39-4936-b793-b149e425aeb6"
      },
      "execution_count": 31,
      "outputs": [
        {
          "output_type": "execute_result",
          "data": {
            "application/vnd.google.colaboratory.intrinsic+json": {
              "type": "string"
            },
            "text/plain": [
              "'There-can-only-one.'"
            ]
          },
          "metadata": {},
          "execution_count": 31
        }
      ]
    },
    {
      "cell_type": "code",
      "source": [
        ""
      ],
      "metadata": {
        "id": "TKI85uBKEkwe"
      },
      "execution_count": null,
      "outputs": []
    },
    {
      "cell_type": "markdown",
      "source": [
        "9. What are the methods for right-justifying, left-justifying, and centering a string?"
      ],
      "metadata": {
        "id": "xCDHDVHKEqXx"
      }
    },
    {
      "cell_type": "code",
      "source": [
        "a = \"im un prepared\"\n",
        "print(\"i've given up the way :\\n \", a.center(40))\n"
      ],
      "metadata": {
        "colab": {
          "base_uri": "https://localhost:8080/"
        },
        "id": "DszGOvgmE5pT",
        "outputId": "040adb15-5373-4291-a1cd-0c08bb794b35"
      },
      "execution_count": 33,
      "outputs": [
        {
          "output_type": "stream",
          "name": "stdout",
          "text": [
            "i've given up the way :\n",
            "               im un prepared             \n"
          ]
        }
      ]
    },
    {
      "cell_type": "code",
      "source": [
        "print(\"i've given up the way :\\n \", a.ljust(40, '-'))"
      ],
      "metadata": {
        "colab": {
          "base_uri": "https://localhost:8080/"
        },
        "id": "6Rg59SCqFbsO",
        "outputId": "47ae7848-d54d-4b99-9f64-1405f3df841e"
      },
      "execution_count": 35,
      "outputs": [
        {
          "output_type": "stream",
          "name": "stdout",
          "text": [
            "i've given up the way :\n",
            "  im un prepared--------------------------\n"
          ]
        }
      ]
    },
    {
      "cell_type": "code",
      "source": [
        "print(\"i've given up the way :\\n \", a.rjust(40, '-'))"
      ],
      "metadata": {
        "colab": {
          "base_uri": "https://localhost:8080/"
        },
        "id": "z8FeYelIFbvR",
        "outputId": "7c54c3b4-b9f0-4b67-9708-18ce13946bf0"
      },
      "execution_count": 36,
      "outputs": [
        {
          "output_type": "stream",
          "name": "stdout",
          "text": [
            "i've given up the way :\n",
            "  --------------------------im un prepared\n"
          ]
        }
      ]
    },
    {
      "cell_type": "code",
      "source": [
        "\n",
        "10. What is the best way to remove whitespace characters from the start or end?\n",
        "#Strip() method Is best method to remove whitespace character from starting and ending."
      ],
      "metadata": {
        "colab": {
          "base_uri": "https://localhost:8080/"
        },
        "id": "YZbhXHboEq7N",
        "outputId": "f7139a3e-0dfd-4f9f-e6b5-9cc93f10eb7a"
      },
      "execution_count": 38,
      "outputs": [
        {
          "output_type": "stream",
          "name": "stdout",
          "text": [
            "Object `end` not found.\n"
          ]
        }
      ]
    },
    {
      "cell_type": "code",
      "source": [
        "\"    now this looks like for me so    \".strip(' ')"
      ],
      "metadata": {
        "colab": {
          "base_uri": "https://localhost:8080/",
          "height": 35
        },
        "id": "EbOeSmubFyc_",
        "outputId": "5dcf7fa6-c4ba-4268-bdd2-a2bbabc1b5ed"
      },
      "execution_count": 42,
      "outputs": [
        {
          "output_type": "execute_result",
          "data": {
            "application/vnd.google.colaboratory.intrinsic+json": {
              "type": "string"
            },
            "text/plain": [
              "'now this looks like for me so'"
            ]
          },
          "metadata": {},
          "execution_count": 42
        }
      ]
    },
    {
      "cell_type": "code",
      "source": [
        ""
      ],
      "metadata": {
        "id": "kqTfxrfyF9Z2"
      },
      "execution_count": null,
      "outputs": []
    }
  ]
}